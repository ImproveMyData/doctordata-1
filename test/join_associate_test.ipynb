{
 "cells": [
  {
   "cell_type": "code",
   "execution_count": 100,
   "metadata": {},
   "outputs": [],
   "source": [
    "import json\n",
    "import os\n",
    "import pandas as pd\n",
    "from difflib import SequenceMatcher\n",
    "import jellyfish\n",
    "from geopy.geocoders import Nominatim\n",
    "geolocator = Nominatim()"
   ]
  },
  {
   "cell_type": "code",
   "execution_count": 80,
   "metadata": {
    "collapsed": true
   },
   "outputs": [],
   "source": [
    "def similar(a, b):\n",
    "    return SequenceMatcher(None, a, b).ratio()\n",
    "\n",
    "def similar_jelly(a,b):\n",
    "    a = a.upper()\n",
    "    b = b.upper()\n",
    "    return jellyfish.jaro_distance(a,b)"
   ]
  },
  {
   "cell_type": "code",
   "execution_count": 5,
   "metadata": {},
   "outputs": [],
   "source": [
    "files = os.listdir()"
   ]
  },
  {
   "cell_type": "code",
   "execution_count": 6,
   "metadata": {
    "collapsed": true
   },
   "outputs": [],
   "source": [
    "with open('export (2).geojson') as f:\n",
    "    data = json.load(f)"
   ]
  },
  {
   "cell_type": "code",
   "execution_count": 96,
   "metadata": {},
   "outputs": [
    {
     "data": {
      "text/plain": [
       "{'geometry': {'coordinates': [-3.7073906, 40.4154017], 'type': 'Point'},\n",
       " 'id': 'node/48752947',\n",
       " 'properties': {'@id': 'node/48752947',\n",
       "  'addr:country': 'ES',\n",
       "  'artwork_type': 'statue',\n",
       "  'historic': 'monument',\n",
       "  'name': 'Estatua ecuestre de Felipe III',\n",
       "  'name:de': 'Reiterstandbild von Philipp III',\n",
       "  'name:es': 'Estatua ecuestre de Felipe III',\n",
       "  'name:it': 'Statua equestre di Felipe III',\n",
       "  'name:ko': '마요르광장',\n",
       "  'tourism': 'artwork'},\n",
       " 'type': 'Feature'}"
      ]
     },
     "execution_count": 96,
     "metadata": {},
     "output_type": "execute_result"
    }
   ],
   "source": [
    "data['features'][0]"
   ]
  },
  {
   "cell_type": "code",
   "execution_count": 9,
   "metadata": {
    "collapsed": true
   },
   "outputs": [],
   "source": [
    "ayuntamiento = pd.read_excel('anexo i monumentos (1).xls', skiprows=1, header=None)\n",
    "ayuntamiento.columns=['COD','TIPO','CALIF','TITULO','LOCALIZACION']\n",
    "ayuntamiento = ayuntamiento.set_index('COD')"
   ]
  },
  {
   "cell_type": "code",
   "execution_count": 93,
   "metadata": {},
   "outputs": [
    {
     "data": {
      "text/plain": [
       "'Estanques del Parterre'"
      ]
     },
     "execution_count": 93,
     "metadata": {},
     "output_type": "execute_result"
    }
   ],
   "source": [
    "data['features'][94]['properties']['name']"
   ]
  },
  {
   "cell_type": "code",
   "execution_count": 117,
   "metadata": {},
   "outputs": [
    {
     "data": {
      "text/html": [
       "<div>\n",
       "<style>\n",
       "    .dataframe thead tr:only-child th {\n",
       "        text-align: right;\n",
       "    }\n",
       "\n",
       "    .dataframe thead th {\n",
       "        text-align: left;\n",
       "    }\n",
       "\n",
       "    .dataframe tbody tr th {\n",
       "        vertical-align: top;\n",
       "    }\n",
       "</style>\n",
       "<table border=\"1\" class=\"dataframe\">\n",
       "  <thead>\n",
       "    <tr style=\"text-align: right;\">\n",
       "      <th></th>\n",
       "      <th>TIPO</th>\n",
       "      <th>CALIF</th>\n",
       "      <th>TITULO</th>\n",
       "      <th>LOCALIZACION</th>\n",
       "    </tr>\n",
       "    <tr>\n",
       "      <th>COD</th>\n",
       "      <th></th>\n",
       "      <th></th>\n",
       "      <th></th>\n",
       "      <th></th>\n",
       "    </tr>\n",
       "  </thead>\n",
       "  <tbody>\n",
       "    <tr>\n",
       "      <th>8022</th>\n",
       "      <td>1</td>\n",
       "      <td>EXC</td>\n",
       "      <td>FELIPE III</td>\n",
       "      <td>PZA. MAYOR</td>\n",
       "    </tr>\n",
       "  </tbody>\n",
       "</table>\n",
       "</div>"
      ],
      "text/plain": [
       "      TIPO CALIF      TITULO LOCALIZACION\n",
       "COD                                      \n",
       "8022     1   EXC  FELIPE III   PZA. MAYOR"
      ]
     },
     "execution_count": 117,
     "metadata": {},
     "output_type": "execute_result"
    }
   ],
   "source": [
    "ayuntamiento.loc[ayuntamiento.TITULO=='FELIPE III']"
   ]
  },
  {
   "cell_type": "code",
   "execution_count": 89,
   "metadata": {},
   "outputs": [
    {
     "name": "stdout",
     "output_type": "stream",
     "text": [
      "ALONSO III:10-0.8666666666666667\n",
      "CALDERON DE LA BARCA:19-0.8530501089324618\n",
      "CARLOS III:10-1.0\n",
      "CARLOS II:10-0.9666666666666667\n",
      "CONSTITUCION:5-0.8680555555555555\n",
      "JAIME I:56-1.0\n",
      "MIGUEL HIDALGO Y COSTILLA:35-0.8894444444444445\n",
      "MAESTRO AL:23-0.8583333333333334\n",
      "MIGUEL HERNANDEZ:37-0.8732843137254903\n",
      "MIGUEL HERNANDEZ:37-0.8732843137254903\n",
      "MIGUEL MOYA:86-1.0\n",
      "CARLOS III:10-1.0\n",
      "ESTANQUES GEMELOS DEL PARTERRE:94-0.8505050505050505\n",
      "GRUTA DEL LABERINTO:96-1.0\n",
      "GOYA:20-0.9333333333333332\n",
      "GOYA:52-1.0\n",
      "GOYA:20-0.9333333333333332\n",
      "GOYA:52-1.0\n",
      "PUERTA HUERTA DE LA SALUD:14-0.8993939393939394\n",
      "MIGUEL HERNANDEZ:37-0.8732843137254903\n",
      "PUERTA DEL ZARZON:64-0.8543417366946778\n",
      "CABEZA OLMECA:59-1.0\n",
      "ARBOL LÚDICO:61-0.9444444444444443\n",
      "ARBOL MEDIÁTICO:60-0.9555555555555556\n",
      "ISABEL LA CATÓLICA:47-0.8898635477582846\n"
     ]
    }
   ],
   "source": [
    "match = []\n",
    "for titulo in ayuntamiento.TITULO.values:\n",
    "    for item in range(len(data['features'])):\n",
    "        try:\n",
    "            if similar_jelly(titulo.upper(),multipleReplace(data['features'][item]['properties']['name'], wordDict) )>0.85:\n",
    "                print('{}:{}-{}'.format(titulo, item,similar_jelly(titulo,multipleReplace(data['features'][item]['properties']['name'], wordDict) )))\n",
    "        except:\n",
    "            pass"
   ]
  },
  {
   "cell_type": "code",
   "execution_count": 71,
   "metadata": {},
   "outputs": [
    {
     "data": {
      "text/plain": [
       "0.2898989898989899"
      ]
     },
     "execution_count": 71,
     "metadata": {},
     "output_type": "execute_result"
    }
   ],
   "source": [
    "similar_jelly(titulo,multipleReplace(data['features'][item]['properties']['name'], wordDict) )"
   ]
  },
  {
   "cell_type": "code",
   "execution_count": 32,
   "metadata": {
    "collapsed": true
   },
   "outputs": [],
   "source": [
    "def multipleReplace(text, wordDict):\n",
    "    for key in wordDict:\n",
    "        text = text.replace(key, wordDict[key])\n",
    "    return text"
   ]
  },
  {
   "cell_type": "code",
   "execution_count": 66,
   "metadata": {
    "collapsed": true
   },
   "outputs": [],
   "source": [
    "wordDict = {' los ':' ',' al ':' ',' de ':' ','Estatua de ':'','Monumento a ':'','Restos del ':'','Estatua a ':'','Silo de ':'', 'Puerta de ':'','Estatua':'','Monumento':'', ' a ':' '}\n"
   ]
  },
  {
   "cell_type": "code",
   "execution_count": 58,
   "metadata": {},
   "outputs": [
    {
     "data": {
      "text/plain": [
       "'Andrés Bello'"
      ]
     },
     "execution_count": 58,
     "metadata": {},
     "output_type": "execute_result"
    }
   ],
   "source": [
    "multipleReplace(data['features'][83]['properties']['name'], wordDict)"
   ]
  },
  {
   "cell_type": "code",
   "execution_count": 37,
   "metadata": {
    "collapsed": true
   },
   "outputs": [],
   "source": [
    "b = [9, 'house', 7, 6, 5]\n",
    "a = [1, 'house', 3, 4, 5]"
   ]
  },
  {
   "cell_type": "code",
   "execution_count": 47,
   "metadata": {},
   "outputs": [
    {
     "data": {
      "text/plain": [
       "{'house', 5}"
      ]
     },
     "execution_count": 47,
     "metadata": {},
     "output_type": "execute_result"
    }
   ],
   "source": [
    "set(a).intersection(b)"
   ]
  },
  {
   "cell_type": "code",
   "execution_count": 116,
   "metadata": {},
   "outputs": [
    {
     "data": {
      "text/plain": [
       "{'@id': 'node/48752947',\n",
       " 'addr:country': 'ES',\n",
       " 'artwork_type': 'statue',\n",
       " 'historic': 'monument',\n",
       " 'name': 'Estatua ecuestre de Felipe III',\n",
       " 'name:de': 'Reiterstandbild von Philipp III',\n",
       " 'name:es': 'Estatua ecuestre de Felipe III',\n",
       " 'name:it': 'Statua equestre di Felipe III',\n",
       " 'name:ko': '마요르광장',\n",
       " 'tourism': 'artwork'}"
      ]
     },
     "execution_count": 116,
     "metadata": {},
     "output_type": "execute_result"
    }
   ],
   "source": [
    "data['features'][0]['properties']"
   ]
  },
  {
   "cell_type": "code",
   "execution_count": 112,
   "metadata": {},
   "outputs": [],
   "source": [
    "lon,lat = data['features'][0]['geometry']['coordinates']\n",
    "coor= [lat,lon]"
   ]
  },
  {
   "cell_type": "code",
   "execution_count": 113,
   "metadata": {},
   "outputs": [],
   "source": [
    "location = geolocator.reverse(coor)"
   ]
  },
  {
   "cell_type": "code",
   "execution_count": 115,
   "metadata": {},
   "outputs": [
    {
     "data": {
      "text/plain": [
       "{'address': {'attraction': 'Plaza Mayor',\n",
       "  'city': 'Madrid',\n",
       "  'city_district': 'Centro',\n",
       "  'country': 'España',\n",
       "  'country_code': 'es',\n",
       "  'county': 'Área metropolitana de Madrid y Corredor del Henares',\n",
       "  'pedestrian': 'Plaza Mayor',\n",
       "  'postcode': '28005',\n",
       "  'state': 'Comunidad de Madrid',\n",
       "  'suburb': 'Barrio Sol'},\n",
       " 'boundingbox': ['40.4149888', '40.4158133', '-3.7081207', '-3.7066301'],\n",
       " 'display_name': 'Plaza Mayor, Barrio Sol, Centro, Madrid, Área metropolitana de Madrid y Corredor del Henares, Comunidad de Madrid, 28005, España',\n",
       " 'lat': '40.415392',\n",
       " 'licence': 'Data © OpenStreetMap contributors, ODbL 1.0. http://www.openstreetmap.org/copyright',\n",
       " 'lon': '-3.70737431906601',\n",
       " 'osm_id': '4263036',\n",
       " 'osm_type': 'way',\n",
       " 'place_id': '62129985'}"
      ]
     },
     "execution_count": 115,
     "metadata": {},
     "output_type": "execute_result"
    }
   ],
   "source": [
    "location.raw"
   ]
  },
  {
   "cell_type": "code",
   "execution_count": null,
   "metadata": {
    "collapsed": true
   },
   "outputs": [],
   "source": []
  }
 ],
 "metadata": {
  "kernelspec": {
   "display_name": "Python [conda root]",
   "language": "python",
   "name": "conda-root-py"
  },
  "language_info": {
   "codemirror_mode": {
    "name": "ipython",
    "version": 3
   },
   "file_extension": ".py",
   "mimetype": "text/x-python",
   "name": "python",
   "nbconvert_exporter": "python",
   "pygments_lexer": "ipython3",
   "version": "3.5.3"
  }
 },
 "nbformat": 4,
 "nbformat_minor": 2
}
