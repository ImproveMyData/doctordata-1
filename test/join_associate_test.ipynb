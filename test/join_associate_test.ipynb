{
 "cells": [
  {
   "cell_type": "code",
   "execution_count": 216,
   "metadata": {
    "collapsed": true
   },
   "outputs": [],
   "source": [
    "import json\n",
    "import os\n",
    "import pandas as pd\n",
    "from difflib import SequenceMatcher\n",
    "import jellyfish\n",
    "from geopy.geocoders import Nominatim\n",
    "geolocator = Nominatim()\n",
    "from geopy.distance import great_circle"
   ]
  },
  {
   "cell_type": "code",
   "execution_count": 217,
   "metadata": {
    "collapsed": true
   },
   "outputs": [],
   "source": [
    "def similar(a, b):\n",
    "    return SequenceMatcher(None, a, b).ratio()\n",
    "\n",
    "def similar_jelly(a,b):\n",
    "    a = a.upper()\n",
    "    b = b.upper()\n",
    "    return jellyfish.jaro_distance(a,b)"
   ]
  },
  {
   "cell_type": "code",
   "execution_count": 218,
   "metadata": {
    "collapsed": true
   },
   "outputs": [],
   "source": [
    "def multipleReplace(text, wordDict):\n",
    "    for key in wordDict:\n",
    "        text = text.replace(key, wordDict[key])\n",
    "    return text"
   ]
  },
  {
   "cell_type": "code",
   "execution_count": 219,
   "metadata": {
    "collapsed": true
   },
   "outputs": [],
   "source": [
    "wordDict = {' los ':' ',' al ':' ',' de ':' ','Estatua de ':'','Monumento a ':'','Restos del ':'','Estatua a ':'','Silo de ':'', 'Puerta de ':'','Estatua':'','Monumento':'', ' a ':' '}"
   ]
  },
  {
   "cell_type": "code",
   "execution_count": 220,
   "metadata": {
    "collapsed": true
   },
   "outputs": [],
   "source": [
    "files = os.listdir()"
   ]
  },
  {
   "cell_type": "code",
   "execution_count": 221,
   "metadata": {
    "collapsed": true
   },
   "outputs": [],
   "source": [
    "with open('export (2).geojson') as f:\n",
    "    data = json.load(f)"
   ]
  },
  {
   "cell_type": "code",
   "execution_count": 222,
   "metadata": {},
   "outputs": [
    {
     "data": {
      "text/plain": [
       "{'geometry': {'coordinates': [-3.7073906, 40.4154017], 'type': 'Point'},\n",
       " 'id': 'node/48752947',\n",
       " 'properties': {'@id': 'node/48752947',\n",
       "  'addr:country': 'ES',\n",
       "  'artwork_type': 'statue',\n",
       "  'historic': 'monument',\n",
       "  'name': 'Estatua ecuestre de Felipe III',\n",
       "  'name:de': 'Reiterstandbild von Philipp III',\n",
       "  'name:es': 'Estatua ecuestre de Felipe III',\n",
       "  'name:it': 'Statua equestre di Felipe III',\n",
       "  'name:ko': '마요르광장',\n",
       "  'tourism': 'artwork'},\n",
       " 'type': 'Feature'}"
      ]
     },
     "execution_count": 222,
     "metadata": {},
     "output_type": "execute_result"
    }
   ],
   "source": [
    "data['features'][0]"
   ]
  },
  {
   "cell_type": "code",
   "execution_count": 223,
   "metadata": {},
   "outputs": [
    {
     "data": {
      "text/plain": [
       "dict_keys(['name', '@id', 'historic', 'name:ko', 'name:it', 'addr:country', 'name:es', 'artwork_type', 'tourism', 'name:de'])"
      ]
     },
     "execution_count": 223,
     "metadata": {},
     "output_type": "execute_result"
    }
   ],
   "source": [
    "# Print keys\n",
    "data['features'][0]['properties'].keys()"
   ]
  },
  {
   "cell_type": "code",
   "execution_count": 224,
   "metadata": {
    "collapsed": true
   },
   "outputs": [],
   "source": [
    "ayuntamiento = pd.read_excel('anexo i monumentos (1).xls', skiprows=1, header=None)\n",
    "ayuntamiento.columns=['COD','TIPO','CALIF','TITULO','LOCALIZACION']\n",
    "ayuntamiento = ayuntamiento.set_index('COD')"
   ]
  },
  {
   "cell_type": "code",
   "execution_count": 225,
   "metadata": {},
   "outputs": [
    {
     "data": {
      "text/plain": [
       "'Estanques del Parterre'"
      ]
     },
     "execution_count": 225,
     "metadata": {},
     "output_type": "execute_result"
    }
   ],
   "source": [
    "data['features'][94]['properties']['name']"
   ]
  },
  {
   "cell_type": "code",
   "execution_count": 226,
   "metadata": {},
   "outputs": [
    {
     "data": {
      "text/html": [
       "<div>\n",
       "<style>\n",
       "    .dataframe thead tr:only-child th {\n",
       "        text-align: right;\n",
       "    }\n",
       "\n",
       "    .dataframe thead th {\n",
       "        text-align: left;\n",
       "    }\n",
       "\n",
       "    .dataframe tbody tr th {\n",
       "        vertical-align: top;\n",
       "    }\n",
       "</style>\n",
       "<table border=\"1\" class=\"dataframe\">\n",
       "  <thead>\n",
       "    <tr style=\"text-align: right;\">\n",
       "      <th></th>\n",
       "      <th>TIPO</th>\n",
       "      <th>CALIF</th>\n",
       "      <th>TITULO</th>\n",
       "      <th>LOCALIZACION</th>\n",
       "    </tr>\n",
       "    <tr>\n",
       "      <th>COD</th>\n",
       "      <th></th>\n",
       "      <th></th>\n",
       "      <th></th>\n",
       "      <th></th>\n",
       "    </tr>\n",
       "  </thead>\n",
       "  <tbody>\n",
       "    <tr>\n",
       "      <th>8022</th>\n",
       "      <td>1</td>\n",
       "      <td>EXC</td>\n",
       "      <td>FELIPE III</td>\n",
       "      <td>PZA. MAYOR</td>\n",
       "    </tr>\n",
       "  </tbody>\n",
       "</table>\n",
       "</div>"
      ],
      "text/plain": [
       "      TIPO CALIF      TITULO LOCALIZACION\n",
       "COD                                      \n",
       "8022     1   EXC  FELIPE III   PZA. MAYOR"
      ]
     },
     "execution_count": 226,
     "metadata": {},
     "output_type": "execute_result"
    }
   ],
   "source": [
    "ayuntamiento.loc[ayuntamiento.TITULO=='FELIPE III']"
   ]
  },
  {
   "cell_type": "code",
   "execution_count": 227,
   "metadata": {},
   "outputs": [
    {
     "name": "stdout",
     "output_type": "stream",
     "text": [
      "CALDERON DE LA BARCA:19-0.8530501089324618\n",
      "CARLOS III:10-0.9696969696969697\n",
      "CARLOS II:10-0.9393939393939394\n",
      "CONSTITUCION:5-0.8680555555555555\n",
      "JAIME I:56-1.0\n",
      "MIGUEL HIDALGO Y COSTILLA:35-0.8894444444444445\n",
      "MAESTRO AL:23-0.8583333333333334\n",
      "MIGUEL HERNANDEZ:37-0.8732843137254903\n",
      "MIGUEL HERNANDEZ:37-0.8732843137254903\n",
      "MIGUEL MOYA:86-1.0\n",
      "CARLOS III:10-0.9696969696969697\n",
      "ESTANQUES GEMELOS DEL PARTERRE:94-0.8505050505050505\n",
      "GRUTA DEL LABERINTO:96-1.0\n",
      "GOYA:20-0.9333333333333332\n",
      "GOYA:52-0.9333333333333332\n",
      "GOYA:20-0.9333333333333332\n",
      "GOYA:52-0.9333333333333332\n",
      "PUERTA HUERTA DE LA SALUD:14-0.8993939393939394\n",
      "MIGUEL HERNANDEZ:37-0.8732843137254903\n",
      "PUERTA DEL ZARZON:64-0.8543417366946778\n",
      "CABEZA OLMECA:59-1.0\n",
      "ARBOL LÚDICO:61-0.9444444444444443\n",
      "ARBOL MEDIÁTICO:60-0.9555555555555556\n",
      "ISABEL LA CATÓLICA:47-0.8898635477582846\n"
     ]
    }
   ],
   "source": [
    "match = []\n",
    "for titulo in ayuntamiento.TITULO.values:\n",
    "    for item in range(len(data['features'])):\n",
    "        try:\n",
    "            if similar_jelly(titulo.upper(),multipleReplace(data['features'][item]['properties']['name'], wordDict) )>0.85:\n",
    "                print('{}:{}-{}'.format(titulo, item,similar_jelly(titulo,multipleReplace(data['features'][item]['properties']['name'], wordDict) )))\n",
    "        except:\n",
    "            pass"
   ]
  },
  {
   "cell_type": "code",
   "execution_count": 230,
   "metadata": {},
   "outputs": [],
   "source": [
    "ayuntamiento['OSM'] = None"
   ]
  },
  {
   "cell_type": "code",
   "execution_count": 231,
   "metadata": {},
   "outputs": [
    {
     "data": {
      "text/plain": [
       "COD\n",
       "8001    None\n",
       "8002    None\n",
       "8003    None\n",
       "8004    None\n",
       "8005    None\n",
       "8006    None\n",
       "8007    None\n",
       "8008    None\n",
       "8009    None\n",
       "8010    None\n",
       "8011    None\n",
       "8012    None\n",
       "8013    None\n",
       "8014    None\n",
       "8015    None\n",
       "8016    None\n",
       "8017    None\n",
       "8018    None\n",
       "8019    None\n",
       "8021    None\n",
       "8022    None\n",
       "8023    None\n",
       "8023    None\n",
       "8024    None\n",
       "8025    None\n",
       "8026    None\n",
       "8027    None\n",
       "8028    None\n",
       "8029    None\n",
       "8031    None\n",
       "        ... \n",
       "9886    None\n",
       "9887    None\n",
       "9888    None\n",
       "9889    None\n",
       "9891    None\n",
       "9892    None\n",
       "9893    None\n",
       "9894    None\n",
       "9895    None\n",
       "9896    None\n",
       "9897    None\n",
       "9898    None\n",
       "9899    None\n",
       "9900    None\n",
       "9901    None\n",
       "9902    None\n",
       "9903    None\n",
       "9904    None\n",
       "9907    None\n",
       "9908    None\n",
       "9909    None\n",
       "9910    None\n",
       "9911    None\n",
       "9912    None\n",
       "9914    None\n",
       "9917    None\n",
       "9918    None\n",
       "9919    None\n",
       "9920    None\n",
       "9921    None\n",
       "Name: OSM, Length: 1733, dtype: object"
      ]
     },
     "execution_count": 231,
     "metadata": {},
     "output_type": "execute_result"
    }
   ],
   "source": [
    "ayuntamiento.OSM"
   ]
  },
  {
   "cell_type": "code",
   "execution_count": 204,
   "metadata": {},
   "outputs": [
    {
     "data": {
      "text/plain": [
       "' Andrés Bello'"
      ]
     },
     "execution_count": 204,
     "metadata": {},
     "output_type": "execute_result"
    }
   ],
   "source": [
    "#Test multiple Replace\n",
    "multipleReplace(data['features'][83]['properties']['name'], wordDict)"
   ]
  },
  {
   "cell_type": "code",
   "execution_count": 205,
   "metadata": {
    "collapsed": true
   },
   "outputs": [],
   "source": [
    "b = [9, 'house', 7, 6, 5]\n",
    "a = [1, 'house', 3, 4, 5]"
   ]
  },
  {
   "cell_type": "code",
   "execution_count": 206,
   "metadata": {},
   "outputs": [
    {
     "data": {
      "text/plain": [
       "{'house', 5}"
      ]
     },
     "execution_count": 206,
     "metadata": {},
     "output_type": "execute_result"
    }
   ],
   "source": [
    "set(a).intersection(b)"
   ]
  },
  {
   "cell_type": "code",
   "execution_count": 207,
   "metadata": {},
   "outputs": [
    {
     "data": {
      "text/plain": [
       "{'@id': 'node/56179859',\n",
       " 'addr:country': 'ES',\n",
       " 'historic': 'monument',\n",
       " 'name': 'Monumento a José Calvo Sotelo'}"
      ]
     },
     "execution_count": 207,
     "metadata": {},
     "output_type": "execute_result"
    }
   ],
   "source": [
    "data['features'][1]['properties']"
   ]
  },
  {
   "cell_type": "code",
   "execution_count": 208,
   "metadata": {
    "collapsed": true
   },
   "outputs": [],
   "source": [
    "lon,lat = data['features'][56]['geometry']['coordinates']\n",
    "coor= [lat,lon]"
   ]
  },
  {
   "cell_type": "code",
   "execution_count": 209,
   "metadata": {
    "collapsed": true
   },
   "outputs": [],
   "source": [
    "location = geolocator.reverse(coor)"
   ]
  },
  {
   "cell_type": "code",
   "execution_count": 210,
   "metadata": {},
   "outputs": [
    {
     "data": {
      "text/plain": [
       "{'address': {'city': 'Madrid',\n",
       "  'city_district': 'Moncloa-Aravaca',\n",
       "  'country': 'España',\n",
       "  'country_code': 'es',\n",
       "  'county': 'Área metropolitana de Madrid y Corredor del Henares',\n",
       "  'monument': 'Jaime I',\n",
       "  'postcode': '28008',\n",
       "  'road': 'Calle de Francisco y Jacinto Alcántara',\n",
       "  'state': 'Comunidad de Madrid',\n",
       "  'suburb': 'Parque del Oeste'},\n",
       " 'boundingbox': ['40.429122', '40.429322', '-3.7240872', '-3.7238872'],\n",
       " 'display_name': 'Jaime I, Calle de Francisco y Jacinto Alcántara, Parque del Oeste, Moncloa-Aravaca, Madrid, Área metropolitana de Madrid y Corredor del Henares, Comunidad de Madrid, 28008, España',\n",
       " 'lat': '40.429222',\n",
       " 'licence': 'Data © OpenStreetMap contributors, ODbL 1.0. http://www.openstreetmap.org/copyright',\n",
       " 'lon': '-3.7239872',\n",
       " 'osm_id': '2601286032',\n",
       " 'osm_type': 'node',\n",
       " 'place_id': '27980661'}"
      ]
     },
     "execution_count": 210,
     "metadata": {},
     "output_type": "execute_result"
    }
   ],
   "source": [
    "location.raw"
   ]
  },
  {
   "cell_type": "code",
   "execution_count": 211,
   "metadata": {},
   "outputs": [],
   "source": [
    "def inside(coor, bbox):\n",
    "    try:\n",
    "        lat = float(coor[0])\n",
    "        lon =  float(coor[1])\n",
    "        bbox_lat0 =  float(bbox[0])\n",
    "        bbox_lat1 =  float(bbox[1])\n",
    "        bbox_lon0 =  float(bbox[2])\n",
    "        bbox_lon1 =  float(bbox[3])\n",
    "        if lat > bbox_lat0 and lat < bbox_lat1 and lon > bbox_lon0 and lon < bbox_lon1:\n",
    "            return True\n",
    "        else:\n",
    "            return False\n",
    "    except:\n",
    "        return \"not valid\""
   ]
  },
  {
   "cell_type": "code",
   "execution_count": 214,
   "metadata": {
    "collapsed": true
   },
   "outputs": [],
   "source": [
    "def getDistance(x1, x2):\n",
    "    return great_circle(x1, x2).kilometers*1000.0"
   ]
  },
  {
   "cell_type": "code",
   "execution_count": 215,
   "metadata": {},
   "outputs": [
    {
     "data": {
      "text/plain": [
       "37.28672579594546"
      ]
     },
     "execution_count": 215,
     "metadata": {},
     "output_type": "execute_result"
    }
   ],
   "source": [
    "x1 = [40.429222, -3.7239872]\n",
    "x2 = [test.iloc[0].Geo.latitude,test.iloc[0].Geo.longitude]\n",
    "getDistance(x1, x2)"
   ]
  },
  {
   "cell_type": "code",
   "execution_count": 188,
   "metadata": {},
   "outputs": [
    {
     "data": {
      "text/plain": [
       "False"
      ]
     },
     "execution_count": 188,
     "metadata": {},
     "output_type": "execute_result"
    }
   ],
   "source": [
    "inside([test.iloc[0].Geo.latitude,test.iloc[0].Geo.longitude],location.raw['boundingbox'])"
   ]
  },
  {
   "cell_type": "code",
   "execution_count": 185,
   "metadata": {},
   "outputs": [
    {
     "data": {
      "text/plain": [
       "'FRANCISCO Y JACINTO ALCANTARA'"
      ]
     },
     "execution_count": 185,
     "metadata": {},
     "output_type": "execute_result"
    }
   ],
   "source": [
    "ayuntamiento.iloc[482].LOCALIZACION"
   ]
  },
  {
   "cell_type": "code",
   "execution_count": 186,
   "metadata": {
    "collapsed": true
   },
   "outputs": [],
   "source": [
    "x = geolocator.geocode(ayuntamiento.iloc[482].LOCALIZACION+',Madrid')"
   ]
  },
  {
   "cell_type": "code",
   "execution_count": 187,
   "metadata": {},
   "outputs": [
    {
     "data": {
      "text/plain": [
       "Point(40.4295405, -3.7238498, 0.0)"
      ]
     },
     "execution_count": 187,
     "metadata": {},
     "output_type": "execute_result"
    }
   ],
   "source": [
    "x.point"
   ]
  },
  {
   "cell_type": "code",
   "execution_count": 174,
   "metadata": {},
   "outputs": [],
   "source": [
    "test = ayuntamiento[482:500]"
   ]
  },
  {
   "cell_type": "code",
   "execution_count": 175,
   "metadata": {},
   "outputs": [
    {
     "data": {
      "text/html": [
       "<div>\n",
       "<style>\n",
       "    .dataframe thead tr:only-child th {\n",
       "        text-align: right;\n",
       "    }\n",
       "\n",
       "    .dataframe thead th {\n",
       "        text-align: left;\n",
       "    }\n",
       "\n",
       "    .dataframe tbody tr th {\n",
       "        vertical-align: top;\n",
       "    }\n",
       "</style>\n",
       "<table border=\"1\" class=\"dataframe\">\n",
       "  <thead>\n",
       "    <tr style=\"text-align: right;\">\n",
       "      <th></th>\n",
       "      <th>TIPO</th>\n",
       "      <th>CALIF</th>\n",
       "      <th>TITULO</th>\n",
       "      <th>LOCALIZACION</th>\n",
       "    </tr>\n",
       "    <tr>\n",
       "      <th>COD</th>\n",
       "      <th></th>\n",
       "      <th></th>\n",
       "      <th></th>\n",
       "      <th></th>\n",
       "    </tr>\n",
       "  </thead>\n",
       "  <tbody>\n",
       "    <tr>\n",
       "      <th>8552</th>\n",
       "      <td>1</td>\n",
       "      <td>NaN</td>\n",
       "      <td>JAIME I</td>\n",
       "      <td>FRANCISCO Y JACINTO ALCANTARA</td>\n",
       "    </tr>\n",
       "    <tr>\n",
       "      <th>8553</th>\n",
       "      <td>1</td>\n",
       "      <td>NaN</td>\n",
       "      <td>MARISCAL SANTA CRUZ</td>\n",
       "      <td>AVDA. SENECA, (PARQUE DEL OESTE)</td>\n",
       "    </tr>\n",
       "    <tr>\n",
       "      <th>8554</th>\n",
       "      <td>1</td>\n",
       "      <td>NaN</td>\n",
       "      <td>MONTALVO JUAN</td>\n",
       "      <td>Pº. CAMOENS, (PARQUE DEL OESTE)</td>\n",
       "    </tr>\n",
       "    <tr>\n",
       "      <th>8555</th>\n",
       "      <td>1</td>\n",
       "      <td>EXC</td>\n",
       "      <td>ROSALES EDUARDO</td>\n",
       "      <td>Pº. PINTOR ROSALES</td>\n",
       "    </tr>\n",
       "    <tr>\n",
       "      <th>8556</th>\n",
       "      <td>1</td>\n",
       "      <td>NaN</td>\n",
       "      <td>SAGRADO CORAZON DE JESUS</td>\n",
       "      <td>CERRO DE GARABITAS, (CASA DE CAMPO)</td>\n",
       "    </tr>\n",
       "    <tr>\n",
       "      <th>8557</th>\n",
       "      <td>1</td>\n",
       "      <td>NaN</td>\n",
       "      <td>SAN MARTIN JOSE DE</td>\n",
       "      <td>GTA. GRAL. SAN MARTIN, (PARQUE DEL OESTE)</td>\n",
       "    </tr>\n",
       "    <tr>\n",
       "      <th>8558</th>\n",
       "      <td>1</td>\n",
       "      <td>NOT</td>\n",
       "      <td>SANTA BARBARA V. Y M.</td>\n",
       "      <td>PUENTE DE SAN FERNANDO, (RIO MANZANARES)</td>\n",
       "    </tr>\n",
       "    <tr>\n",
       "      <th>8559</th>\n",
       "      <td>1</td>\n",
       "      <td>NaN</td>\n",
       "      <td>SOR JUANA INES DE LA CRUZ</td>\n",
       "      <td>JARDIN FERRAZ-TEMPLO DEBOD</td>\n",
       "    </tr>\n",
       "    <tr>\n",
       "      <th>8560</th>\n",
       "      <td>1</td>\n",
       "      <td>NaN</td>\n",
       "      <td>VICENTE ALEIXANDRE</td>\n",
       "      <td>GTA. PRESIDENTE GARCIA MORENO</td>\n",
       "    </tr>\n",
       "    <tr>\n",
       "      <th>8561</th>\n",
       "      <td>2</td>\n",
       "      <td>NaN</td>\n",
       "      <td>WALT DISNEY</td>\n",
       "      <td>PARQUE ZOOLOGICO</td>\n",
       "    </tr>\n",
       "    <tr>\n",
       "      <th>8562</th>\n",
       "      <td>2</td>\n",
       "      <td>NOT</td>\n",
       "      <td>ARENAL CONCEPCION</td>\n",
       "      <td>Pº. MORET - Pº. PINTOR ROSALES (PARQUE DEL OESTE)</td>\n",
       "    </tr>\n",
       "    <tr>\n",
       "      <th>8563</th>\n",
       "      <td>2</td>\n",
       "      <td>NaN</td>\n",
       "      <td>CAIDOS DEL CUARTEL DE LA MONTAÑA</td>\n",
       "      <td>FERRAZ, (PARQUE DE LA MONTAÑA)</td>\n",
       "    </tr>\n",
       "    <tr>\n",
       "      <th>8564</th>\n",
       "      <td>2</td>\n",
       "      <td>NOT</td>\n",
       "      <td>CERVANTES MIGUEL DE</td>\n",
       "      <td>PZA. DE ESPAÑA</td>\n",
       "    </tr>\n",
       "    <tr>\n",
       "      <th>8565</th>\n",
       "      <td>2</td>\n",
       "      <td>NaN</td>\n",
       "      <td>VICTIMAS AVIACION MILITAR ESPAÑOLA</td>\n",
       "      <td>ESPLANADA CUARTEL GENERAL DEL AIRE</td>\n",
       "    </tr>\n",
       "    <tr>\n",
       "      <th>8566</th>\n",
       "      <td>2</td>\n",
       "      <td>NaN</td>\n",
       "      <td>EL PERRO</td>\n",
       "      <td>PARQUE ZOOLOGICO, (CASA DE CAMPO)</td>\n",
       "    </tr>\n",
       "    <tr>\n",
       "      <th>8567</th>\n",
       "      <td>2</td>\n",
       "      <td>NaN</td>\n",
       "      <td>ELENA FORTUN</td>\n",
       "      <td>PARQUE DEL OESTE</td>\n",
       "    </tr>\n",
       "    <tr>\n",
       "      <th>8568</th>\n",
       "      <td>2</td>\n",
       "      <td>NaN</td>\n",
       "      <td>ESCULTURA PUERTA DE MADRID</td>\n",
       "      <td>Pº. CAMOENS, (PARQUE DEL OESTE)</td>\n",
       "    </tr>\n",
       "    <tr>\n",
       "      <th>8570</th>\n",
       "      <td>2</td>\n",
       "      <td>NaN</td>\n",
       "      <td>FELIX RODRIGUEZ DE LA FUENTE</td>\n",
       "      <td>PARQUE ZOOLOGICO, (CASA DE CAMPO)</td>\n",
       "    </tr>\n",
       "  </tbody>\n",
       "</table>\n",
       "</div>"
      ],
      "text/plain": [
       "      TIPO CALIF                              TITULO  \\\n",
       "COD                                                    \n",
       "8552     1   NaN                             JAIME I   \n",
       "8553     1   NaN                 MARISCAL SANTA CRUZ   \n",
       "8554     1   NaN                       MONTALVO JUAN   \n",
       "8555     1   EXC                     ROSALES EDUARDO   \n",
       "8556     1   NaN            SAGRADO CORAZON DE JESUS   \n",
       "8557     1   NaN                  SAN MARTIN JOSE DE   \n",
       "8558     1   NOT               SANTA BARBARA V. Y M.   \n",
       "8559     1   NaN           SOR JUANA INES DE LA CRUZ   \n",
       "8560     1   NaN                  VICENTE ALEIXANDRE   \n",
       "8561     2   NaN                         WALT DISNEY   \n",
       "8562     2   NOT                   ARENAL CONCEPCION   \n",
       "8563     2   NaN    CAIDOS DEL CUARTEL DE LA MONTAÑA   \n",
       "8564     2   NOT                 CERVANTES MIGUEL DE   \n",
       "8565     2   NaN  VICTIMAS AVIACION MILITAR ESPAÑOLA   \n",
       "8566     2   NaN                            EL PERRO   \n",
       "8567     2   NaN                        ELENA FORTUN   \n",
       "8568     2   NaN          ESCULTURA PUERTA DE MADRID   \n",
       "8570     2   NaN        FELIX RODRIGUEZ DE LA FUENTE   \n",
       "\n",
       "                                           LOCALIZACION  \n",
       "COD                                                      \n",
       "8552                      FRANCISCO Y JACINTO ALCANTARA  \n",
       "8553                   AVDA. SENECA, (PARQUE DEL OESTE)  \n",
       "8554                    Pº. CAMOENS, (PARQUE DEL OESTE)  \n",
       "8555                                 Pº. PINTOR ROSALES  \n",
       "8556                CERRO DE GARABITAS, (CASA DE CAMPO)  \n",
       "8557          GTA. GRAL. SAN MARTIN, (PARQUE DEL OESTE)  \n",
       "8558           PUENTE DE SAN FERNANDO, (RIO MANZANARES)  \n",
       "8559                         JARDIN FERRAZ-TEMPLO DEBOD  \n",
       "8560                      GTA. PRESIDENTE GARCIA MORENO  \n",
       "8561                                   PARQUE ZOOLOGICO  \n",
       "8562  Pº. MORET - Pº. PINTOR ROSALES (PARQUE DEL OESTE)  \n",
       "8563                     FERRAZ, (PARQUE DE LA MONTAÑA)  \n",
       "8564                                     PZA. DE ESPAÑA  \n",
       "8565                 ESPLANADA CUARTEL GENERAL DEL AIRE  \n",
       "8566                  PARQUE ZOOLOGICO, (CASA DE CAMPO)  \n",
       "8567                                   PARQUE DEL OESTE  \n",
       "8568                    Pº. CAMOENS, (PARQUE DEL OESTE)  \n",
       "8570                  PARQUE ZOOLOGICO, (CASA DE CAMPO)  "
      ]
     },
     "execution_count": 175,
     "metadata": {},
     "output_type": "execute_result"
    }
   ],
   "source": [
    "test"
   ]
  },
  {
   "cell_type": "code",
   "execution_count": 176,
   "metadata": {},
   "outputs": [
    {
     "name": "stderr",
     "output_type": "stream",
     "text": [
      "/Users/raimundoabrillopez/anaconda/lib/python3.5/site-packages/ipykernel/__main__.py:1: SettingWithCopyWarning: \n",
      "A value is trying to be set on a copy of a slice from a DataFrame.\n",
      "Try using .loc[row_indexer,col_indexer] = value instead\n",
      "\n",
      "See the caveats in the documentation: http://pandas.pydata.org/pandas-docs/stable/indexing.html#indexing-view-versus-copy\n",
      "  if __name__ == '__main__':\n"
     ]
    }
   ],
   "source": [
    "test['Geo'] = test.LOCALIZACION"
   ]
  },
  {
   "cell_type": "code",
   "execution_count": 177,
   "metadata": {},
   "outputs": [
    {
     "name": "stderr",
     "output_type": "stream",
     "text": [
      "/Users/raimundoabrillopez/anaconda/lib/python3.5/site-packages/pandas/core/generic.py:3110: SettingWithCopyWarning: \n",
      "A value is trying to be set on a copy of a slice from a DataFrame.\n",
      "Try using .loc[row_indexer,col_indexer] = value instead\n",
      "\n",
      "See the caveats in the documentation: http://pandas.pydata.org/pandas-docs/stable/indexing.html#indexing-view-versus-copy\n",
      "  self[name] = value\n"
     ]
    }
   ],
   "source": [
    "test.Geo = test.Geo.apply(lambda x: tryGeo(x))"
   ]
  },
  {
   "cell_type": "code",
   "execution_count": 178,
   "metadata": {
    "collapsed": true
   },
   "outputs": [],
   "source": [
    "def tryGeo(value):\n",
    "    try:\n",
    "        return geolocator.geocode(value+',Madrid')\n",
    "    except:\n",
    "        return 0"
   ]
  },
  {
   "cell_type": "code",
   "execution_count": 179,
   "metadata": {},
   "outputs": [
    {
     "data": {
      "text/plain": [
       "COD\n",
       "8552    (Calle de Francisco y Jacinto Alcántara, Parqu...\n",
       "8553                                                 None\n",
       "8554                                                 None\n",
       "8555    (Pº Pintor Rosales - Romero Robledo, Paseo del...\n",
       "8556                                                 None\n",
       "8557                                                 None\n",
       "8558                                                 None\n",
       "8559                                                 None\n",
       "8560    (Glorieta Presidente García Moreno, Barrio Val...\n",
       "8561    (Parque Zoológico, Carretera del Zoo, Moncloa-...\n",
       "8562                                                 None\n",
       "8563                                                 None\n",
       "8564    (Plaza de España, Gran Vía, Barrio Universidad...\n",
       "8565                                                 None\n",
       "8566                                                 None\n",
       "8567    (Parque del Oeste, Moncloa-Aravaca, Madrid, Ár...\n",
       "8568                                                 None\n",
       "8570                                                 None\n",
       "Name: Geo, dtype: object"
      ]
     },
     "execution_count": 179,
     "metadata": {},
     "output_type": "execute_result"
    }
   ],
   "source": [
    "test.Geo"
   ]
  },
  {
   "cell_type": "code",
   "execution_count": 180,
   "metadata": {},
   "outputs": [
    {
     "data": {
      "text/plain": [
       "Int64Index([8552, 8553, 8554, 8555, 8556, 8557, 8558, 8559, 8560, 8561, 8562,\n",
       "            8563, 8564, 8565, 8566, 8567, 8568, 8570],\n",
       "           dtype='int64', name='COD')"
      ]
     },
     "execution_count": 180,
     "metadata": {},
     "output_type": "execute_result"
    }
   ],
   "source": [
    "test.Geo.keys()"
   ]
  },
  {
   "cell_type": "code",
   "execution_count": 181,
   "metadata": {},
   "outputs": [
    {
     "data": {
      "text/plain": [
       "40.4295405"
      ]
     },
     "execution_count": 181,
     "metadata": {},
     "output_type": "execute_result"
    }
   ],
   "source": [
    "test.iloc[0].Geo.latitude"
   ]
  },
  {
   "cell_type": "code",
   "execution_count": null,
   "metadata": {
    "collapsed": true
   },
   "outputs": [],
   "source": []
  }
 ],
 "metadata": {
  "kernelspec": {
   "display_name": "Python [conda root]",
   "language": "python",
   "name": "conda-root-py"
  },
  "language_info": {
   "codemirror_mode": {
    "name": "ipython",
    "version": 3
   },
   "file_extension": ".py",
   "mimetype": "text/x-python",
   "name": "python",
   "nbconvert_exporter": "python",
   "pygments_lexer": "ipython3",
   "version": "3.5.3"
  }
 },
 "nbformat": 4,
 "nbformat_minor": 2
}
