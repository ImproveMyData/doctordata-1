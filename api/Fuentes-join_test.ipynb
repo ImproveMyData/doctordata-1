{
 "cells": [
  {
   "cell_type": "markdown",
   "metadata": {},
   "source": [
    "# Scripts que devuelve las diferencias entre los ficheros"
   ]
  },
  {
   "cell_type": "markdown",
   "metadata": {},
   "source": [
    "Importamos"
   ]
  },
  {
   "cell_type": "code",
   "execution_count": 23,
   "metadata": {
    "collapsed": true
   },
   "outputs": [],
   "source": [
    "import json\n",
    "import os\n",
    "import pandas as pd\n",
    "from difflib import SequenceMatcher\n",
    "import jellyfish\n",
    "from geopy.geocoders import Nominatim\n",
    "geolocator = Nominatim()\n",
    "from geopy.distance import great_circle\n",
    "import folium\n",
    "from folium.plugins import MarkerCluster\n",
    "from convertbng.util import convert_bng, convert_lonlat, convert_etrs89_to_lonlat"
   ]
  },
  {
   "cell_type": "code",
   "execution_count": 24,
   "metadata": {
    "collapsed": true
   },
   "outputs": [],
   "source": [
    "#Center coordinates\n",
    "SF_COORDINATES = (40.4168, -3.7038)\n",
    "\n",
    "# for speed purposes\n",
    "MAX_RECORDS = 10"
   ]
  },
  {
   "cell_type": "code",
   "execution_count": 25,
   "metadata": {
    "collapsed": true
   },
   "outputs": [],
   "source": [
    "def getDistance_meters(x,y):\n",
    "    try:\n",
    "        return great_circle(x, y).kilometers*1000.0\n",
    "    except:\n",
    "        return 0"
   ]
  },
  {
   "cell_type": "code",
   "execution_count": 26,
   "metadata": {
    "collapsed": true
   },
   "outputs": [],
   "source": [
    "os.chdir('/Volumes/MacintoshHD/_GitHub/doctordata/api/data/')"
   ]
  },
  {
   "cell_type": "markdown",
   "metadata": {},
   "source": [
    "Creamos un data para los datos de OSM"
   ]
  },
  {
   "cell_type": "code",
   "execution_count": 27,
   "metadata": {
    "collapsed": true
   },
   "outputs": [],
   "source": [
    "with open('drinking_water.geojson') as f:\n",
    "    OSM = json.load(f)\n",
    "f.close()"
   ]
  },
  {
   "cell_type": "code",
   "execution_count": 28,
   "metadata": {},
   "outputs": [
    {
     "data": {
      "text/plain": [
       "{'geometry': {'coordinates': [-3.6957228, 40.413707], 'type': 'Point'},\n",
       " 'id': 'node/167302670',\n",
       " 'properties': {'@id': 'node/167302670', 'amenity': 'drinking_water'},\n",
       " 'type': 'Feature'}"
      ]
     },
     "execution_count": 28,
     "metadata": {},
     "output_type": "execute_result"
    }
   ],
   "source": [
    "OSM['features'][0]"
   ]
  },
  {
   "cell_type": "markdown",
   "metadata": {},
   "source": [
    "Create searching arrays"
   ]
  },
  {
   "cell_type": "code",
   "execution_count": 29,
   "metadata": {},
   "outputs": [],
   "source": [
    "ids = [OSM['features'][i]['id'] for i in range(len(OSM['features']))]\n",
    "lat = [OSM['features'][i]['geometry']['coordinates'][1] for i in range(len(OSM['features']))]\n",
    "lon = [OSM['features'][i]['geometry']['coordinates'][0] for i in range(len(OSM['features']))]\n",
    "#name = [OSM['features'][i]['properties']['name'] for i in range(len(OSM['features']))]\n",
    "ayu = ids[:]"
   ]
  },
  {
   "cell_type": "markdown",
   "metadata": {},
   "source": [
    "Add ayuntamiento data"
   ]
  },
  {
   "cell_type": "code",
   "execution_count": 30,
   "metadata": {},
   "outputs": [
    {
     "data": {
      "text/html": [
       "<div>\n",
       "<style>\n",
       "    .dataframe thead tr:only-child th {\n",
       "        text-align: right;\n",
       "    }\n",
       "\n",
       "    .dataframe thead th {\n",
       "        text-align: left;\n",
       "    }\n",
       "\n",
       "    .dataframe tbody tr th {\n",
       "        vertical-align: top;\n",
       "    }\n",
       "</style>\n",
       "<table border=\"1\" class=\"dataframe\">\n",
       "  <thead>\n",
       "    <tr style=\"text-align: right;\">\n",
       "      <th></th>\n",
       "      <th>ZONA VERDE / VIA PUBLICA</th>\n",
       "      <th>DISTRITO</th>\n",
       "      <th>DIRECCION</th>\n",
       "      <th>COMPLEMENTO DE DIRECCIÓN</th>\n",
       "      <th>COORD. X</th>\n",
       "      <th>COORD. Y</th>\n",
       "      <th>SISTEMA DE COORDENADAS</th>\n",
       "      <th>ESTADO</th>\n",
       "      <th>OBSERVACIONES</th>\n",
       "      <th>FECHA DATOS</th>\n",
       "      <th>LONGITUD</th>\n",
       "      <th>LATITUD</th>\n",
       "      <th>id_OSM</th>\n",
       "      <th>lat_OSM</th>\n",
       "      <th>lon_OSM</th>\n",
       "      <th>coord_OSM</th>\n",
       "      <th>name_OSM</th>\n",
       "      <th>score_OSM</th>\n",
       "      <th>coord</th>\n",
       "    </tr>\n",
       "    <tr>\n",
       "      <th>CODIGO</th>\n",
       "      <th></th>\n",
       "      <th></th>\n",
       "      <th></th>\n",
       "      <th></th>\n",
       "      <th></th>\n",
       "      <th></th>\n",
       "      <th></th>\n",
       "      <th></th>\n",
       "      <th></th>\n",
       "      <th></th>\n",
       "      <th></th>\n",
       "      <th></th>\n",
       "      <th></th>\n",
       "      <th></th>\n",
       "      <th></th>\n",
       "      <th></th>\n",
       "      <th></th>\n",
       "      <th></th>\n",
       "      <th></th>\n",
       "    </tr>\n",
       "  </thead>\n",
       "  <tbody>\n",
       "    <tr>\n",
       "      <th>FUE_06-17_0000000113</th>\n",
       "      <td>VP</td>\n",
       "      <td>VILLAVERDE</td>\n",
       "      <td>AV. DE LOS ROSALES  407</td>\n",
       "      <td>NaN</td>\n",
       "      <td>443914.6707</td>\n",
       "      <td>4464487.999</td>\n",
       "      <td>ETRS89 / UTM  Zona 30N</td>\n",
       "      <td>EN SERVICIO</td>\n",
       "      <td>NaN</td>\n",
       "      <td>3-nov.-17</td>\n",
       "      <td>-3.660224</td>\n",
       "      <td>40.329044</td>\n",
       "      <td>NaN</td>\n",
       "      <td>NaN</td>\n",
       "      <td>NaN</td>\n",
       "      <td>NaN</td>\n",
       "      <td>NaN</td>\n",
       "      <td>NaN</td>\n",
       "      <td>(40.329, -3.66022)</td>\n",
       "    </tr>\n",
       "    <tr>\n",
       "      <th>FUE_06-17_0000000060</th>\n",
       "      <td>ZV</td>\n",
       "      <td>VILLAVERDE</td>\n",
       "      <td>INST. DEP. COL.  MARCONI</td>\n",
       "      <td>NaN</td>\n",
       "      <td>440662.8099</td>\n",
       "      <td>4465018.166</td>\n",
       "      <td>ETRS89 / UTM  Zona 30N</td>\n",
       "      <td>EN SERVICIO</td>\n",
       "      <td>NaN</td>\n",
       "      <td>3-nov.-17</td>\n",
       "      <td>-3.698551</td>\n",
       "      <td>40.333595</td>\n",
       "      <td>NaN</td>\n",
       "      <td>NaN</td>\n",
       "      <td>NaN</td>\n",
       "      <td>NaN</td>\n",
       "      <td>NaN</td>\n",
       "      <td>NaN</td>\n",
       "      <td>(40.3336, -3.69855)</td>\n",
       "    </tr>\n",
       "  </tbody>\n",
       "</table>\n",
       "</div>"
      ],
      "text/plain": [
       "                     ZONA VERDE / VIA PUBLICA    DISTRITO  \\\n",
       "CODIGO                                                      \n",
       "FUE_06-17_0000000113                       VP  VILLAVERDE   \n",
       "FUE_06-17_0000000060                       ZV  VILLAVERDE   \n",
       "\n",
       "                                     DIRECCION COMPLEMENTO DE DIRECCIÓN   \\\n",
       "CODIGO                                                                     \n",
       "FUE_06-17_0000000113   AV. DE LOS ROSALES  407                       NaN   \n",
       "FUE_06-17_0000000060  INST. DEP. COL.  MARCONI                       NaN   \n",
       "\n",
       "                         COORD. X     COORD. Y  SISTEMA DE COORDENADAS  \\\n",
       "CODIGO                                                                   \n",
       "FUE_06-17_0000000113  443914.6707  4464487.999  ETRS89 / UTM  Zona 30N   \n",
       "FUE_06-17_0000000060  440662.8099  4465018.166  ETRS89 / UTM  Zona 30N   \n",
       "\n",
       "                           ESTADO OBSERVACIONES FECHA DATOS  LONGITUD  \\\n",
       "CODIGO                                                                  \n",
       "FUE_06-17_0000000113  EN SERVICIO           NaN   3-nov.-17 -3.660224   \n",
       "FUE_06-17_0000000060  EN SERVICIO           NaN   3-nov.-17 -3.698551   \n",
       "\n",
       "                        LATITUD  id_OSM  lat_OSM  lon_OSM  coord_OSM  \\\n",
       "CODIGO                                                                 \n",
       "FUE_06-17_0000000113  40.329044     NaN      NaN      NaN        NaN   \n",
       "FUE_06-17_0000000060  40.333595     NaN      NaN      NaN        NaN   \n",
       "\n",
       "                      name_OSM  score_OSM                coord  \n",
       "CODIGO                                                          \n",
       "FUE_06-17_0000000113       NaN        NaN   (40.329, -3.66022)  \n",
       "FUE_06-17_0000000060       NaN        NaN  (40.3336, -3.69855)  "
      ]
     },
     "execution_count": 30,
     "metadata": {},
     "output_type": "execute_result"
    }
   ],
   "source": [
    "AYU = pd.read_csv('InventarioFuentes.csv', encoding='latin-1', delimiter=';',index_col=0)\n",
    "AYU.columns = [x.upper() for x in AYU.columns.values]\n",
    "AYU = AYU[AYU.LATITUD != 'Error']\n",
    "AYU = AYU[AYU.LONGITUD != 'Error']\n",
    "AYU.LATITUD = AYU.LATITUD.astype('float32')\n",
    "AYU.LONGITUD = AYU.LONGITUD.astype('float32')\n",
    "AYU = AYU.sort_values('LATITUD')\n",
    "AYU['id_OSM'] = pd.Series()\n",
    "AYU['lat_OSM'] = pd.Series()\n",
    "AYU['lon_OSM'] = pd.Series()\n",
    "AYU['coord_OSM'] = pd.Series()\n",
    "AYU['name_OSM'] = pd.Series()\n",
    "AYU['score_OSM'] = pd.Series()\n",
    "AYU['COORD. X'] = AYU['COORD. X'].apply(lambda x: float(x.replace(',','.')))\n",
    "AYU['COORD. Y'] = AYU['COORD. Y'].apply(lambda x: float(x.replace(',','.')))\n",
    "AYU['coord'] = list(zip(AYU.LATITUD, AYU.LONGITUD))\n",
    "AYU.head(2)"
   ]
  },
  {
   "cell_type": "code",
   "execution_count": 31,
   "metadata": {},
   "outputs": [],
   "source": [
    "def get_id(x):\n",
    "    try:\n",
    "        for i in range(len(ids)):\n",
    "            point = [lat[i],lon[i]]\n",
    "            if getDistance_meters(x,point) <3:\n",
    "                ayu[i] = x\n",
    "                return ids[i]\n",
    "        return 'No match'\n",
    "    except:\n",
    "        return 'No match'\n",
    "\n",
    "def get_close(x):\n",
    "    try:\n",
    "        for i in range(len(ids)):\n",
    "            point = [lat[i],lon[i]]\n",
    "            if getDistance_meters(x,point) <30:\n",
    "                ayu[i] = x\n",
    "                return ids[i]\n",
    "        return 'No match'\n",
    "    except:\n",
    "        return 'No match'\n",
    "    \n",
    "def get_lat(x):\n",
    "    try:\n",
    "        ind = ids.index(x)\n",
    "        return lat[ind]\n",
    "    except:\n",
    "        return None\n",
    "\n",
    "def get_lon(x):\n",
    "    try:\n",
    "        ind = ids.index(x)\n",
    "        return lon[ind]\n",
    "    except:\n",
    "        return None\n",
    "\n",
    "def get_name(x):\n",
    "    try:\n",
    "        ind = ids.index(x)\n",
    "        return name[ind]\n",
    "    except:\n",
    "        return None\n",
    "\n",
    "def get_score(x):\n",
    "    return getDistance_meters([x.lat_OSM, x.lon_OSM],[x.LATITUD, x.LONGITUD])\n",
    "\n"
   ]
  },
  {
   "cell_type": "code",
   "execution_count": 32,
   "metadata": {},
   "outputs": [],
   "source": [
    "AYU.id_OSM = AYU.coord.apply(lambda x: get_id(x)) \n",
    "AYU_NO = AYU[AYU.id_OSM == 'No match']\n",
    "AYU_OK = AYU[AYU.id_OSM != 'No match']"
   ]
  },
  {
   "cell_type": "code",
   "execution_count": 33,
   "metadata": {},
   "outputs": [
    {
     "data": {
      "text/html": [
       "<div>\n",
       "<style>\n",
       "    .dataframe thead tr:only-child th {\n",
       "        text-align: right;\n",
       "    }\n",
       "\n",
       "    .dataframe thead th {\n",
       "        text-align: left;\n",
       "    }\n",
       "\n",
       "    .dataframe tbody tr th {\n",
       "        vertical-align: top;\n",
       "    }\n",
       "</style>\n",
       "<table border=\"1\" class=\"dataframe\">\n",
       "  <thead>\n",
       "    <tr style=\"text-align: right;\">\n",
       "      <th></th>\n",
       "      <th>ZONA VERDE / VIA PUBLICA</th>\n",
       "      <th>DISTRITO</th>\n",
       "      <th>DIRECCION</th>\n",
       "      <th>COMPLEMENTO DE DIRECCIÓN</th>\n",
       "      <th>COORD. X</th>\n",
       "      <th>COORD. Y</th>\n",
       "      <th>SISTEMA DE COORDENADAS</th>\n",
       "      <th>ESTADO</th>\n",
       "      <th>OBSERVACIONES</th>\n",
       "      <th>FECHA DATOS</th>\n",
       "      <th>LONGITUD</th>\n",
       "      <th>LATITUD</th>\n",
       "      <th>id_OSM</th>\n",
       "      <th>lat_OSM</th>\n",
       "      <th>lon_OSM</th>\n",
       "      <th>coord_OSM</th>\n",
       "      <th>name_OSM</th>\n",
       "      <th>score_OSM</th>\n",
       "      <th>coord</th>\n",
       "    </tr>\n",
       "    <tr>\n",
       "      <th>CODIGO</th>\n",
       "      <th></th>\n",
       "      <th></th>\n",
       "      <th></th>\n",
       "      <th></th>\n",
       "      <th></th>\n",
       "      <th></th>\n",
       "      <th></th>\n",
       "      <th></th>\n",
       "      <th></th>\n",
       "      <th></th>\n",
       "      <th></th>\n",
       "      <th></th>\n",
       "      <th></th>\n",
       "      <th></th>\n",
       "      <th></th>\n",
       "      <th></th>\n",
       "      <th></th>\n",
       "      <th></th>\n",
       "      <th></th>\n",
       "    </tr>\n",
       "  </thead>\n",
       "  <tbody>\n",
       "    <tr>\n",
       "      <th>FUE_03-08_0000000120</th>\n",
       "      <td>ZV</td>\n",
       "      <td>FUENCARRAL-EL PARDO</td>\n",
       "      <td>COLONIA MINGORRUBIO 1ª FASE</td>\n",
       "      <td>C/ ALMENAS</td>\n",
       "      <td>433767.8135</td>\n",
       "      <td>4487222.559</td>\n",
       "      <td>ETRS89 / UTM  Zona 30N</td>\n",
       "      <td>EN SERVICIO</td>\n",
       "      <td>NaN</td>\n",
       "      <td>3-nov.-17</td>\n",
       "      <td>-3.782030</td>\n",
       "      <td>40.533100</td>\n",
       "      <td>node/4317362969</td>\n",
       "      <td>NaN</td>\n",
       "      <td>NaN</td>\n",
       "      <td>NaN</td>\n",
       "      <td>NaN</td>\n",
       "      <td>NaN</td>\n",
       "      <td>(40.5331, -3.78203)</td>\n",
       "    </tr>\n",
       "    <tr>\n",
       "      <th>FUE_03-08_0000000121</th>\n",
       "      <td>ZV</td>\n",
       "      <td>FUENCARRAL-EL PARDO</td>\n",
       "      <td>COLONIA MINGORRUBIO 1ª FASE</td>\n",
       "      <td>C/ ESCUADRÓN</td>\n",
       "      <td>433778.9948</td>\n",
       "      <td>4487403.260</td>\n",
       "      <td>ETRS89 / UTM  Zona 30N</td>\n",
       "      <td>EN SERVICIO</td>\n",
       "      <td>NaN</td>\n",
       "      <td>3-nov.-17</td>\n",
       "      <td>-3.781917</td>\n",
       "      <td>40.534729</td>\n",
       "      <td>node/4317362970</td>\n",
       "      <td>NaN</td>\n",
       "      <td>NaN</td>\n",
       "      <td>NaN</td>\n",
       "      <td>NaN</td>\n",
       "      <td>NaN</td>\n",
       "      <td>(40.5347, -3.78192)</td>\n",
       "    </tr>\n",
       "  </tbody>\n",
       "</table>\n",
       "</div>"
      ],
      "text/plain": [
       "                     ZONA VERDE / VIA PUBLICA             DISTRITO  \\\n",
       "CODIGO                                                               \n",
       "FUE_03-08_0000000120                       ZV  FUENCARRAL-EL PARDO   \n",
       "FUE_03-08_0000000121                       ZV  FUENCARRAL-EL PARDO   \n",
       "\n",
       "                                        DIRECCION COMPLEMENTO DE DIRECCIÓN   \\\n",
       "CODIGO                                                                        \n",
       "FUE_03-08_0000000120  COLONIA MINGORRUBIO 1ª FASE                C/ ALMENAS   \n",
       "FUE_03-08_0000000121  COLONIA MINGORRUBIO 1ª FASE              C/ ESCUADRÓN   \n",
       "\n",
       "                         COORD. X     COORD. Y  SISTEMA DE COORDENADAS  \\\n",
       "CODIGO                                                                   \n",
       "FUE_03-08_0000000120  433767.8135  4487222.559  ETRS89 / UTM  Zona 30N   \n",
       "FUE_03-08_0000000121  433778.9948  4487403.260  ETRS89 / UTM  Zona 30N   \n",
       "\n",
       "                           ESTADO OBSERVACIONES FECHA DATOS  LONGITUD  \\\n",
       "CODIGO                                                                  \n",
       "FUE_03-08_0000000120  EN SERVICIO           NaN   3-nov.-17 -3.782030   \n",
       "FUE_03-08_0000000121  EN SERVICIO           NaN   3-nov.-17 -3.781917   \n",
       "\n",
       "                        LATITUD           id_OSM  lat_OSM  lon_OSM  coord_OSM  \\\n",
       "CODIGO                                                                          \n",
       "FUE_03-08_0000000120  40.533100  node/4317362969      NaN      NaN        NaN   \n",
       "FUE_03-08_0000000121  40.534729  node/4317362970      NaN      NaN        NaN   \n",
       "\n",
       "                      name_OSM  score_OSM                coord  \n",
       "CODIGO                                                          \n",
       "FUE_03-08_0000000120       NaN        NaN  (40.5331, -3.78203)  \n",
       "FUE_03-08_0000000121       NaN        NaN  (40.5347, -3.78192)  "
      ]
     },
     "execution_count": 33,
     "metadata": {},
     "output_type": "execute_result"
    }
   ],
   "source": [
    "AYU.tail(2)"
   ]
  },
  {
   "cell_type": "code",
   "execution_count": 34,
   "metadata": {},
   "outputs": [],
   "source": [
    "AYU_CLOSE = AYU_NO.copy()\n",
    "AYU_CLOSE.id_OSM = AYU_NO.coord.apply(lambda x: get_close(x))\n",
    "AYU_NO = AYU_CLOSE[AYU_CLOSE.id_OSM == 'No match']\n",
    "AYU_CLOSE = AYU_CLOSE[AYU_CLOSE.id_OSM != 'No match']"
   ]
  },
  {
   "cell_type": "code",
   "execution_count": 37,
   "metadata": {
    "collapsed": true
   },
   "outputs": [],
   "source": [
    "AYU = pd.concat([AYU_OK, AYU_CLOSE, AYU_NO])"
   ]
  },
  {
   "cell_type": "code",
   "execution_count": 38,
   "metadata": {},
   "outputs": [],
   "source": [
    "AYU.lat_OSM = AYU.id_OSM.apply(lambda x: get_lat(x))\n",
    "AYU.lon_OSM = AYU.id_OSM.apply(lambda x: get_lon(x))\n",
    "AYU['coord'] = list(zip(AYU.lat_OSM, AYU.lon_OSM))\n",
    "AYU.score_OSM = AYU.apply(lambda x: get_score(x), axis=1)\n",
    "\n",
    "AYU_CLOSE.lat_OSM = AYU_CLOSE.id_OSM.apply(lambda x: get_lat(x))\n",
    "AYU_CLOSE.lon_OSM = AYU_CLOSE.id_OSM.apply(lambda x: get_lon(x))\n",
    "AYU_CLOSE['coord'] = list(zip(AYU_CLOSE.lat_OSM, AYU_CLOSE.lon_OSM))\n",
    "AYU_CLOSE.score_OSM = AYU_CLOSE.apply(lambda x: get_score(x), axis=1)\n",
    "\n",
    "AYU_NO.lat_OSM = AYU_NO.id_OSM.apply(lambda x: get_lat(x))\n",
    "AYU_NO.lon_OSM = AYU_NO.id_OSM.apply(lambda x: get_lon(x))\n",
    "AYU_NO['coord'] = list(zip(AYU_NO.lat_OSM, AYU_NO.lon_OSM))\n",
    "AYU_NO.score_OSM = AYU_NO.apply(lambda x: get_score(x), axis=1)"
   ]
  },
  {
   "cell_type": "code",
   "execution_count": 39,
   "metadata": {},
   "outputs": [],
   "source": [
    "AYU = AYU.sort_values('score_OSM')\n",
    "#AYU.name_OSM = AYU.id_OSM.apply(lambda x: get_name(x))"
   ]
  },
  {
   "cell_type": "code",
   "execution_count": 49,
   "metadata": {
    "collapsed": true
   },
   "outputs": [],
   "source": [
    "AYU_MISSING = []\n",
    "for i in range(len(ids)):\n",
    "    if isinstance(ayu[i], str):\n",
    "        AYU_MISSING.append((ids[i],lat[i],lon[i]))\n",
    "        \n",
    "AYU_MISSING = pd.DataFrame(AYU_MISSING)\n",
    "AYU_MISSING.columns = ['id_OSM','LATITUD','LONGITUD']\n",
    "\n",
    "AYU_MISSING = AYU_MISSING.set_index('id_OSM')\n",
    "AYU_MISSING['coord'] = list(zip(AYU_MISSING.LATITUD.values, AYU_MISSING.LONGITUD.values))"
   ]
  },
  {
   "cell_type": "code",
   "execution_count": 41,
   "metadata": {
    "collapsed": true
   },
   "outputs": [],
   "source": [
    "AYU_CLOSE.to_csv('fuentes_close.csv')\n",
    "AYU_NO.to_csv('fuentes_NO.csv')\n",
    "AYU_MISSING.to_csv('fuentes_missing.csv')"
   ]
  },
  {
   "cell_type": "markdown",
   "metadata": {},
   "source": [
    "## Close to edit"
   ]
  },
  {
   "cell_type": "code",
   "execution_count": 43,
   "metadata": {},
   "outputs": [],
   "source": [
    "map = folium.Map(location=SF_COORDINATES, zoom_start=11)\n",
    "marker_cluster = MarkerCluster().add_to(map)\n",
    "for i in range(len(AYU_CLOSE.id_OSM.values)):\n",
    "    folium.Marker(icon=folium.Icon(color='blue'),popup=folium.Popup(AYU_CLOSE.id_OSM.values[i], parse_html=True),\n",
    "        location = (AYU_CLOSE.LATITUD.values[i],AYU_CLOSE.LONGITUD.values[i])).add_to(marker_cluster)\n",
    "map.save('edit.html')"
   ]
  },
  {
   "cell_type": "markdown",
   "metadata": {},
   "source": [
    "## Missing in OSM"
   ]
  },
  {
   "cell_type": "code",
   "execution_count": 44,
   "metadata": {},
   "outputs": [],
   "source": [
    "map = folium.Map(location=SF_COORDINATES, zoom_start=11)\n",
    "marker_cluster = MarkerCluster().add_to(map)\n",
    "for i in range(len(AYU_NO.id_OSM.values[:100])):\n",
    "    folium.Marker(icon=folium.Icon(color='blue'),popup=folium.Popup(AYU_NO.index.values[i], parse_html=True),\n",
    "        location = (AYU_NO.LATITUD.values[i],AYU_NO.LONGITUD.values[i])).add_to(marker_cluster)\n",
    "map.save('missing_OSM.html')"
   ]
  },
  {
   "cell_type": "markdown",
   "metadata": {},
   "source": [
    "## Missing in Ayu website"
   ]
  },
  {
   "cell_type": "code",
   "execution_count": 45,
   "metadata": {},
   "outputs": [],
   "source": [
    "map = folium.Map(location=SF_COORDINATES, zoom_start=11)\n",
    "marker_cluster = MarkerCluster().add_to(map)\n",
    "for i in range(len(AYU_MISSING.index.values)):\n",
    "    folium.Marker(icon=folium.Icon(color='green'),popup=folium.Popup(AYU_MISSING.index.values[i], parse_html=True),\n",
    "        location = (AYU_MISSING.LATITUD.values[i],AYU_MISSING.LONGITUD.values[i])).add_to(marker_cluster)\n",
    "map.save('missing_Ayu.html')"
   ]
  },
  {
   "cell_type": "code",
   "execution_count": 46,
   "metadata": {
    "collapsed": true
   },
   "outputs": [],
   "source": [
    "mydic = AYU_MISSING.to_dict(orient='index')"
   ]
  },
  {
   "cell_type": "code",
   "execution_count": 47,
   "metadata": {},
   "outputs": [
    {
     "data": {
      "text/plain": [
       "dict_keys(['node/4062129992', 'node/4330516730', 'node/4332132438', 'node/1440939173', 'node/4340080845', 'node/1916805100', 'node/5017117015', 'node/4330503376', 'node/2624160636', 'node/4332132433', 'node/1992838962', 'node/4332033579', 'node/2960394786', 'node/2946271321', 'node/4332033575', 'node/4332138441', 'node/1802463886', 'node/3150808038', 'node/3035326646', 'node/4523230500', 'node/857157901', 'node/4354434308', 'node/4330510614', 'node/4062129993', 'node/3697360452', 'node/4396225695', 'node/1440939166', 'node/2991168859', 'node/4413513647', 'node/4340080833', 'node/1888592115', 'node/1436712916', 'node/4344517489', 'node/1325487024', 'node/1440939175', 'node/3361315286', 'node/5086461228', 'node/4332033578', 'node/3035326645', 'node/4403559004', 'node/1052390725', 'node/4331338091', 'node/4332033574', 'node/4335288007', 'node/4810100127', 'node/3392966960', 'node/1245970134', 'node/2946159114', 'node/1460364330', 'node/1440939172', 'node/3936936441', 'node/3955088389', 'node/1504407832', 'node/2046863335', 'node/5014664921', 'node/4395887289', 'node/2946208308', 'node/5220262671', 'node/1048614568', 'node/4332033576', 'node/3827482091', 'node/1295884428', 'node/3499620848', 'node/3514716616', 'node/3572732393', 'node/2623339508', 'node/1517405751', 'node/3507232999', 'node/1992836768', 'node/4333068048', 'node/3357697400', 'node/2416331089', 'node/4265348136', 'node/4227924890', 'node/4439535956', 'node/1436712962', 'node/5086437450', 'node/3499620852', 'node/2928478381', 'node/991793741', 'node/5011336547', 'node/1892827827', 'node/1435923179', 'node/4994377362', 'node/3500566148', 'node/4332121748', 'node/3933243487', 'node/4667303285', 'node/4330516734', 'node/4333068049', 'node/3170272294', 'node/4331338109', 'node/2946271316', 'node/1743699840', 'node/4347754197', 'node/3510203950', 'node/2623339506', 'node/1052390687', 'node/4404969182', 'node/5086454364', 'node/5126313627', 'node/4330510653', 'node/4332033577', 'node/4340080832', 'node/3500619801', 'node/4331338099', 'node/4219016930', 'node/5102771713', 'node/3951792357', 'node/4332033581', 'node/1828866774', 'node/4331338107', 'node/2883034889', 'node/3577606786', 'node/2946232759', 'node/2946232761', 'node/4332033572', 'node/1892827824', 'node/1228619939', 'node/2416327918', 'node/3973689277', 'node/3912611669', 'node/559824976', 'node/4470353161', 'node/3055024260', 'node/4340980994', 'node/3429111398', 'node/4427657680', 'node/2371641153', 'node/3657173242', 'node/4395887389', 'node/2946271320', 'node/4403299621', 'node/4332102974', 'node/3579137300', 'node/4065603214', 'node/3055024261', 'node/4663033397', 'node/4376883228', 'node/3497615272', 'node/2910015459', 'node/4332121994', 'node/2416331091', 'node/3497619832', 'node/3697360449', 'node/1954448415', 'node/4330516733', 'node/1802463854', 'node/4333068041', 'node/4907732166', 'node/3510203609', 'node/5087078122', 'node/1435226224', 'node/3981909015', 'node/3778654886', 'node/1464142407', 'node/4810126221', 'node/3697360448', 'node/1247495866', 'node/5161242781', 'node/4347754191', 'node/3005414335'])"
      ]
     },
     "execution_count": 47,
     "metadata": {},
     "output_type": "execute_result"
    }
   ],
   "source": [
    "mydic.keys()"
   ]
  },
  {
   "cell_type": "code",
   "execution_count": null,
   "metadata": {
    "collapsed": true
   },
   "outputs": [],
   "source": [
    "import json\n",
    "print(json.dumps(mydic, indent=4))"
   ]
  },
  {
   "cell_type": "code",
   "execution_count": null,
   "metadata": {
    "collapsed": true
   },
   "outputs": [],
   "source": []
  }
 ],
 "metadata": {
  "kernelspec": {
   "display_name": "Python [conda root]",
   "language": "python",
   "name": "conda-root-py"
  },
  "language_info": {
   "codemirror_mode": {
    "name": "ipython",
    "version": 3
   },
   "file_extension": ".py",
   "mimetype": "text/x-python",
   "name": "python",
   "nbconvert_exporter": "python",
   "pygments_lexer": "ipython3",
   "version": "3.5.3"
  }
 },
 "nbformat": 4,
 "nbformat_minor": 2
}
