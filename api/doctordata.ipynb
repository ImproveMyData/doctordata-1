{
 "cells": [
  {
   "cell_type": "markdown",
   "metadata": {},
   "source": [
    "# Scripts que devuelve las diferencias entre los ficheros"
   ]
  },
  {
   "cell_type": "markdown",
   "metadata": {},
   "source": [
    "Importamos"
   ]
  },
  {
   "cell_type": "code",
   "execution_count": 176,
   "metadata": {
    "collapsed": true
   },
   "outputs": [],
   "source": [
    "import json\n",
    "import os\n",
    "import pandas as pd\n",
    "from difflib import SequenceMatcher\n",
    "import jellyfish\n",
    "from geopy.geocoders import Nominatim\n",
    "geolocator = Nominatim()\n",
    "from geopy.distance import great_circle\n",
    "import folium\n",
    "from folium.plugins import MarkerCluster\n",
    "from convertbng.util import convert_bng, convert_lonlat, convert_etrs89_to_lonlat\n",
    "import overpass"
   ]
  },
  {
   "cell_type": "code",
   "execution_count": 177,
   "metadata": {
    "collapsed": true
   },
   "outputs": [],
   "source": [
    "#Center coordinates\n",
    "SF_COORDINATES = (40.4168, -3.7038)\n",
    "\n",
    "# for speed purposes\n",
    "MAX_RECORDS = 10"
   ]
  },
  {
   "cell_type": "code",
   "execution_count": 178,
   "metadata": {
    "collapsed": true
   },
   "outputs": [],
   "source": [
    "def get_id(x):\n",
    "    try:\n",
    "        for i in range(len(ids)):\n",
    "            point = [lat[i],lon[i]]\n",
    "            if getDistance_meters(x,point) <results[fichero]['distance_SAME']:\n",
    "                ayu[i] = x\n",
    "                return ids[i]\n",
    "        return 'No match'\n",
    "    except:\n",
    "        return 'No match'\n",
    "\n",
    "def get_close(x):\n",
    "    try:\n",
    "        for i in range(len(ids)):\n",
    "            point = [lat[i],lon[i]]\n",
    "            if getDistance_meters(x,point) <results[fichero]['distance_CLOSE']:\n",
    "                ayu[i] = x\n",
    "                return ids[i]\n",
    "        return 'No match'\n",
    "    except:\n",
    "        return 'No match'\n",
    "    \n",
    "def get_lat(x):\n",
    "    try:\n",
    "        ind = ids.index(x)\n",
    "        return float(lat[ind])\n",
    "    except:\n",
    "        return None\n",
    "\n",
    "def get_lon(x):\n",
    "    try:\n",
    "        ind = ids.index(x)\n",
    "        return float(lon[ind])\n",
    "    except:\n",
    "        return None\n",
    "\n",
    "def get_name(x):\n",
    "    try:\n",
    "        ind = ids.index(x)\n",
    "        return name[ind]\n",
    "    except:\n",
    "        return None\n",
    "\n",
    "def get_score(x):\n",
    "    return getDistance_meters([x.lat_OSM, x.lon_OSM],[x.LATITUD, x.LONGITUD])\n",
    "\n"
   ]
  },
  {
   "cell_type": "code",
   "execution_count": 179,
   "metadata": {
    "collapsed": true
   },
   "outputs": [],
   "source": [
    "def getDistance_meters(x,y):\n",
    "    try:\n",
    "        return great_circle(x, y).kilometers*1000.0\n",
    "    except:\n",
    "        return 0"
   ]
  },
  {
   "cell_type": "markdown",
   "metadata": {},
   "source": [
    "Creamos un data para los datos de OSM"
   ]
  },
  {
   "cell_type": "code",
   "execution_count": 180,
   "metadata": {
    "collapsed": true
   },
   "outputs": [],
   "source": [
    "os.chdir('/Volumes/MacintoshHD/_GitHub/doctordata/api/data/')"
   ]
  },
  {
   "cell_type": "code",
   "execution_count": 181,
   "metadata": {},
   "outputs": [],
   "source": [
    "indice = pd.read_csv('indice.csv',index_col=0,encoding='latin-1',delimiter=';')"
   ]
  },
  {
   "cell_type": "code",
   "execution_count": 182,
   "metadata": {},
   "outputs": [
    {
     "name": "stdout",
     "output_type": "stream",
     "text": [
      "<class 'pandas.core.frame.DataFrame'>\n",
      "Index: 32 entries, BANCOS to MONUMENTOS\n",
      "Data columns (total 7 columns):\n",
      "SEARCH            32 non-null object\n",
      "AYU               32 non-null object\n",
      "OSM               2 non-null object\n",
      "DOCTORDATA        32 non-null object\n",
      "distance_SAME     32 non-null int64\n",
      "distance_CLOSE    32 non-null int64\n",
      "palabra           32 non-null object\n",
      "dtypes: int64(2), object(5)\n",
      "memory usage: 2.0+ KB\n"
     ]
    }
   ],
   "source": [
    "indice.info()"
   ]
  },
  {
   "cell_type": "code",
   "execution_count": 183,
   "metadata": {
    "collapsed": true
   },
   "outputs": [],
   "source": [
    "results = {}\n",
    "for key, df_gb in indice.groupby(indice.index):\n",
    "    results[str(key)] = df_gb.to_dict('list')"
   ]
  },
  {
   "cell_type": "code",
   "execution_count": 184,
   "metadata": {},
   "outputs": [],
   "source": [
    "for key in results.keys():\n",
    "    results[key]['SEARCH'] = results[key]['SEARCH'][0][1:-1]\n",
    "    results[key]['distance_CLOSE'] = results[key]['distance_CLOSE'][0]\n",
    "    results[key]['distance_SAME'] = results[key]['distance_SAME'][0]\n",
    "    results[key]['palabra'] = results[key]['palabra'][0]"
   ]
  },
  {
   "cell_type": "code",
   "execution_count": 185,
   "metadata": {},
   "outputs": [
    {
     "data": {
      "text/plain": [
       "'\"amenity\"=\"bench\"'"
      ]
     },
     "execution_count": 185,
     "metadata": {},
     "output_type": "execute_result"
    }
   ],
   "source": [
    "results['BANCOS']['SEARCH']"
   ]
  },
  {
   "cell_type": "code",
   "execution_count": 186,
   "metadata": {},
   "outputs": [
    {
     "data": {
      "text/plain": [
       "['.DS_Store',\n",
       " '20170614_BANCOS.csv',\n",
       " '20170614_PAPELERAS.csv',\n",
       " '20171110_InventarioFuentes.csv',\n",
       " 'anexo i monumentos.xls',\n",
       " 'artwork.geojson',\n",
       " 'bench.geojson',\n",
       " 'drinking_water.geojson',\n",
       " 'indice.csv',\n",
       " 'memorial.geojson',\n",
       " 'monument.geojson',\n",
       " 'street_lamp.geojson',\n",
       " 'waste_basket.geojson']"
      ]
     },
     "execution_count": 186,
     "metadata": {},
     "output_type": "execute_result"
    }
   ],
   "source": [
    "os.listdir()"
   ]
  },
  {
   "cell_type": "code",
   "execution_count": 187,
   "metadata": {
    "collapsed": true
   },
   "outputs": [],
   "source": [
    "AYU_fichero = '20171110_InventarioFuentes.csv'"
   ]
  },
  {
   "cell_type": "code",
   "execution_count": 188,
   "metadata": {},
   "outputs": [],
   "source": [
    "fichero = []\n",
    "for key in results.keys():\n",
    "    if AYU_fichero.split('_')[1][:-4] == results[key]['palabra']:\n",
    "        fichero = key"
   ]
  },
  {
   "cell_type": "code",
   "execution_count": 189,
   "metadata": {},
   "outputs": [
    {
     "data": {
      "text/plain": [
       "{'BANCOS': {'AYU': ['DISTRITO',\n",
       "   'BARRIO',\n",
       "   'MODELO',\n",
       "   'X_ETRS89',\n",
       "   'Y_ETRS89',\n",
       "   'Longitud',\n",
       "   'Latitud'],\n",
       "  'DOCTORDATA': ['DISTRITO',\n",
       "   'BARRIO',\n",
       "   'MODELO',\n",
       "   'X_ETRS89',\n",
       "   'Y_ETRS89',\n",
       "   'LONGITUD',\n",
       "   'LATITUD'],\n",
       "  'OSM': [nan, nan, nan, nan, nan, nan, nan],\n",
       "  'SEARCH': '\"amenity\"=\"bench\"',\n",
       "  'distance_CLOSE': 50,\n",
       "  'distance_SAME': 5,\n",
       "  'palabra': 'BANCOS'},\n",
       " 'FUENTES': {'AYU': ['CODIGO',\n",
       "   'ZONA VERDE / VIA PUBLICA',\n",
       "   'DIRECCION',\n",
       "   'COMPLEMENTO DE DIRECCION',\n",
       "   'COORD. X',\n",
       "   'COORD. Y',\n",
       "   'SISTEMA DE COORDENADAS',\n",
       "   'ESTADO',\n",
       "   'OBSERVACIONES',\n",
       "   'FECHA DATOS',\n",
       "   'DISTRITO',\n",
       "   'LONGITUD',\n",
       "   'LATITUD'],\n",
       "  'DOCTORDATA': ['CODIGO',\n",
       "   'ZV-VP',\n",
       "   'DIRECCION',\n",
       "   'COMP-DIR',\n",
       "   'X_ETRS89',\n",
       "   'Y_ETRS89',\n",
       "   'SISTEMA DE COORDENADAS',\n",
       "   'ESTADO',\n",
       "   'OBSERVACIONES',\n",
       "   'FECHA',\n",
       "   'DISTRITO',\n",
       "   'LONGITUD',\n",
       "   'LATITUD'],\n",
       "  'OSM': [nan, nan, nan, nan, nan, nan, nan, nan, nan, nan, nan, nan, nan],\n",
       "  'SEARCH': '\"amenity\"=\"drinking_water\"',\n",
       "  'distance_CLOSE': 50,\n",
       "  'distance_SAME': 5,\n",
       "  'palabra': 'InventarioFuentes'},\n",
       " 'MONUMENTOS': {'AYU': ['COD', 'TIPO', 'CALIF', 'TITULO', 'LOCALIZACION'],\n",
       "  'DOCTORDATA': ['CODIGO', 'TIPO', 'CALIF', 'NOMBRE', 'DIRECCION'],\n",
       "  'OSM': [nan, nan, nan, 'name', 'address'],\n",
       "  'SEARCH': '\"artwork_type\": \"statue\",\"historic\": \"monument\",\"historic\"=\"memorial\"',\n",
       "  'distance_CLOSE': 50,\n",
       "  'distance_SAME': 5,\n",
       "  'palabra': 'monumentos'},\n",
       " 'PAPELERAS': {'AYU': ['DISTRITO',\n",
       "   'BARRIO',\n",
       "   'MODELO',\n",
       "   'X_ETRS89',\n",
       "   'Y_ETRS89',\n",
       "   'Longitud',\n",
       "   'Latitud'],\n",
       "  'DOCTORDATA': ['DISTRITO',\n",
       "   'BARRIO',\n",
       "   'MODELO',\n",
       "   'X_ETRS89',\n",
       "   'Y_ETRS89',\n",
       "   'LONGITUD',\n",
       "   'LATITUD'],\n",
       "  'OSM': [nan, nan, nan, nan, nan, nan, nan],\n",
       "  'SEARCH': '\"amenity\"=\"waste_basket\"',\n",
       "  'distance_CLOSE': 50,\n",
       "  'distance_SAME': 5,\n",
       "  'palabra': 'PAPELERAS'}}"
      ]
     },
     "execution_count": 189,
     "metadata": {},
     "output_type": "execute_result"
    }
   ],
   "source": [
    "results"
   ]
  },
  {
   "cell_type": "code",
   "execution_count": 190,
   "metadata": {},
   "outputs": [],
   "source": [
    "search = 'area[\"name\"=\"Madrid\"];node(area)['+results[fichero]['SEARCH']+'];'"
   ]
  },
  {
   "cell_type": "code",
   "execution_count": 191,
   "metadata": {},
   "outputs": [],
   "source": [
    "import overpass\n",
    "api = overpass.API()\n",
    "OSM = api.Get(search)"
   ]
  },
  {
   "cell_type": "code",
   "execution_count": 192,
   "metadata": {},
   "outputs": [
    {
     "data": {
      "text/plain": [
       "{'amenity': 'drinking_water'}"
      ]
     },
     "execution_count": 192,
     "metadata": {},
     "output_type": "execute_result"
    }
   ],
   "source": [
    "OSM['features'][0]['properties']"
   ]
  },
  {
   "cell_type": "markdown",
   "metadata": {},
   "source": [
    "Create searching arrays"
   ]
  },
  {
   "cell_type": "code",
   "execution_count": 193,
   "metadata": {
    "collapsed": true
   },
   "outputs": [],
   "source": [
    "ids = [OSM['features'][i]['id'] for i in range(len(OSM['features']))]\n",
    "lat = [OSM['features'][i]['geometry']['coordinates'][1] for i in range(len(OSM['features']))]\n",
    "lon = [OSM['features'][i]['geometry']['coordinates'][0] for i in range(len(OSM['features']))]\n",
    "#name = [OSM['features'][i]['properties']['name'] for i in range(len(OSM['features']))]\n",
    "ayu = ids[:]"
   ]
  },
  {
   "cell_type": "markdown",
   "metadata": {},
   "source": [
    "Add ayuntamiento data"
   ]
  },
  {
   "cell_type": "code",
   "execution_count": null,
   "metadata": {},
   "outputs": [],
   "source": []
  },
  {
   "cell_type": "code",
   "execution_count": 194,
   "metadata": {},
   "outputs": [
    {
     "data": {
      "text/html": [
       "<div>\n",
       "<style>\n",
       "    .dataframe thead tr:only-child th {\n",
       "        text-align: right;\n",
       "    }\n",
       "\n",
       "    .dataframe thead th {\n",
       "        text-align: left;\n",
       "    }\n",
       "\n",
       "    .dataframe tbody tr th {\n",
       "        vertical-align: top;\n",
       "    }\n",
       "</style>\n",
       "<table border=\"1\" class=\"dataframe\">\n",
       "  <thead>\n",
       "    <tr style=\"text-align: right;\">\n",
       "      <th></th>\n",
       "      <th>ZONA VERDE / VIA PUBLICA</th>\n",
       "      <th>DISTRITO</th>\n",
       "      <th>DIRECCION</th>\n",
       "      <th>COMPLEMENTO DE DIRECCI”N</th>\n",
       "      <th>X_ETRS89</th>\n",
       "      <th>Y_ETRS89</th>\n",
       "      <th>SISTEMA DE COORDENADAS</th>\n",
       "      <th>ESTADO</th>\n",
       "      <th>OBSERVACIONES</th>\n",
       "      <th>FECHA DATOS</th>\n",
       "      <th>LONGITUD</th>\n",
       "      <th>LATITUD</th>\n",
       "      <th>id_OSM</th>\n",
       "      <th>lat_OSM</th>\n",
       "      <th>lon_OSM</th>\n",
       "      <th>coord_OSM</th>\n",
       "      <th>name_OSM</th>\n",
       "      <th>score_OSM</th>\n",
       "      <th>coord</th>\n",
       "    </tr>\n",
       "    <tr>\n",
       "      <th>CODIGO</th>\n",
       "      <th></th>\n",
       "      <th></th>\n",
       "      <th></th>\n",
       "      <th></th>\n",
       "      <th></th>\n",
       "      <th></th>\n",
       "      <th></th>\n",
       "      <th></th>\n",
       "      <th></th>\n",
       "      <th></th>\n",
       "      <th></th>\n",
       "      <th></th>\n",
       "      <th></th>\n",
       "      <th></th>\n",
       "      <th></th>\n",
       "      <th></th>\n",
       "      <th></th>\n",
       "      <th></th>\n",
       "      <th></th>\n",
       "    </tr>\n",
       "  </thead>\n",
       "  <tbody>\n",
       "    <tr>\n",
       "      <th>FUE_03-10_0000000046</th>\n",
       "      <td>ZV</td>\n",
       "      <td>LATINA</td>\n",
       "      <td>COL. DEHESA DEL PPE.</td>\n",
       "      <td>AVDA. DE ARQUEROS Nº41</td>\n",
       "      <td>432419.7097</td>\n",
       "      <td>4470033.832</td>\n",
       "      <td>ETRS89 / UTM  Zona 30N</td>\n",
       "      <td>EN SERVICIO</td>\n",
       "      <td>NaN</td>\n",
       "      <td>3-nov.-17</td>\n",
       "      <td>-3.796117</td>\n",
       "      <td>40.378151</td>\n",
       "      <td>NaN</td>\n",
       "      <td>NaN</td>\n",
       "      <td>NaN</td>\n",
       "      <td>NaN</td>\n",
       "      <td>NaN</td>\n",
       "      <td>NaN</td>\n",
       "      <td>(40.3782, -3.79612)</td>\n",
       "    </tr>\n",
       "    <tr>\n",
       "      <th>FUE_06-11_0000000118</th>\n",
       "      <td>ZV</td>\n",
       "      <td>CARABANCHEL</td>\n",
       "      <td>COL. PARQUE EUGENIA DE MONTIJO</td>\n",
       "      <td>NaN</td>\n",
       "      <td>436216.5069</td>\n",
       "      <td>4470005.725</td>\n",
       "      <td>ETRS89 / UTM  Zona 30N</td>\n",
       "      <td>EN SERVICIO</td>\n",
       "      <td>NaN</td>\n",
       "      <td>3-nov.-17</td>\n",
       "      <td>-3.751390</td>\n",
       "      <td>40.378197</td>\n",
       "      <td>NaN</td>\n",
       "      <td>NaN</td>\n",
       "      <td>NaN</td>\n",
       "      <td>NaN</td>\n",
       "      <td>NaN</td>\n",
       "      <td>NaN</td>\n",
       "      <td>(40.3782, -3.75139)</td>\n",
       "    </tr>\n",
       "  </tbody>\n",
       "</table>\n",
       "</div>"
      ],
      "text/plain": [
       "                     ZONA VERDE / VIA PUBLICA     DISTRITO  \\\n",
       "CODIGO                                                       \n",
       "FUE_03-10_0000000046                       ZV       LATINA   \n",
       "FUE_06-11_0000000118                       ZV  CARABANCHEL   \n",
       "\n",
       "                                           DIRECCION COMPLEMENTO DE DIRECCI”N  \\\n",
       "CODIGO                                                                          \n",
       "FUE_03-10_0000000046            COL. DEHESA DEL PPE.   AVDA. DE ARQUEROS Nº41   \n",
       "FUE_06-11_0000000118  COL. PARQUE EUGENIA DE MONTIJO                      NaN   \n",
       "\n",
       "                         X_ETRS89     Y_ETRS89  SISTEMA DE COORDENADAS  \\\n",
       "CODIGO                                                                   \n",
       "FUE_03-10_0000000046  432419.7097  4470033.832  ETRS89 / UTM  Zona 30N   \n",
       "FUE_06-11_0000000118  436216.5069  4470005.725  ETRS89 / UTM  Zona 30N   \n",
       "\n",
       "                           ESTADO OBSERVACIONES FECHA DATOS  LONGITUD  \\\n",
       "CODIGO                                                                  \n",
       "FUE_03-10_0000000046  EN SERVICIO           NaN   3-nov.-17 -3.796117   \n",
       "FUE_06-11_0000000118  EN SERVICIO           NaN   3-nov.-17 -3.751390   \n",
       "\n",
       "                        LATITUD  id_OSM  lat_OSM  lon_OSM  coord_OSM  \\\n",
       "CODIGO                                                                 \n",
       "FUE_03-10_0000000046  40.378151     NaN      NaN      NaN        NaN   \n",
       "FUE_06-11_0000000118  40.378197     NaN      NaN      NaN        NaN   \n",
       "\n",
       "                      name_OSM  score_OSM                coord  \n",
       "CODIGO                                                          \n",
       "FUE_03-10_0000000046       NaN        NaN  (40.3782, -3.79612)  \n",
       "FUE_06-11_0000000118       NaN        NaN  (40.3782, -3.75139)  "
      ]
     },
     "execution_count": 194,
     "metadata": {},
     "output_type": "execute_result"
    }
   ],
   "source": [
    "AYU = pd.read_csv(AYU_fichero, encoding='latin-1', delimiter=';',index_col=0)\n",
    "AYU.columns = [x.upper() for x in AYU.columns.values]\n",
    "\n",
    "if AYU_fichero == '20171110_InventarioFuentes.csv':\n",
    "    AYU.columns = ['ZONA VERDE / VIA PUBLICA','DISTRITO','DIRECCION',\n",
    "                   'COMPLEMENTO DE DIRECCI”N','X_ETRS89','Y_ETRS89','SISTEMA DE COORDENADAS',\n",
    "                   'ESTADO','OBSERVACIONES','FECHA DATOS','LONGITUD','LATITUD']\n",
    "\n",
    "try:\n",
    "    AYU = AYU[AYU.LATITUD != 'Error']\n",
    "    AYU = AYU[AYU.LONGITUD != 'Error']\n",
    "except:\n",
    "    print('No errors!')\n",
    "AYU.LATITUD = AYU.LATITUD.astype('float32')\n",
    "AYU.LONGITUD = AYU.LONGITUD.astype('float32')\n",
    "AYU = AYU.sort_values('LATITUD')\n",
    "AYU['id_OSM'] = pd.Series()\n",
    "AYU['lat_OSM'] = pd.Series()\n",
    "AYU['lon_OSM'] = pd.Series()\n",
    "AYU['coord_OSM'] = pd.Series()\n",
    "AYU['name_OSM'] = pd.Series()\n",
    "AYU['score_OSM'] = pd.Series()\n",
    "AYU['X_ETRS89'] = AYU['X_ETRS89'].apply(lambda x: float(x.replace(',','.')))\n",
    "AYU['Y_ETRS89'] = AYU['Y_ETRS89'].apply(lambda x: float(x.replace(',','.')))\n",
    "AYU['coord'] = list(zip(AYU.LATITUD, AYU.LONGITUD))\n",
    "AYU = AYU[:200]\n",
    "AYU.tail(2)"
   ]
  },
  {
   "cell_type": "code",
   "execution_count": 195,
   "metadata": {},
   "outputs": [
    {
     "name": "stdout",
     "output_type": "stream",
     "text": [
      "<class 'pandas.core.frame.DataFrame'>\n",
      "Index: 200 entries, FUE_06-17_0000000113 to FUE_06-11_0000000118\n",
      "Data columns (total 19 columns):\n",
      "ZONA VERDE / VIA PUBLICA    200 non-null object\n",
      "DISTRITO                    200 non-null object\n",
      "DIRECCION                   200 non-null object\n",
      "COMPLEMENTO DE DIRECCI”N    28 non-null object\n",
      "X_ETRS89                    200 non-null float64\n",
      "Y_ETRS89                    200 non-null float64\n",
      "SISTEMA DE COORDENADAS      200 non-null object\n",
      "ESTADO                      200 non-null object\n",
      "OBSERVACIONES               29 non-null object\n",
      "FECHA DATOS                 200 non-null object\n",
      "LONGITUD                    200 non-null float32\n",
      "LATITUD                     200 non-null float32\n",
      "id_OSM                      0 non-null float64\n",
      "lat_OSM                     0 non-null float64\n",
      "lon_OSM                     0 non-null float64\n",
      "coord_OSM                   0 non-null float64\n",
      "name_OSM                    0 non-null float64\n",
      "score_OSM                   0 non-null float64\n",
      "coord                       200 non-null object\n",
      "dtypes: float32(2), float64(8), object(9)\n",
      "memory usage: 29.7+ KB\n"
     ]
    }
   ],
   "source": [
    "AYU.info()"
   ]
  },
  {
   "cell_type": "code",
   "execution_count": 196,
   "metadata": {
    "collapsed": true
   },
   "outputs": [],
   "source": [
    "AYU.id_OSM = AYU.coord.apply(lambda x: get_id(x)) \n",
    "AYU_NO = AYU[AYU.id_OSM == 'No match']\n",
    "AYU_OK = AYU[AYU.id_OSM != 'No match']"
   ]
  },
  {
   "cell_type": "code",
   "execution_count": 197,
   "metadata": {},
   "outputs": [
    {
     "data": {
      "text/html": [
       "<div>\n",
       "<style>\n",
       "    .dataframe thead tr:only-child th {\n",
       "        text-align: right;\n",
       "    }\n",
       "\n",
       "    .dataframe thead th {\n",
       "        text-align: left;\n",
       "    }\n",
       "\n",
       "    .dataframe tbody tr th {\n",
       "        vertical-align: top;\n",
       "    }\n",
       "</style>\n",
       "<table border=\"1\" class=\"dataframe\">\n",
       "  <thead>\n",
       "    <tr style=\"text-align: right;\">\n",
       "      <th></th>\n",
       "      <th>ZONA VERDE / VIA PUBLICA</th>\n",
       "      <th>DISTRITO</th>\n",
       "      <th>DIRECCION</th>\n",
       "      <th>COMPLEMENTO DE DIRECCI”N</th>\n",
       "      <th>X_ETRS89</th>\n",
       "      <th>Y_ETRS89</th>\n",
       "      <th>SISTEMA DE COORDENADAS</th>\n",
       "      <th>ESTADO</th>\n",
       "      <th>OBSERVACIONES</th>\n",
       "      <th>FECHA DATOS</th>\n",
       "      <th>LONGITUD</th>\n",
       "      <th>LATITUD</th>\n",
       "      <th>id_OSM</th>\n",
       "      <th>lat_OSM</th>\n",
       "      <th>lon_OSM</th>\n",
       "      <th>coord_OSM</th>\n",
       "      <th>name_OSM</th>\n",
       "      <th>score_OSM</th>\n",
       "      <th>coord</th>\n",
       "    </tr>\n",
       "    <tr>\n",
       "      <th>CODIGO</th>\n",
       "      <th></th>\n",
       "      <th></th>\n",
       "      <th></th>\n",
       "      <th></th>\n",
       "      <th></th>\n",
       "      <th></th>\n",
       "      <th></th>\n",
       "      <th></th>\n",
       "      <th></th>\n",
       "      <th></th>\n",
       "      <th></th>\n",
       "      <th></th>\n",
       "      <th></th>\n",
       "      <th></th>\n",
       "      <th></th>\n",
       "      <th></th>\n",
       "      <th></th>\n",
       "      <th></th>\n",
       "      <th></th>\n",
       "    </tr>\n",
       "  </thead>\n",
       "  <tbody>\n",
       "    <tr>\n",
       "      <th>FUE_06-17_0000000113</th>\n",
       "      <td>VP</td>\n",
       "      <td>VILLAVERDE</td>\n",
       "      <td>AV. DE LOS ROSALES  407</td>\n",
       "      <td>NaN</td>\n",
       "      <td>443914.6707</td>\n",
       "      <td>4464487.999</td>\n",
       "      <td>ETRS89 / UTM  Zona 30N</td>\n",
       "      <td>EN SERVICIO</td>\n",
       "      <td>NaN</td>\n",
       "      <td>3-nov.-17</td>\n",
       "      <td>-3.660224</td>\n",
       "      <td>40.329044</td>\n",
       "      <td>4330653037</td>\n",
       "      <td>NaN</td>\n",
       "      <td>NaN</td>\n",
       "      <td>NaN</td>\n",
       "      <td>NaN</td>\n",
       "      <td>NaN</td>\n",
       "      <td>(40.329, -3.66022)</td>\n",
       "    </tr>\n",
       "    <tr>\n",
       "      <th>FUE_06-17_0000000060</th>\n",
       "      <td>ZV</td>\n",
       "      <td>VILLAVERDE</td>\n",
       "      <td>INST. DEP. COL.  MARCONI</td>\n",
       "      <td>NaN</td>\n",
       "      <td>440662.8099</td>\n",
       "      <td>4465018.166</td>\n",
       "      <td>ETRS89 / UTM  Zona 30N</td>\n",
       "      <td>EN SERVICIO</td>\n",
       "      <td>NaN</td>\n",
       "      <td>3-nov.-17</td>\n",
       "      <td>-3.698551</td>\n",
       "      <td>40.333595</td>\n",
       "      <td>4330662057</td>\n",
       "      <td>NaN</td>\n",
       "      <td>NaN</td>\n",
       "      <td>NaN</td>\n",
       "      <td>NaN</td>\n",
       "      <td>NaN</td>\n",
       "      <td>(40.3336, -3.69855)</td>\n",
       "    </tr>\n",
       "  </tbody>\n",
       "</table>\n",
       "</div>"
      ],
      "text/plain": [
       "                     ZONA VERDE / VIA PUBLICA    DISTRITO  \\\n",
       "CODIGO                                                      \n",
       "FUE_06-17_0000000113                       VP  VILLAVERDE   \n",
       "FUE_06-17_0000000060                       ZV  VILLAVERDE   \n",
       "\n",
       "                                     DIRECCION COMPLEMENTO DE DIRECCI”N  \\\n",
       "CODIGO                                                                    \n",
       "FUE_06-17_0000000113   AV. DE LOS ROSALES  407                      NaN   \n",
       "FUE_06-17_0000000060  INST. DEP. COL.  MARCONI                      NaN   \n",
       "\n",
       "                         X_ETRS89     Y_ETRS89  SISTEMA DE COORDENADAS  \\\n",
       "CODIGO                                                                   \n",
       "FUE_06-17_0000000113  443914.6707  4464487.999  ETRS89 / UTM  Zona 30N   \n",
       "FUE_06-17_0000000060  440662.8099  4465018.166  ETRS89 / UTM  Zona 30N   \n",
       "\n",
       "                           ESTADO OBSERVACIONES FECHA DATOS  LONGITUD  \\\n",
       "CODIGO                                                                  \n",
       "FUE_06-17_0000000113  EN SERVICIO           NaN   3-nov.-17 -3.660224   \n",
       "FUE_06-17_0000000060  EN SERVICIO           NaN   3-nov.-17 -3.698551   \n",
       "\n",
       "                        LATITUD      id_OSM  lat_OSM  lon_OSM  coord_OSM  \\\n",
       "CODIGO                                                                     \n",
       "FUE_06-17_0000000113  40.329044  4330653037      NaN      NaN        NaN   \n",
       "FUE_06-17_0000000060  40.333595  4330662057      NaN      NaN        NaN   \n",
       "\n",
       "                      name_OSM  score_OSM                coord  \n",
       "CODIGO                                                          \n",
       "FUE_06-17_0000000113       NaN        NaN   (40.329, -3.66022)  \n",
       "FUE_06-17_0000000060       NaN        NaN  (40.3336, -3.69855)  "
      ]
     },
     "execution_count": 197,
     "metadata": {},
     "output_type": "execute_result"
    }
   ],
   "source": [
    "AYU.head(2)"
   ]
  },
  {
   "cell_type": "code",
   "execution_count": 198,
   "metadata": {
    "collapsed": true
   },
   "outputs": [],
   "source": [
    "AYU_CLOSE = AYU_NO.copy()\n",
    "AYU_CLOSE.id_OSM = AYU_NO.coord.apply(lambda x: get_close(x))\n",
    "AYU_NO = AYU_CLOSE[AYU_CLOSE.id_OSM == 'No match']\n",
    "AYU_CLOSE = AYU_CLOSE[AYU_CLOSE.id_OSM != 'No match']"
   ]
  },
  {
   "cell_type": "code",
   "execution_count": 199,
   "metadata": {
    "collapsed": true
   },
   "outputs": [],
   "source": [
    "AYU = pd.concat([AYU_OK, AYU_CLOSE, AYU_NO])"
   ]
  },
  {
   "cell_type": "code",
   "execution_count": 200,
   "metadata": {},
   "outputs": [],
   "source": [
    "AYU.lat_OSM = AYU.id_OSM.apply(lambda x: get_lat(x))\n",
    "AYU.lon_OSM = AYU.id_OSM.apply(lambda x: get_lon(x))\n",
    "AYU['coord'] = list(zip(AYU.lat_OSM, AYU.lon_OSM))\n",
    "AYU.score_OSM = AYU.apply(lambda x: get_score(x), axis=1)\n",
    "AYU['coord_OSM'] = list(zip(AYU.lat_OSM, AYU.lon_OSM))\n",
    "\n",
    "try:\n",
    "    AYU_CLOSE.lat_OSM = AYU_CLOSE.id_OSM.apply(lambda x: get_lat(x))\n",
    "    AYU_CLOSE.lon_OSM = AYU_CLOSE.id_OSM.apply(lambda x: get_lon(x))\n",
    "    AYU_CLOSE['coord'] = list(zip(AYU_CLOSE.lat_OSM, AYU_CLOSE.lon_OSM))\n",
    "    AYU_CLOSE.score_OSM = AYU_CLOSE.apply(lambda x: get_score(x), axis=1)\n",
    "    AYU_CLOSE['coord_OSM'] = list(zip(AYU_CLOSE.lat_OSM, AYU_CLOSE.lon_OSM))\n",
    "except:\n",
    "    print('No close')\n",
    "\n",
    "AYU_NO.lat_OSM = AYU_NO.id_OSM.apply(lambda x: get_lat(x))\n",
    "AYU_NO.lon_OSM = AYU_NO.id_OSM.apply(lambda x: get_lon(x))\n",
    "AYU_NO['coord'] = list(zip(AYU_NO.lat_OSM, AYU_NO.lon_OSM))\n",
    "AYU_NO.score_OSM = AYU_NO.apply(lambda x: get_score(x), axis=1)\n",
    "AYU_NO['coord_OSM'] = list(zip(AYU_NO.lat_OSM, AYU_NO.lon_OSM))"
   ]
  },
  {
   "cell_type": "code",
   "execution_count": 201,
   "metadata": {
    "collapsed": true
   },
   "outputs": [],
   "source": [
    "AYU = AYU.sort_values('score_OSM')\n",
    "#AYU.name_OSM = AYU.id_OSM.apply(lambda x: get_name(x))"
   ]
  },
  {
   "cell_type": "code",
   "execution_count": 202,
   "metadata": {},
   "outputs": [],
   "source": [
    "AYU_MISSING = []\n",
    "for i in range(len(ids)):\n",
    "    AYU_MISSING.append((ids[i],lat[i],lon[i]))\n",
    "        \n",
    "AYU_MISSING = pd.DataFrame(AYU_MISSING)\n",
    "AYU_MISSING.columns = ['id_OSM','lat_OSM','lon_OSM']\n",
    "\n",
    "AYU_MISSING = AYU_MISSING.set_index('id_OSM')\n",
    "AYU_MISSING['coord'] = list(zip(AYU_MISSING.lat_OSM.values, AYU_MISSING.lon_OSM.values))"
   ]
  },
  {
   "cell_type": "code",
   "execution_count": 203,
   "metadata": {
    "collapsed": true
   },
   "outputs": [],
   "source": [
    "os.chdir('/Volumes/MacintoshHD/_GitHub/doctordata/api/csv/')"
   ]
  },
  {
   "cell_type": "code",
   "execution_count": 204,
   "metadata": {
    "collapsed": true
   },
   "outputs": [],
   "source": [
    "AYU_CLOSE.to_csv(AYU_fichero[:-4]+'-edit.csv')\n",
    "AYU_NO.to_csv(AYU_fichero[:-4]+'-missing_OSM.csv')\n",
    "AYU_MISSING.to_csv(AYU_fichero[:-4]+'-missing_AYU.csv')"
   ]
  },
  {
   "cell_type": "markdown",
   "metadata": {},
   "source": [
    "## Close to edit"
   ]
  },
  {
   "cell_type": "code",
   "execution_count": 205,
   "metadata": {
    "collapsed": true
   },
   "outputs": [],
   "source": [
    "os.chdir('/Volumes/MacintoshHD/_GitHub/doctordata/api/web/')"
   ]
  },
  {
   "cell_type": "code",
   "execution_count": 206,
   "metadata": {
    "collapsed": true
   },
   "outputs": [],
   "source": [
    "map = folium.Map(location=SF_COORDINATES, zoom_start=11)\n",
    "marker_cluster = MarkerCluster().add_to(map)\n",
    "for i in range(len(AYU_CLOSE.id_OSM.values)):\n",
    "    folium.Marker(icon=folium.Icon(color='blue'),popup=folium.Popup(AYU_CLOSE.id_OSM.values[i], parse_html=True),\n",
    "        location = (AYU_CLOSE.LATITUD.values[i],AYU_CLOSE.LONGITUD.values[i])).add_to(marker_cluster)\n",
    "map.save(AYU_fichero[:-4]+'-edit.html')"
   ]
  },
  {
   "cell_type": "markdown",
   "metadata": {},
   "source": [
    "## Missing in OSM"
   ]
  },
  {
   "cell_type": "code",
   "execution_count": 207,
   "metadata": {
    "collapsed": true
   },
   "outputs": [],
   "source": [
    "map = folium.Map(location=SF_COORDINATES, zoom_start=11)\n",
    "marker_cluster = MarkerCluster().add_to(map)\n",
    "for i in range(len(AYU_NO.id_OSM.values[:100])):\n",
    "    folium.Marker(icon=folium.Icon(color='blue'),popup=folium.Popup(AYU_NO.index.values[i], parse_html=True),\n",
    "        location = (AYU_NO.LATITUD.values[i],AYU_NO.LONGITUD.values[i])).add_to(marker_cluster)\n",
    "map.save(AYU_fichero[:-4]+'-missing_OSM.html')"
   ]
  },
  {
   "cell_type": "markdown",
   "metadata": {},
   "source": [
    "## Missing in Ayu website"
   ]
  },
  {
   "cell_type": "code",
   "execution_count": 208,
   "metadata": {
    "collapsed": true
   },
   "outputs": [],
   "source": [
    "map = folium.Map(location=SF_COORDINATES, zoom_start=11)\n",
    "marker_cluster = MarkerCluster().add_to(map)\n",
    "for i in range(len(AYU_MISSING.index.values)):\n",
    "    folium.Marker(icon=folium.Icon(color='green'),popup=folium.Popup(AYU_MISSING.index.values[i], parse_html=True),\n",
    "        location = (AYU_MISSING.lat_OSM.values[i],AYU_MISSING.lon_OSM.values[i])).add_to(marker_cluster)\n",
    "map.save(AYU_fichero[:-4]+'-missing_AYU.html')"
   ]
  },
  {
   "cell_type": "code",
   "execution_count": 209,
   "metadata": {
    "collapsed": true
   },
   "outputs": [],
   "source": [
    "mydic = AYU_MISSING.to_dict(orient='index')"
   ]
  },
  {
   "cell_type": "code",
   "execution_count": 210,
   "metadata": {},
   "outputs": [
    {
     "data": {
      "text/plain": [
       "dict_keys([4347742666, 1436712962, 4215726084, 4340994059, 4340994060, 4340994061, 3005075470, 4340994063, 4340994064, 3176636438, 4376883223, 1435737729, 4376883225, 4376883226, 4376883227, 4376883228, 4376883229, 4376883230, 1436712991, 4376883232, 4347757232, 4376883234, 2981348699, 4376883236, 3024306213, 4376883238, 4376883239, 4376883240, 4376883241, 4376883242, 4376883243, 4347757235, 309411892, 4347757237, 4028743745, 3733446724, 1295884358, 5086437450, 559824976, 4340994062, 4347742669, 3374481508, 4347757244, 4076457591, 1435226224, 4347757247, 3457892476, 4339916949, 4347757248, 309411970, 1295884428, 4376883224, 1348309141, 4339916950, 4339916951, 4339916952, 3429023897, 4339916954, 4339916955, 4339916956, 1348309149, 4339916958, 4339916959, 4339916960, 4339916961, 4339941538, 1228619939, 1348309156, 2956042405, 4330700966, 3622371495, 3622371496, 4339941545, 3622371498, 4330700971, 4339941548, 4339941549, 4330700974, 4330700975, 4330700976, 3176554673, 4330700978, 4330700979, 4330700980, 4330700981, 4330700982, 4330700983, 4340080827, 4340080828, 4340080829, 4340080830, 3395825855, 4340080832, 4340080833, 4340080834, 1348309187, 1295884484, 4340080837, 4340080838, 4340080839, 4340080840, 4340080841, 4340080842, 4340080843, 4340080844, 4340080845, 4340080846, 4340080847, 4340080848, 4340080849, 4340080850, 4376883235, 4376883237, 4254265573, 3507232999, 4330516713, 4330516714, 4330516715, 4330516716, 4330516717, 4330516718, 4330516719, 4330516720, 4330516721, 4330516722, 4330516723, 4330516724, 4330516725, 4330516726, 4330516727, 4330516728, 4330516729, 4330516730, 4330516731, 4330516732, 4330516733, 4330516734, 4330516735, 4330516736, 4330516737, 4330503809, 3778654886, 857157901, 3633033490, 4331358254, 1504407832, 4347754218, 1518829871, 3392966960, 4347757278, 5161242781, 4344516941, 4344516942, 4344516943, 4344516944, 4344516945, 4344516946, 4344516947, 4344516948, 4344516949, 4344516950, 5017117015, 4347757284, 1348309342, 3776287075, 4347742678, 4127645075, 3497619832, 3203269166, 1348309374, 2981323139, 3439157637, 3439157638, 4330663878, 3417821594, 297655024, 3514716581, 1240306089, 3711094743, 2946232759, 2946232760, 2946232761, 2946232762, 2946232763, 2946232764, 2946232765, 3733455294, 3733455295, 2946232772, 3541426630, 3514716616, 1448407497, 309412298, 309412301, 4339921358, 4339921359, 4339921360, 4339921361, 4339921362, 4234629587, 4339921364, 4332132430, 4339921366, 4339921367, 4339921368, 4332132431, 4330481744, 3634631141, 4332132433, 3572732393, 3634101879, 4332132434, 3936936441, 4121334267, 4332132437, 2967872001, 4347757277, 1448407557, 1448407559, 2946159113, 2946159114, 4332132439, 1435775507, 3376378393, 3376378394, 4212068894, 3457892896, 1851695655, 4347740093, 3577606702, 307782191, 3384806152, 307782194, 2946208308, 307782198, 307782201, 988701242, 4214186562, 3475325507, 4330672708, 3475325509, 4330672710, 4330672711, 4330672712, 4330672713, 4330672714, 4330672715, 4330672716, 991793741, 4330672718, 4330672719, 4330672720, 4330672721, 4336599634, 4330663879, 4347740090, 5086454364, 3745137251, 3006321252, 4347740095, 1258603112, 4053533293, 3577606769, 3577606776, 4332138436, 4330668670, 1438356095, 4330668672, 4330668673, 3577606786, 4330668675, 4330668676, 4330668677, 4330668678, 4317362968, 4347735491, 3577606805, 2981327516, 4347745050, 4332132436, 4347740097, 4340994725, 4340994726, 4340994727, 4340994728, 4340994729, 4347745053, 1892827824, 4347757233, 4347757234, 1892827827, 4347757236, 4198519477, 4347757238, 4347757239, 4347757240, 4347757241, 4347757242, 4347757243, 3387687612, 4347757245, 4347757246, 1325486783, 4347740098, 4347757249, 4347757250, 4347757251, 4347757252, 4347757253, 4347757254, 4347745057, 4347757256, 4347757257, 2981319370, 4347757259, 4347757260, 4347757261, 4347757262, 4347757263, 4347757264, 2032480977, 4347757266, 4347757267, 4347757268, 4347757269, 4347757270, 4347757271, 4347757272, 4347757273, 4347757274, 4347757275, 4347757276, 3370152669, 4347740099, 4347757279, 4347757280, 4347757281, 4347757282, 4347757283, 3577606884, 4347757285, 3422044904, 1435923179, 3292422894, 4347740091, 3577606899, 4347740100, 3577606918, 5220262671, 1436712952, 4347740101, 4347745051, 4347745052, 3999057370, 4347745054, 4347745055, 4347745056, 3423310625, 4347745058, 4347745059, 4347745060, 4347745061, 4347745062, 4347745063, 4347745064, 4347745065, 4347745066, 4347745067, 4347745068, 4347745069, 4347745070, 3457872687, 3175596848, 4347745073, 3577606962, 4347745075, 4347745076, 4347745077, 4347745078, 4347745079, 4347740102, 3528344382, 4116738893, 4116738894, 4347745080, 4153402200, 4376883233, 4344517480, 4237288297, 4344517482, 4344517483, 4344517484, 4344517485, 4344517486, 4344517487, 4344517488, 4334232433, 4344517490, 4334232435, 4334232436, 4334232437, 4334232438, 4344517495, 4344517496, 4334232441, 4334232442, 4334232443, 2624160636, 4334232445, 4334232446, 4334232447, 4334232448, 4334232449, 4334232450, 4334232451, 4334232452, 4334232453, 4334232454, 4334232455, 3577607051, 3577607053, 1916805100, 3577607055, 4339916953, 4227924890, 4149605289, 4339916957, 1325487024, 3051156414, 4339941536, 4339941537, 3687060429, 4339916963, 4207408087, 4307682264, 4330700964, 4330700965, 3775464421, 3775464422, 3150808039, 3150808040, 4339941543, 4330700968, 4340116307, 1211290614, 4330662057, 4339941546, 4060181502, 2946209733, 4339941547, 4330700972, 4330662061, 3426538523, 4330663882, 1325487133, 1954448415, 4330662064, 3463021602, 3510072356, 3170272294, 4330700977, 3497669672, 1460364330, 2498393136, 4212163634, 4330662067, 4257891384, 4330662069, 3397194838, 310801499, 3507225695, 3733455978, 4344517481, 4810100127, 4340080831, 534697095, 4340080835, 4340080836, 4330503805, 4344517489, 5087078122, 4334232434, 480437568, 3499644082, 4344517491, 3499644085, 4344517492, 4185625788, 4344517493, 4340974787, 4340974788, 4344517494, 3014927905, 4334232439, 3371812386, 4334232440, 4344517497, 3510203609, 1889602428, 3569833194, 4347757803, 4347757804, 4347757805, 4347757806, 4347757807, 4347757808, 4347757809, 4347757810, 4347757811, 4347757812, 3392947454, 4354434308, 1052390661, 1052390664, 1052390666, 2981311755, 1052390669, 2990888215, 2990888216, 1052390682, 1052390684, 1052390685, 3374490911, 1052390689, 4523230500, 4339941539, 1052390702, 1052390704, 1052390706, 1052390708, 1052390709, 4332102966, 1052390711, 4332102968, 4332102969, 4332102970, 4332102971, 4332102972, 4332102973, 1052390718, 4332102975, 4332102976, 3507213633, 4339941540, 3507213637, 1052390728, 1052390730, 1052390732, 4810126221, 4224480592, 3507213649, 1052390738, 4344532930, 1052390741, 1052390742, 3506636120, 2496787801, 2496787803, 2496787804, 2496787805, 3951792357, 4339941541, 3961357666, 4330653037, 4330653038, 4330653039, 4330653040, 4330653041, 2497926514, 4330653043, 4667303285, 3357697400, 3557105215, 4339941542, 3788830092, 3392884291, 4339921357, 4339916962, 4347753888, 1251886499, 3973689277, 4215690666, 1888592115, 4339941544, 2963715520, 4063891412, 3999057369, 4130878938, 4330663885, 4347740096, 4344532931, 4427657680, 4319630836, 4319630838, 4065603213, 3100182024, 167302670, 3964249625, 4088731164, 4065603214, 4332033567, 4332033568, 4332033569, 4332033570, 4332033571, 4332033572, 4332033573, 4332033574, 4332033575, 4332033576, 4332033577, 4332033578, 4332033579, 4332033580, 4332033581, 3510203950, 4332033583, 4332033584, 1517405750, 1517405751, 3005875768, 5122334899, 3412559432, 4339921363, 2946209737, 4340975189, 4340975190, 4340975191, 4340975192, 4340975193, 4340975194, 4340975195, 4340975196, 4340975197, 4340975198, 4340975199, 4340975200, 4340975201, 4340975202, 4340975203, 4340975204, 3429111398, 485099113, 485099119, 5050304121, 1048614523, 1048614524, 1048614525, 4344532932, 4332486268, 3500566148, 3964214899, 485099146, 3867506321, 4994377362, 1048614547, 1048614548, 1048614550, 1048614553, 5126313627, 1992836768, 2981324452, 1048614566, 1048614568, 4232242858, 2494901875, 1247495866, 4330510623, 4330510625, 4236658376, 3376385655, 4347754189, 4347754190, 4236658383, 4347754192, 4347754193, 4347754195, 4347754196, 4347754197, 4347754198, 1390249687, 4347754200, 4347754201, 4347754202, 4347754203, 4347754204, 4332486266, 4347754206, 4347754207, 4347754208, 4347754209, 4219016930, 4330503803, 4347754212, 4347754213, 4347754214, 4347754215, 4347754216, 4331321065, 4331321066, 4331321067, 4331321068, 4331321069, 4331321070, 4331321071, 4331321072, 4331321073, 4347754226, 4347754227, 4347754228, 4332486270, 4121646838, 4347754231, 4347754232, 4347754233, 4347754234, 4330503807, 4332486272, 3770332930, 3249972997, 1591488129, 4332486274, 4330503811, 2500990740, 4330510638, 3076695001, 3609102104, 1048614532, 4332486277, 4330503814, 4332486279, 4332486280, 4199356210, 1325487923, 1435737737, 3413251898, 4339916964, 4330510646, 3643291471, 3649339832, 1408587601, 3912611669, 3417769817, 4330510648, 3287529313, 3287529314, 3150808038, 1048614545, 4332121746, 479287151, 4332486276, 4330503827, 4330503828, 3827482091, 4319351787, 4330503830, 3516311431, 1325488008, 4332121751, 4330653042, 4332121752, 4332345238, 4332345239, 4332345240, 4332345241, 4332345242, 4332345243, 4332345244, 4332345245, 4332345246, 3973699909, 4330503835, 2981332904, 4330503836, 4344532927, 4332486278, 4332121757, 4330503838, 4332121759, 4330503840, 4332353476, 4332353477, 4332353478, 4332353479, 4332353480, 4344530889, 4332353482, 4344530891, 4344530892, 4344530893, 4344530894, 4344530895, 4344530896, 4344530897, 4344530898, 4344530899, 4344530900, 4344530901, 4344530902, 4344530903, 4344530904, 4344530905, 4344530906, 4344530907, 2046863335, 4330503833, 4347740092, 1284089843, 4439535956, 3468060667, 3790483102, 3494848524, 2527420077, 3500619801, 4331358249, 4331358250, 4331358251, 4331358252, 4331358253, 3375314990, 4331358255, 4331358256, 479268725, 4331337786, 4331337787, 4331337788, 4344532935, 4330481732, 4330481733, 4330481734, 4330481735, 4330481736, 4330481737, 4330481738, 4330481739, 4330481740, 4330481741, 4330481742, 4330481743, 4332132432, 4330481745, 547416146, 4332132435, 2946271316, 2946271317, 4332132438, 2946271319, 2946271320, 2946271321, 2946271322, 3933243487, 547416163, 2494844604, 3392886893, 4470353161, 2979903616, 3055024260, 3055024261, 3964238871, 4252391337, 479328412, 1325487155, 2928478374, 1284090025, 4330662058, 4330662059, 4330662060, 2928478381, 4330662062, 4330662063, 3035326640, 4330662065, 4330662066, 1284090035, 4330662068, 3035326645, 3035326646, 4081858749, 4907821431, 4344532936, 4330503841, 4347754191, 4330481746, 1065410258, 3984152814, 3984152815, 1460364328, 3657173242, 4335288021, 1245970134, 4347754199, 2990868748, 4330510605, 4330510606, 4330510607, 4330510608, 4330510609, 4330510610, 4330510611, 4330510612, 4330510613, 4330510614, 4330510615, 4330510616, 4330510617, 4330510618, 4330510619, 4330510620, 4330510621, 4330510622, 3398535455, 4330510624, 1460364336, 4330510626, 4330510627, 4330510628, 4330510629, 4330510630, 4330510631, 4330510632, 4330510633, 4330510634, 4330510635, 4330510636, 4330510637, 4088768814, 4330510639, 4330510640, 4330510641, 4330510642, 4330510643, 4330510644, 4330510645, 2563299638, 4330510647, 2563299640, 4330510649, 4330510650, 4330510651, 4330510652, 4330510653, 4330510654, 4330510655, 4330510656, 4330510657, 4330510658, 4330510659, 4330510660, 4330510661, 3541423672, 4347754210, 2416331089, 2416331091, 2974468445, 3657800032, 3655663082, 4063891415, 4331338089, 4331338090, 4331338091, 4331338092, 4331338093, 4331338094, 4331338095, 4331338096, 4331338097, 4331338098, 4331338099, 4331338100, 4331338101, 4331338102, 4331338103, 4331338104, 4331338105, 4331338106, 4331338107, 4331338108, 4331338109, 4331338110, 4331338111, 4347754219, 4347754205, 4347754220, 4347754221, 4347754222, 4347754223, 4347754224, 3150477730, 4347754225, 3463788971, 3497491528, 3890285641, 4347754229, 4347754230, 4347742664, 4347742665, 2979895754, 4347742667, 4347742668, 3778644386, 4347742670, 4347742671, 4347742672, 4347742673, 1418447314, 4347742675, 4347742676, 4347742677, 3361315286, 4403299621, 2977359611, 1245968879, 3499620848, 3499620852, 297682006, 4347745071, 2960394786, 2960394790, 1352780328, 3643292203, 2960394796, 2960394798, 4347750959, 4347750960, 1464142385, 4347750962, 4347750963, 1464142388, 4347750965, 2883034889, 4347740094, 1464142396, 1464142398, 3282041407, 1464142400, 1464142403, 2960394820, 1464142407, 4344532922, 1932126801, 4347754211, 4403559003, 4403559004, 4253379167, 5025000037, 2823633513, 4333068050, 1802463854, 1448407485, 4450589297, 3588246131, 2946232767, 1052390720, 4193347349, 4071623306, 4344532924, 3106028173, 1802463886, 4347757258, 1802463898, 4212103836, 4344532925, 4141107893, 4395887289, 2960394938, 3329841853, 3657652927, 309541570, 4344532926, 2960394959, 2861771473, 1828866774, 3657771745, 3176569573, 1340025575, 1020459753, 4347742674, 4340976798, 3150449391, 3150449392, 3150449393, 3150449394, 297655027, 3510131454, 4344532928, 4219632389, 3500845832, 4347754217, 3519204113, 3519204115, 3519204116, 4317362967, 3519204120, 4317362969, 4317362970, 4395887389, 1391282977, 4344532929, 3675343654, 1391282985, 5014664921, 1474140978, 1474140979, 1474140980, 3779873591, 1340025658, 3657755456, 4185643842, 1052390687, 4340116305, 4340116306, 3006323539, 4340116308, 4340116309, 4340116310, 4340116311, 4340116312, 4340116313, 4340116314, 4340116315, 4340116316, 4340116317, 4340116318, 4340116319, 4340116320, 4340116321, 4340116322, 4340116323, 4340116324, 4340116325, 4340116326, 4340116327, 4340116328, 4340116329, 4340116330, 4340116331, 4340116332, 4340116333, 4340116334, 4340116335, 4340116336, 4340116337, 4340116338, 4340116339, 4332096374, 4332096375, 4332096376, 4332096377, 4332096378, 4332096379, 4332096380, 4332096381, 4332096382, 4332096383, 4332096384, 4332096385, 4332096386, 4332096387, 4332096388, 1893858187, 4141120399, 1893858195, 4344532933, 309541787, 3986836403, 3986836405, 3986836406, 3375267657, 4344532934, 4406606777, 2368449466, 4396225695, 2368449470, 3005414335, 1591487446, 4340976804, 1440939173, 1430727650, 3973650257, 4340976807, 4253273070, 2623339506, 2623339508, 4336602104, 3497610236, 4332355413, 3955088389, 3494845457, 4344532937, 1556708373, 3981909015, 2495409183, 4265348135, 4265348136, 479255595, 4344532938, 3287529311, 479255613, 3890285640, 3497491529, 3383393355, 4344532939, 2542431312, 3011267671, 4344532942, 309541981, 4347757265, 3500567652, 3500567653, 4344532940, 3024306025, 3497610361, 1257888904, 4344532941, 3394190477, 4347745072, 1253141699, 3340111000, 4340976793, 4340976794, 4340976795, 4340976796, 4340976797, 1440939166, 4340976799, 4340976800, 4340976801, 4340976802, 4340976803, 1440939172, 4340976805, 4340976806, 1440939175, 4340976808, 4340976809, 4340976810, 4340976811, 4340976812, 4340976813, 4340976814, 4330503354, 4330503355, 4330503356, 4330503357, 4330503358, 4330503359, 4330503360, 4330503361, 4330503362, 4330503363, 4330503364, 4330503365, 4330503366, 4330503367, 4330503368, 4330503369, 4330503370, 4330503371, 4330503372, 4330503373, 4330503374, 4330503375, 4330503376, 4330503377, 4330503378, 4330503379, 4330503380, 4330503381, 4330503382, 4330503383, 4330503384, 4330503385, 4330503386, 4330503387, 4330503388, 2918070822, 2416327918, 4332121749, 4344532943, 1917865206, 4322012408, 4340980990, 4340980991, 4340980992, 4340980993, 4340980994, 4340980995, 4340980996, 4340980997, 4340980998, 4340980999, 4340981000, 3387709996, 3387665679, 3579137300, 4332096789, 4332096790, 4332096791, 4332096792, 4332096793, 4332096794, 4332096795, 4332096796, 4788639621, 4347750961, 5086461228, 4347750964, 4127644989, 4344532947, 4332350795, 4332350796, 4332353481, 2991168859, 4344532948, 5011336547, 4214295911, 4434093289, 4344532949, 3778876650, 4314611071, 3500567939, 4332121754, 4330672706, 2563304847, 4330672707, 1464142404, 4330700967, 4330672709, 3733458344, 4207947177, 3890302379, 1534545331, 4344532951, 1356385721, 4347745074, 3179585474, 4347735489, 4347735490, 4330667459, 4330667460, 4330667461, 4330667462, 3117313482, 3515563469, 4330672717, 2979884502, 4330700969, 4340989404, 4340989405, 4340989406, 4340989407, 4340989408, 4340989409, 4340989410, 4340989411, 4340989412, 4340989413, 4340989414, 4340989415, 4340989416, 4340989417, 4340989418, 4340989419, 4340989420, 4340989421, 4340989422, 4347754235, 4330700970, 3395833336, 5102771713, 4314586802, 2928885261, 4053541331, 3761675794, 4334232444, 2981346858, 1356385835, 4663033397, 4210986249, 3653045819, 3697360446, 3697360447, 3697360448, 3697360449, 3697360450, 3697360451, 3697360452, 2904485445, 4330700973, 3785145940, 4344532921, 3985895003, 2981338717, 2494897762, 4344532923, 3634101865, 4330503789, 4330503790, 4330503791, 4330503792, 4330503793, 4330503794, 4330503795, 4330503796, 4330503797, 4330503798, 4330503799, 4330503800, 4330503801, 4330503802, 3634101883, 4330503804, 4332486269, 4330503806, 4332486271, 4330503808, 4332486273, 4330503810, 4332486275, 4330503812, 4330503813, 3634101894, 4330503815, 4330503816, 4330503817, 4330503818, 4330503819, 4330503820, 4330503821, 4330503822, 4330503823, 4330503824, 4330503825, 4330503826, 4332121747, 4332121748, 4330503829, 4332121750, 4330503831, 4330503832, 4332121753, 4330503834, 4332121755, 4332121756, 4330503837, 4332121758, 4330503839, 4332121760, 4332121761, 4332121762, 3728211619, 4332121764, 4332121765, 4332121766, 4332121767, 4332121768, 4332121769, 4332121770, 4332121771, 4332121772, 4332121773, 4332121774, 4332121775, 4332121776, 4332121777, 4332121778, 4332121779, 4332121780, 4332121781, 4332121782, 4332121783, 4332121784, 4332121785, 4332121786, 4332121787, 4332121788, 4344530890, 4330663883, 4335288007, 4335288008, 4335288009, 4335288010, 4335288011, 4335288012, 4335288013, 4335288014, 4335288015, 4335288016, 4335288017, 4335288018, 4335288019, 4335288020, 3657764565, 4335288022, 4335288023, 4335288024, 1284089807, 4404969182, 4330668674, 4344532944, 4344532945, 3437153148, 1245970156, 4344532946, 1174617840, 2974760691, 4330663880, 1436712916, 4330668671, 4063891413, 1354800898, 4127649539, 4344532950, 4333068041, 4333068042, 4333068043, 4333068044, 4333068045, 4333068046, 4333068047, 4333068048, 4333068049, 4330663881, 1295884051, 3429078318, 3005075417, 4149600025, 4344528674, 4344528675, 4344528676, 4344528677, 4344528678, 4344528679, 4344528680, 4344528681, 4344528682, 4344528683, 4344528684, 4344528685, 4344528686, 4344528687, 4344528688, 1992838962, 3387715379, 4333068051, 4332102965, 2371641153, 3541413703, 4062129992, 4062129993, 4332102967, 3541413712, 4332355410, 4332355411, 4332355412, 3778875221, 4332355414, 4332355415, 4332355416, 4332355417, 3024306012, 1916805093, 1743699808, 2981311804, 4330663884, 4347757255, 4332102974, 480437567, 2979901308, 1743699840, 309542785, 4332121989, 4332121990, 4332121991, 4332121992, 4332121993, 4332121994, 4332121995, 4332121996, 4332121998, 4332121999, 3397218195, 4336599633, 1052390725, 4907732166, 3497615272, 4413513647, 4332138423, 4332138424, 4332138425, 4332138426, 4332138427, 4332138428, 4332138429, 4332138430, 4332138431, 4332138432, 4332138433, 4332138434, 4332138435, 4332486267, 4332138437, 4332138438, 4332138439, 4332138440, 4332138441, 4332138442, 4332138443, 4332138444, 4332138445, 4332138446, 4332138447, 4332138448, 4332138449, 4332138450, 4332138451, 4332138452, 4332138453, 4332138454, 4332138455, 4332138456, 4332138457, 4332138458, 4332138459, 4332138460, 4332138461, 4376883231, 1916805090, 2910015459, 2910015460, 3577606822, 3533873126, 1916805095, 2974474220, 3024306163, 1436712948, 3964237587, 1436712956])"
      ]
     },
     "execution_count": 210,
     "metadata": {},
     "output_type": "execute_result"
    }
   ],
   "source": [
    "mydic.keys()"
   ]
  },
  {
   "cell_type": "code",
   "execution_count": 137,
   "metadata": {},
   "outputs": [
    {
     "ename": "TypeError",
     "evalue": "key 4347742666 is not a string",
     "output_type": "error",
     "traceback": [
      "\u001b[0;31m---------------------------------------------------------------------------\u001b[0m",
      "\u001b[0;31mTypeError\u001b[0m                                 Traceback (most recent call last)",
      "\u001b[0;32m<ipython-input-137-07f4b0f82a70>\u001b[0m in \u001b[0;36m<module>\u001b[0;34m()\u001b[0m\n\u001b[1;32m      1\u001b[0m \u001b[0;32mimport\u001b[0m \u001b[0mjson\u001b[0m\u001b[0;34m\u001b[0m\u001b[0m\n\u001b[0;32m----> 2\u001b[0;31m \u001b[0mprint\u001b[0m\u001b[0;34m(\u001b[0m\u001b[0mjson\u001b[0m\u001b[0;34m.\u001b[0m\u001b[0mdumps\u001b[0m\u001b[0;34m(\u001b[0m\u001b[0mmydic\u001b[0m\u001b[0;34m,\u001b[0m \u001b[0mindent\u001b[0m\u001b[0;34m=\u001b[0m\u001b[0;36m4\u001b[0m\u001b[0;34m)\u001b[0m\u001b[0;34m)\u001b[0m\u001b[0;34m\u001b[0m\u001b[0m\n\u001b[0m",
      "\u001b[0;32m/Users/raimundoabrillopez/anaconda/lib/python3.5/json/__init__.py\u001b[0m in \u001b[0;36mdumps\u001b[0;34m(obj, skipkeys, ensure_ascii, check_circular, allow_nan, cls, indent, separators, default, sort_keys, **kw)\u001b[0m\n\u001b[1;32m    235\u001b[0m         \u001b[0mcheck_circular\u001b[0m\u001b[0;34m=\u001b[0m\u001b[0mcheck_circular\u001b[0m\u001b[0;34m,\u001b[0m \u001b[0mallow_nan\u001b[0m\u001b[0;34m=\u001b[0m\u001b[0mallow_nan\u001b[0m\u001b[0;34m,\u001b[0m \u001b[0mindent\u001b[0m\u001b[0;34m=\u001b[0m\u001b[0mindent\u001b[0m\u001b[0;34m,\u001b[0m\u001b[0;34m\u001b[0m\u001b[0m\n\u001b[1;32m    236\u001b[0m         \u001b[0mseparators\u001b[0m\u001b[0;34m=\u001b[0m\u001b[0mseparators\u001b[0m\u001b[0;34m,\u001b[0m \u001b[0mdefault\u001b[0m\u001b[0;34m=\u001b[0m\u001b[0mdefault\u001b[0m\u001b[0;34m,\u001b[0m \u001b[0msort_keys\u001b[0m\u001b[0;34m=\u001b[0m\u001b[0msort_keys\u001b[0m\u001b[0;34m,\u001b[0m\u001b[0;34m\u001b[0m\u001b[0m\n\u001b[0;32m--> 237\u001b[0;31m         **kw).encode(obj)\n\u001b[0m\u001b[1;32m    238\u001b[0m \u001b[0;34m\u001b[0m\u001b[0m\n\u001b[1;32m    239\u001b[0m \u001b[0;34m\u001b[0m\u001b[0m\n",
      "\u001b[0;32m/Users/raimundoabrillopez/anaconda/lib/python3.5/json/encoder.py\u001b[0m in \u001b[0;36mencode\u001b[0;34m(self, o)\u001b[0m\n\u001b[1;32m    198\u001b[0m         \u001b[0mchunks\u001b[0m \u001b[0;34m=\u001b[0m \u001b[0mself\u001b[0m\u001b[0;34m.\u001b[0m\u001b[0miterencode\u001b[0m\u001b[0;34m(\u001b[0m\u001b[0mo\u001b[0m\u001b[0;34m,\u001b[0m \u001b[0m_one_shot\u001b[0m\u001b[0;34m=\u001b[0m\u001b[0;32mTrue\u001b[0m\u001b[0;34m)\u001b[0m\u001b[0;34m\u001b[0m\u001b[0m\n\u001b[1;32m    199\u001b[0m         \u001b[0;32mif\u001b[0m \u001b[0;32mnot\u001b[0m \u001b[0misinstance\u001b[0m\u001b[0;34m(\u001b[0m\u001b[0mchunks\u001b[0m\u001b[0;34m,\u001b[0m \u001b[0;34m(\u001b[0m\u001b[0mlist\u001b[0m\u001b[0;34m,\u001b[0m \u001b[0mtuple\u001b[0m\u001b[0;34m)\u001b[0m\u001b[0;34m)\u001b[0m\u001b[0;34m:\u001b[0m\u001b[0;34m\u001b[0m\u001b[0m\n\u001b[0;32m--> 200\u001b[0;31m             \u001b[0mchunks\u001b[0m \u001b[0;34m=\u001b[0m \u001b[0mlist\u001b[0m\u001b[0;34m(\u001b[0m\u001b[0mchunks\u001b[0m\u001b[0;34m)\u001b[0m\u001b[0;34m\u001b[0m\u001b[0m\n\u001b[0m\u001b[1;32m    201\u001b[0m         \u001b[0;32mreturn\u001b[0m \u001b[0;34m''\u001b[0m\u001b[0;34m.\u001b[0m\u001b[0mjoin\u001b[0m\u001b[0;34m(\u001b[0m\u001b[0mchunks\u001b[0m\u001b[0;34m)\u001b[0m\u001b[0;34m\u001b[0m\u001b[0m\n\u001b[1;32m    202\u001b[0m \u001b[0;34m\u001b[0m\u001b[0m\n",
      "\u001b[0;32m/Users/raimundoabrillopez/anaconda/lib/python3.5/json/encoder.py\u001b[0m in \u001b[0;36m_iterencode\u001b[0;34m(o, _current_indent_level)\u001b[0m\n\u001b[1;32m    427\u001b[0m             \u001b[0;32myield\u001b[0m \u001b[0;32mfrom\u001b[0m \u001b[0m_iterencode_list\u001b[0m\u001b[0;34m(\u001b[0m\u001b[0mo\u001b[0m\u001b[0;34m,\u001b[0m \u001b[0m_current_indent_level\u001b[0m\u001b[0;34m)\u001b[0m\u001b[0;34m\u001b[0m\u001b[0m\n\u001b[1;32m    428\u001b[0m         \u001b[0;32melif\u001b[0m \u001b[0misinstance\u001b[0m\u001b[0;34m(\u001b[0m\u001b[0mo\u001b[0m\u001b[0;34m,\u001b[0m \u001b[0mdict\u001b[0m\u001b[0;34m)\u001b[0m\u001b[0;34m:\u001b[0m\u001b[0;34m\u001b[0m\u001b[0m\n\u001b[0;32m--> 429\u001b[0;31m             \u001b[0;32myield\u001b[0m \u001b[0;32mfrom\u001b[0m \u001b[0m_iterencode_dict\u001b[0m\u001b[0;34m(\u001b[0m\u001b[0mo\u001b[0m\u001b[0;34m,\u001b[0m \u001b[0m_current_indent_level\u001b[0m\u001b[0;34m)\u001b[0m\u001b[0;34m\u001b[0m\u001b[0m\n\u001b[0m\u001b[1;32m    430\u001b[0m         \u001b[0;32melse\u001b[0m\u001b[0;34m:\u001b[0m\u001b[0;34m\u001b[0m\u001b[0m\n\u001b[1;32m    431\u001b[0m             \u001b[0;32mif\u001b[0m \u001b[0mmarkers\u001b[0m \u001b[0;32mis\u001b[0m \u001b[0;32mnot\u001b[0m \u001b[0;32mNone\u001b[0m\u001b[0;34m:\u001b[0m\u001b[0;34m\u001b[0m\u001b[0m\n",
      "\u001b[0;32m/Users/raimundoabrillopez/anaconda/lib/python3.5/json/encoder.py\u001b[0m in \u001b[0;36m_iterencode_dict\u001b[0;34m(dct, _current_indent_level)\u001b[0m\n\u001b[1;32m    373\u001b[0m                 \u001b[0;32mcontinue\u001b[0m\u001b[0;34m\u001b[0m\u001b[0m\n\u001b[1;32m    374\u001b[0m             \u001b[0;32melse\u001b[0m\u001b[0;34m:\u001b[0m\u001b[0;34m\u001b[0m\u001b[0m\n\u001b[0;32m--> 375\u001b[0;31m                 \u001b[0;32mraise\u001b[0m \u001b[0mTypeError\u001b[0m\u001b[0;34m(\u001b[0m\u001b[0;34m\"key \"\u001b[0m \u001b[0;34m+\u001b[0m \u001b[0mrepr\u001b[0m\u001b[0;34m(\u001b[0m\u001b[0mkey\u001b[0m\u001b[0;34m)\u001b[0m \u001b[0;34m+\u001b[0m \u001b[0;34m\" is not a string\"\u001b[0m\u001b[0;34m)\u001b[0m\u001b[0;34m\u001b[0m\u001b[0m\n\u001b[0m\u001b[1;32m    376\u001b[0m             \u001b[0;32mif\u001b[0m \u001b[0mfirst\u001b[0m\u001b[0;34m:\u001b[0m\u001b[0;34m\u001b[0m\u001b[0m\n\u001b[1;32m    377\u001b[0m                 \u001b[0mfirst\u001b[0m \u001b[0;34m=\u001b[0m \u001b[0;32mFalse\u001b[0m\u001b[0;34m\u001b[0m\u001b[0m\n",
      "\u001b[0;31mTypeError\u001b[0m: key 4347742666 is not a string"
     ]
    }
   ],
   "source": [
    "import json\n",
    "print(json.dumps(mydic, indent=4))"
   ]
  },
  {
   "cell_type": "code",
   "execution_count": null,
   "metadata": {
    "collapsed": true
   },
   "outputs": [],
   "source": []
  }
 ],
 "metadata": {
  "kernelspec": {
   "display_name": "Python [conda root]",
   "language": "python",
   "name": "conda-root-py"
  },
  "language_info": {
   "codemirror_mode": {
    "name": "ipython",
    "version": 3
   },
   "file_extension": ".py",
   "mimetype": "text/x-python",
   "name": "python",
   "nbconvert_exporter": "python",
   "pygments_lexer": "ipython3",
   "version": "3.5.3"
  }
 },
 "nbformat": 4,
 "nbformat_minor": 2
}
