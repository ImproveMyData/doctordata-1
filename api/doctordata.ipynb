{
 "cells": [
  {
   "cell_type": "markdown",
   "metadata": {},
   "source": [
    "# Scripts que devuelve las diferencias entre los ficheros"
   ]
  },
  {
   "cell_type": "markdown",
   "metadata": {},
   "source": [
    "Importamos"
   ]
  },
  {
   "cell_type": "code",
   "execution_count": 40,
   "metadata": {},
   "outputs": [],
   "source": [
    "import json\n",
    "import os\n",
    "import pandas as pd\n",
    "from difflib import SequenceMatcher\n",
    "import jellyfish\n",
    "from geopy.geocoders import Nominatim\n",
    "geolocator = Nominatim()\n",
    "from geopy.distance import great_circle\n",
    "import folium\n",
    "from folium.plugins import MarkerCluster\n",
    "from convertbng.util import convert_bng, convert_lonlat, convert_etrs89_to_lonlat\n",
    "import overpass\n",
    "import sys\n",
    "\n",
    "first_arg = sys.argv[1]"
   ]
  },
  {
   "cell_type": "code",
   "execution_count": 2,
   "metadata": {},
   "outputs": [
    {
     "name": "stdout",
     "output_type": "stream",
     "text": [
      "-f\n"
     ]
    }
   ],
   "source": [
    "print(first_arg)"
   ]
  },
  {
   "cell_type": "code",
   "execution_count": 3,
   "metadata": {
    "collapsed": true
   },
   "outputs": [],
   "source": [
    "#Center coordinates\n",
    "SF_COORDINATES = (40.4168, -3.7038)\n",
    "\n",
    "# for speed purposes\n",
    "MAX_RECORDS = 10"
   ]
  },
  {
   "cell_type": "code",
   "execution_count": 4,
   "metadata": {
    "collapsed": true
   },
   "outputs": [],
   "source": [
    "def get_id(x):\n",
    "    try:\n",
    "        for i in range(len(ids)):\n",
    "            point = [lat[i],lon[i]]\n",
    "            if getDistance_meters(x,point) <results[fichero]['distance_SAME']:\n",
    "                ayu[i] = x\n",
    "                return ids[i]\n",
    "        return 'No match'\n",
    "    except:\n",
    "        return 'No match'\n",
    "\n",
    "def get_close(x):\n",
    "    try:\n",
    "        for i in range(len(ids)):\n",
    "            point = [lat[i],lon[i]]\n",
    "            if getDistance_meters(x,point) <results[fichero]['distance_CLOSE']:\n",
    "                ayu[i] = x\n",
    "                return ids[i]\n",
    "        return 'No match'\n",
    "    except:\n",
    "        return 'No match'\n",
    "    \n",
    "def get_lat(x):\n",
    "    try:\n",
    "        ind = ids.index(x)\n",
    "        return float(lat[ind])\n",
    "    except:\n",
    "        return None\n",
    "\n",
    "def get_lon(x):\n",
    "    try:\n",
    "        ind = ids.index(x)\n",
    "        return float(lon[ind])\n",
    "    except:\n",
    "        return None\n",
    "\n",
    "def get_name(x):\n",
    "    try:\n",
    "        ind = ids.index(x)\n",
    "        return name[ind]\n",
    "    except:\n",
    "        return None\n",
    "\n",
    "def get_score(x):\n",
    "    return getDistance_meters([x.lat_OSM, x.lon_OSM],[x.LATITUD, x.LONGITUD])\n",
    "\n"
   ]
  },
  {
   "cell_type": "code",
   "execution_count": 5,
   "metadata": {
    "collapsed": true
   },
   "outputs": [],
   "source": [
    "def getDistance_meters(x,y):\n",
    "    try:\n",
    "        return great_circle(x, y).kilometers*1000.0\n",
    "    except:\n",
    "        return 0"
   ]
  },
  {
   "cell_type": "markdown",
   "metadata": {},
   "source": [
    "Creamos un data para los datos de OSM"
   ]
  },
  {
   "cell_type": "code",
   "execution_count": 6,
   "metadata": {
    "collapsed": true
   },
   "outputs": [],
   "source": [
    "os.chdir('/Volumes/MacintoshHD/_GitHub/doctordata/api/data/')"
   ]
  },
  {
   "cell_type": "code",
   "execution_count": 7,
   "metadata": {
    "collapsed": true
   },
   "outputs": [],
   "source": [
    "indice = pd.read_csv('indice.csv',index_col=0,encoding='latin-1',delimiter=';')"
   ]
  },
  {
   "cell_type": "code",
   "execution_count": 8,
   "metadata": {},
   "outputs": [
    {
     "name": "stdout",
     "output_type": "stream",
     "text": [
      "<class 'pandas.core.frame.DataFrame'>\n",
      "Index: 32 entries, BANCOS to MONUMENTOS\n",
      "Data columns (total 7 columns):\n",
      "SEARCH            32 non-null object\n",
      "AYU               32 non-null object\n",
      "OSM               2 non-null object\n",
      "DOCTORDATA        32 non-null object\n",
      "distance_SAME     32 non-null int64\n",
      "distance_CLOSE    32 non-null int64\n",
      "palabra           32 non-null object\n",
      "dtypes: int64(2), object(5)\n",
      "memory usage: 2.0+ KB\n"
     ]
    }
   ],
   "source": [
    "indice.info()"
   ]
  },
  {
   "cell_type": "code",
   "execution_count": 9,
   "metadata": {
    "collapsed": true
   },
   "outputs": [],
   "source": [
    "results = {}\n",
    "for key, df_gb in indice.groupby(indice.index):\n",
    "    results[str(key)] = df_gb.to_dict('list')"
   ]
  },
  {
   "cell_type": "code",
   "execution_count": 10,
   "metadata": {
    "collapsed": true
   },
   "outputs": [],
   "source": [
    "for key in results.keys():\n",
    "    results[key]['SEARCH'] = results[key]['SEARCH'][0][1:-1]\n",
    "    results[key]['distance_CLOSE'] = results[key]['distance_CLOSE'][0]\n",
    "    results[key]['distance_SAME'] = results[key]['distance_SAME'][0]\n",
    "    results[key]['palabra'] = results[key]['palabra'][0]"
   ]
  },
  {
   "cell_type": "code",
   "execution_count": 11,
   "metadata": {},
   "outputs": [
    {
     "data": {
      "text/plain": [
       "'\"amenity\"=\"bench\"'"
      ]
     },
     "execution_count": 11,
     "metadata": {},
     "output_type": "execute_result"
    }
   ],
   "source": [
    "results['BANCOS']['SEARCH']"
   ]
  },
  {
   "cell_type": "code",
   "execution_count": 12,
   "metadata": {},
   "outputs": [
    {
     "data": {
      "text/plain": [
       "['.DS_Store',\n",
       " '20170614_BANCOS.csv',\n",
       " '20170614_PAPELERAS.csv',\n",
       " '20171110_InventarioFuentes.csv',\n",
       " 'anexo i monumentos.xls',\n",
       " 'artwork.geojson',\n",
       " 'bench.geojson',\n",
       " 'drinking_water.geojson',\n",
       " 'indice.csv',\n",
       " 'memorial.geojson',\n",
       " 'monument.geojson',\n",
       " 'street_lamp.geojson',\n",
       " 'waste_basket.geojson']"
      ]
     },
     "execution_count": 12,
     "metadata": {},
     "output_type": "execute_result"
    }
   ],
   "source": [
    "os.listdir()"
   ]
  },
  {
   "cell_type": "code",
   "execution_count": 13,
   "metadata": {
    "collapsed": true
   },
   "outputs": [],
   "source": [
    "AYU_fichero = '20171110_InventarioFuentes.csv'"
   ]
  },
  {
   "cell_type": "code",
   "execution_count": 14,
   "metadata": {
    "collapsed": true
   },
   "outputs": [],
   "source": [
    "fichero = []\n",
    "for key in results.keys():\n",
    "    if AYU_fichero.split('_')[1][:-4] == results[key]['palabra']:\n",
    "        fichero = key"
   ]
  },
  {
   "cell_type": "code",
   "execution_count": 15,
   "metadata": {},
   "outputs": [
    {
     "data": {
      "text/plain": [
       "{'BANCOS': {'AYU': ['DISTRITO',\n",
       "   'BARRIO',\n",
       "   'MODELO',\n",
       "   'X_ETRS89',\n",
       "   'Y_ETRS89',\n",
       "   'Longitud',\n",
       "   'Latitud'],\n",
       "  'DOCTORDATA': ['DISTRITO',\n",
       "   'BARRIO',\n",
       "   'MODELO',\n",
       "   'X_ETRS89',\n",
       "   'Y_ETRS89',\n",
       "   'LONGITUD',\n",
       "   'LATITUD'],\n",
       "  'OSM': [nan, nan, nan, nan, nan, nan, nan],\n",
       "  'SEARCH': '\"amenity\"=\"bench\"',\n",
       "  'distance_CLOSE': 50,\n",
       "  'distance_SAME': 5,\n",
       "  'palabra': 'BANCOS'},\n",
       " 'FUENTES': {'AYU': ['CODIGO',\n",
       "   'ZONA VERDE / VIA PUBLICA',\n",
       "   'DISTRITO',\n",
       "   'DIRECCION',\n",
       "   'COMPLEMENTO DE DIRECCION',\n",
       "   'COORD. X',\n",
       "   'COORD. Y',\n",
       "   'SISTEMA DE COORDENADAS',\n",
       "   'ESTADO',\n",
       "   'OBSERVACIONES',\n",
       "   'FECHA DATOS',\n",
       "   'LONGITUD',\n",
       "   'LATITUD'],\n",
       "  'DOCTORDATA': ['CODIGO',\n",
       "   'ZV-VP',\n",
       "   'DISTRITO',\n",
       "   'DIRECCION',\n",
       "   'COMP-DIR',\n",
       "   'X_ETRS89',\n",
       "   'Y_ETRS89',\n",
       "   'SISTEMA DE COORDENADAS',\n",
       "   'ESTADO',\n",
       "   'OBSERVACIONES',\n",
       "   'FECHA',\n",
       "   'LONGITUD',\n",
       "   'LATITUD'],\n",
       "  'OSM': [nan, nan, nan, nan, nan, nan, nan, nan, nan, nan, nan, nan, nan],\n",
       "  'SEARCH': '\"amenity\"=\"drinking_water\"',\n",
       "  'distance_CLOSE': 50,\n",
       "  'distance_SAME': 5,\n",
       "  'palabra': 'InventarioFuentes'},\n",
       " 'MONUMENTOS': {'AYU': ['COD', 'TIPO', 'CALIF', 'TITULO', 'LOCALIZACION'],\n",
       "  'DOCTORDATA': ['CODIGO', 'TIPO', 'CALIF', 'NOMBRE', 'DIRECCION'],\n",
       "  'OSM': [nan, nan, nan, 'name', 'address'],\n",
       "  'SEARCH': '\"artwork_type\": \"statue\",\"historic\": \"monument\",\"historic\"=\"memorial\"',\n",
       "  'distance_CLOSE': 50,\n",
       "  'distance_SAME': 5,\n",
       "  'palabra': 'monumentos'},\n",
       " 'PAPELERAS': {'AYU': ['DISTRITO',\n",
       "   'BARRIO',\n",
       "   'MODELO',\n",
       "   'X_ETRS89',\n",
       "   'Y_ETRS89',\n",
       "   'Longitud',\n",
       "   'Latitud'],\n",
       "  'DOCTORDATA': ['DISTRITO',\n",
       "   'BARRIO',\n",
       "   'MODELO',\n",
       "   'X_ETRS89',\n",
       "   'Y_ETRS89',\n",
       "   'LONGITUD',\n",
       "   'LATITUD'],\n",
       "  'OSM': [nan, nan, nan, nan, nan, nan, nan],\n",
       "  'SEARCH': '\"amenity\"=\"waste_basket\"',\n",
       "  'distance_CLOSE': 50,\n",
       "  'distance_SAME': 5,\n",
       "  'palabra': 'PAPELERAS'}}"
      ]
     },
     "execution_count": 15,
     "metadata": {},
     "output_type": "execute_result"
    }
   ],
   "source": [
    "results"
   ]
  },
  {
   "cell_type": "code",
   "execution_count": 16,
   "metadata": {
    "collapsed": true
   },
   "outputs": [],
   "source": [
    "search = 'area[\"name\"=\"Madrid\"];node(area)['+results[fichero]['SEARCH']+'];'"
   ]
  },
  {
   "cell_type": "code",
   "execution_count": 17,
   "metadata": {
    "collapsed": true
   },
   "outputs": [],
   "source": [
    "import overpass\n",
    "api = overpass.API()\n",
    "OSM = api.Get(search)"
   ]
  },
  {
   "cell_type": "code",
   "execution_count": 18,
   "metadata": {},
   "outputs": [
    {
     "data": {
      "text/plain": [
       "{'amenity': 'drinking_water'}"
      ]
     },
     "execution_count": 18,
     "metadata": {},
     "output_type": "execute_result"
    }
   ],
   "source": [
    "OSM['features'][0]['properties']"
   ]
  },
  {
   "cell_type": "markdown",
   "metadata": {},
   "source": [
    "Create searching arrays"
   ]
  },
  {
   "cell_type": "code",
   "execution_count": 19,
   "metadata": {
    "collapsed": true
   },
   "outputs": [],
   "source": [
    "ids = [OSM['features'][i]['id'] for i in range(len(OSM['features']))]\n",
    "lat = [OSM['features'][i]['geometry']['coordinates'][1] for i in range(len(OSM['features']))]\n",
    "lon = [OSM['features'][i]['geometry']['coordinates'][0] for i in range(len(OSM['features']))]\n",
    "#name = [OSM['features'][i]['properties']['name'] for i in range(len(OSM['features']))]\n",
    "ayu = ids[:]"
   ]
  },
  {
   "cell_type": "markdown",
   "metadata": {},
   "source": [
    "Add ayuntamiento data"
   ]
  },
  {
   "cell_type": "code",
   "execution_count": 20,
   "metadata": {},
   "outputs": [
    {
     "data": {
      "text/plain": [
       "['ZV-VP',\n",
       " 'DISTRITO',\n",
       " 'DIRECCION',\n",
       " 'COMP-DIR',\n",
       " 'X_ETRS89',\n",
       " 'Y_ETRS89',\n",
       " 'SISTEMA DE COORDENADAS',\n",
       " 'ESTADO',\n",
       " 'OBSERVACIONES',\n",
       " 'FECHA',\n",
       " 'LONGITUD',\n",
       " 'LATITUD']"
      ]
     },
     "execution_count": 20,
     "metadata": {},
     "output_type": "execute_result"
    }
   ],
   "source": [
    "results[fichero]['DOCTORDATA'][1:]"
   ]
  },
  {
   "cell_type": "code",
   "execution_count": 21,
   "metadata": {},
   "outputs": [
    {
     "data": {
      "text/plain": [
       "['ZONA VERDE / VIA PUBLICA',\n",
       " 'DISTRITO',\n",
       " 'DIRECCION',\n",
       " 'COMPLEMENTO DE DIRECCIÓN ',\n",
       " 'COORD. X',\n",
       " 'COORD. Y',\n",
       " 'SISTEMA DE COORDENADAS',\n",
       " 'ESTADO',\n",
       " 'OBSERVACIONES',\n",
       " 'FECHA DATOS',\n",
       " 'LONGITUD',\n",
       " 'LATITUD']"
      ]
     },
     "execution_count": 21,
     "metadata": {},
     "output_type": "execute_result"
    }
   ],
   "source": [
    "['ZONA VERDE / VIA PUBLICA', 'DISTRITO', 'DIRECCION',\n",
    "       'COMPLEMENTO DE DIRECCIÓN ', 'COORD. X', 'COORD. Y',\n",
    "       'SISTEMA DE COORDENADAS', 'ESTADO', 'OBSERVACIONES', 'FECHA DATOS',\n",
    "       'LONGITUD', 'LATITUD']"
   ]
  },
  {
   "cell_type": "code",
   "execution_count": 22,
   "metadata": {},
   "outputs": [
    {
     "data": {
      "text/html": [
       "<div>\n",
       "<style>\n",
       "    .dataframe thead tr:only-child th {\n",
       "        text-align: right;\n",
       "    }\n",
       "\n",
       "    .dataframe thead th {\n",
       "        text-align: left;\n",
       "    }\n",
       "\n",
       "    .dataframe tbody tr th {\n",
       "        vertical-align: top;\n",
       "    }\n",
       "</style>\n",
       "<table border=\"1\" class=\"dataframe\">\n",
       "  <thead>\n",
       "    <tr style=\"text-align: right;\">\n",
       "      <th></th>\n",
       "      <th>ZV-VP</th>\n",
       "      <th>DISTRITO</th>\n",
       "      <th>DIRECCION</th>\n",
       "      <th>COMP-DIR</th>\n",
       "      <th>X_ETRS89</th>\n",
       "      <th>Y_ETRS89</th>\n",
       "      <th>SISTEMA DE COORDENADAS</th>\n",
       "      <th>ESTADO</th>\n",
       "      <th>OBSERVACIONES</th>\n",
       "      <th>FECHA</th>\n",
       "      <th>LONGITUD</th>\n",
       "      <th>LATITUD</th>\n",
       "      <th>id_OSM</th>\n",
       "      <th>lat_OSM</th>\n",
       "      <th>lon_OSM</th>\n",
       "      <th>coord_OSM</th>\n",
       "      <th>name_OSM</th>\n",
       "      <th>score_OSM</th>\n",
       "      <th>coord</th>\n",
       "    </tr>\n",
       "    <tr>\n",
       "      <th>CODIGO</th>\n",
       "      <th></th>\n",
       "      <th></th>\n",
       "      <th></th>\n",
       "      <th></th>\n",
       "      <th></th>\n",
       "      <th></th>\n",
       "      <th></th>\n",
       "      <th></th>\n",
       "      <th></th>\n",
       "      <th></th>\n",
       "      <th></th>\n",
       "      <th></th>\n",
       "      <th></th>\n",
       "      <th></th>\n",
       "      <th></th>\n",
       "      <th></th>\n",
       "      <th></th>\n",
       "      <th></th>\n",
       "      <th></th>\n",
       "    </tr>\n",
       "  </thead>\n",
       "  <tbody>\n",
       "    <tr>\n",
       "      <th>FUE_03-08_0000000120</th>\n",
       "      <td>ZV</td>\n",
       "      <td>FUENCARRAL-EL PARDO</td>\n",
       "      <td>COLONIA MINGORRUBIO 1ª FASE</td>\n",
       "      <td>C/ ALMENAS</td>\n",
       "      <td>433767.8135</td>\n",
       "      <td>4487222.559</td>\n",
       "      <td>ETRS89 / UTM  Zona 30N</td>\n",
       "      <td>EN SERVICIO</td>\n",
       "      <td>NaN</td>\n",
       "      <td>3-nov.-17</td>\n",
       "      <td>-3.782030</td>\n",
       "      <td>40.533100</td>\n",
       "      <td>NaN</td>\n",
       "      <td>NaN</td>\n",
       "      <td>NaN</td>\n",
       "      <td>NaN</td>\n",
       "      <td>NaN</td>\n",
       "      <td>NaN</td>\n",
       "      <td>(40.5331, -3.78203)</td>\n",
       "    </tr>\n",
       "    <tr>\n",
       "      <th>FUE_03-08_0000000121</th>\n",
       "      <td>ZV</td>\n",
       "      <td>FUENCARRAL-EL PARDO</td>\n",
       "      <td>COLONIA MINGORRUBIO 1ª FASE</td>\n",
       "      <td>C/ ESCUADRÓN</td>\n",
       "      <td>433778.9948</td>\n",
       "      <td>4487403.260</td>\n",
       "      <td>ETRS89 / UTM  Zona 30N</td>\n",
       "      <td>EN SERVICIO</td>\n",
       "      <td>NaN</td>\n",
       "      <td>3-nov.-17</td>\n",
       "      <td>-3.781917</td>\n",
       "      <td>40.534729</td>\n",
       "      <td>NaN</td>\n",
       "      <td>NaN</td>\n",
       "      <td>NaN</td>\n",
       "      <td>NaN</td>\n",
       "      <td>NaN</td>\n",
       "      <td>NaN</td>\n",
       "      <td>(40.5347, -3.78192)</td>\n",
       "    </tr>\n",
       "  </tbody>\n",
       "</table>\n",
       "</div>"
      ],
      "text/plain": [
       "                     ZV-VP             DISTRITO                    DIRECCION  \\\n",
       "CODIGO                                                                         \n",
       "FUE_03-08_0000000120    ZV  FUENCARRAL-EL PARDO  COLONIA MINGORRUBIO 1ª FASE   \n",
       "FUE_03-08_0000000121    ZV  FUENCARRAL-EL PARDO  COLONIA MINGORRUBIO 1ª FASE   \n",
       "\n",
       "                          COMP-DIR     X_ETRS89     Y_ETRS89  \\\n",
       "CODIGO                                                         \n",
       "FUE_03-08_0000000120    C/ ALMENAS  433767.8135  4487222.559   \n",
       "FUE_03-08_0000000121  C/ ESCUADRÓN  433778.9948  4487403.260   \n",
       "\n",
       "                      SISTEMA DE COORDENADAS       ESTADO OBSERVACIONES  \\\n",
       "CODIGO                                                                    \n",
       "FUE_03-08_0000000120  ETRS89 / UTM  Zona 30N  EN SERVICIO           NaN   \n",
       "FUE_03-08_0000000121  ETRS89 / UTM  Zona 30N  EN SERVICIO           NaN   \n",
       "\n",
       "                          FECHA  LONGITUD    LATITUD  id_OSM  lat_OSM  \\\n",
       "CODIGO                                                                  \n",
       "FUE_03-08_0000000120  3-nov.-17 -3.782030  40.533100     NaN      NaN   \n",
       "FUE_03-08_0000000121  3-nov.-17 -3.781917  40.534729     NaN      NaN   \n",
       "\n",
       "                      lon_OSM  coord_OSM  name_OSM  score_OSM  \\\n",
       "CODIGO                                                          \n",
       "FUE_03-08_0000000120      NaN        NaN       NaN        NaN   \n",
       "FUE_03-08_0000000121      NaN        NaN       NaN        NaN   \n",
       "\n",
       "                                    coord  \n",
       "CODIGO                                     \n",
       "FUE_03-08_0000000120  (40.5331, -3.78203)  \n",
       "FUE_03-08_0000000121  (40.5347, -3.78192)  "
      ]
     },
     "execution_count": 22,
     "metadata": {},
     "output_type": "execute_result"
    }
   ],
   "source": [
    "AYU = pd.read_csv(AYU_fichero, encoding='latin-1', delimiter=';',index_col=0)\n",
    "AYU.columns = [x.upper() for x in AYU.columns.values]\n",
    "if AYU_fichero == '20171110_InventarioFuentes.csv':\n",
    "    AYU.columns = results[fichero]['DOCTORDATA'][1:]\n",
    "\n",
    "try:\n",
    "    AYU = AYU[AYU.LATITUD != 'Error']\n",
    "    AYU = AYU[AYU.LONGITUD != 'Error']\n",
    "except:\n",
    "    print('No errors!')\n",
    "\n",
    "AYU.LATITUD = AYU.LATITUD.astype('float32')\n",
    "AYU.LONGITUD = AYU.LONGITUD.astype('float32')\n",
    "AYU = AYU.sort_values('LATITUD')\n",
    "AYU['id_OSM'] = pd.Series()\n",
    "AYU['lat_OSM'] = pd.Series()\n",
    "AYU['lon_OSM'] = pd.Series()\n",
    "AYU['coord_OSM'] = pd.Series()\n",
    "AYU['name_OSM'] = pd.Series()\n",
    "AYU['score_OSM'] = pd.Series()\n",
    "AYU['X_ETRS89'] = AYU['X_ETRS89'].apply(lambda x: float(x.replace(',','.')))\n",
    "AYU['Y_ETRS89'] = AYU['Y_ETRS89'].apply(lambda x: float(x.replace(',','.')))\n",
    "AYU['coord'] = list(zip(AYU.LATITUD, AYU.LONGITUD))\n",
    "#AYU = AYU[:200]\n",
    "AYU.tail(2)"
   ]
  },
  {
   "cell_type": "code",
   "execution_count": 23,
   "metadata": {},
   "outputs": [
    {
     "name": "stdout",
     "output_type": "stream",
     "text": [
      "<class 'pandas.core.frame.DataFrame'>\n",
      "Index: 1598 entries, FUE_06-17_0000000113 to FUE_03-08_0000000121\n",
      "Data columns (total 19 columns):\n",
      "ZV-VP                     1598 non-null object\n",
      "DISTRITO                  1598 non-null object\n",
      "DIRECCION                 1598 non-null object\n",
      "COMP-DIR                  1053 non-null object\n",
      "X_ETRS89                  1598 non-null float64\n",
      "Y_ETRS89                  1598 non-null float64\n",
      "SISTEMA DE COORDENADAS    1598 non-null object\n",
      "ESTADO                    1598 non-null object\n",
      "OBSERVACIONES             135 non-null object\n",
      "FECHA                     1598 non-null object\n",
      "LONGITUD                  1598 non-null float32\n",
      "LATITUD                   1598 non-null float32\n",
      "id_OSM                    0 non-null float64\n",
      "lat_OSM                   0 non-null float64\n",
      "lon_OSM                   0 non-null float64\n",
      "coord_OSM                 0 non-null float64\n",
      "name_OSM                  0 non-null float64\n",
      "score_OSM                 0 non-null float64\n",
      "coord                     1598 non-null object\n",
      "dtypes: float32(2), float64(8), object(9)\n",
      "memory usage: 237.2+ KB\n"
     ]
    }
   ],
   "source": [
    "AYU.info()"
   ]
  },
  {
   "cell_type": "code",
   "execution_count": 24,
   "metadata": {
    "collapsed": true
   },
   "outputs": [],
   "source": [
    "AYU.id_OSM = AYU.coord.apply(lambda x: get_id(x)) \n",
    "AYU_NO = AYU[AYU.id_OSM == 'No match']\n",
    "AYU_OK = AYU[AYU.id_OSM != 'No match']"
   ]
  },
  {
   "cell_type": "code",
   "execution_count": 25,
   "metadata": {},
   "outputs": [
    {
     "data": {
      "text/html": [
       "<div>\n",
       "<style>\n",
       "    .dataframe thead tr:only-child th {\n",
       "        text-align: right;\n",
       "    }\n",
       "\n",
       "    .dataframe thead th {\n",
       "        text-align: left;\n",
       "    }\n",
       "\n",
       "    .dataframe tbody tr th {\n",
       "        vertical-align: top;\n",
       "    }\n",
       "</style>\n",
       "<table border=\"1\" class=\"dataframe\">\n",
       "  <thead>\n",
       "    <tr style=\"text-align: right;\">\n",
       "      <th></th>\n",
       "      <th>ZV-VP</th>\n",
       "      <th>DISTRITO</th>\n",
       "      <th>DIRECCION</th>\n",
       "      <th>COMP-DIR</th>\n",
       "      <th>X_ETRS89</th>\n",
       "      <th>Y_ETRS89</th>\n",
       "      <th>SISTEMA DE COORDENADAS</th>\n",
       "      <th>ESTADO</th>\n",
       "      <th>OBSERVACIONES</th>\n",
       "      <th>FECHA</th>\n",
       "      <th>LONGITUD</th>\n",
       "      <th>LATITUD</th>\n",
       "      <th>id_OSM</th>\n",
       "      <th>lat_OSM</th>\n",
       "      <th>lon_OSM</th>\n",
       "      <th>coord_OSM</th>\n",
       "      <th>name_OSM</th>\n",
       "      <th>score_OSM</th>\n",
       "      <th>coord</th>\n",
       "    </tr>\n",
       "    <tr>\n",
       "      <th>CODIGO</th>\n",
       "      <th></th>\n",
       "      <th></th>\n",
       "      <th></th>\n",
       "      <th></th>\n",
       "      <th></th>\n",
       "      <th></th>\n",
       "      <th></th>\n",
       "      <th></th>\n",
       "      <th></th>\n",
       "      <th></th>\n",
       "      <th></th>\n",
       "      <th></th>\n",
       "      <th></th>\n",
       "      <th></th>\n",
       "      <th></th>\n",
       "      <th></th>\n",
       "      <th></th>\n",
       "      <th></th>\n",
       "      <th></th>\n",
       "    </tr>\n",
       "  </thead>\n",
       "  <tbody>\n",
       "    <tr>\n",
       "      <th>FUE_06-17_0000000113</th>\n",
       "      <td>VP</td>\n",
       "      <td>VILLAVERDE</td>\n",
       "      <td>AV. DE LOS ROSALES  407</td>\n",
       "      <td>NaN</td>\n",
       "      <td>443914.6707</td>\n",
       "      <td>4464487.999</td>\n",
       "      <td>ETRS89 / UTM  Zona 30N</td>\n",
       "      <td>EN SERVICIO</td>\n",
       "      <td>NaN</td>\n",
       "      <td>3-nov.-17</td>\n",
       "      <td>-3.660224</td>\n",
       "      <td>40.329044</td>\n",
       "      <td>4330653037</td>\n",
       "      <td>NaN</td>\n",
       "      <td>NaN</td>\n",
       "      <td>NaN</td>\n",
       "      <td>NaN</td>\n",
       "      <td>NaN</td>\n",
       "      <td>(40.329, -3.66022)</td>\n",
       "    </tr>\n",
       "    <tr>\n",
       "      <th>FUE_06-17_0000000060</th>\n",
       "      <td>ZV</td>\n",
       "      <td>VILLAVERDE</td>\n",
       "      <td>INST. DEP. COL.  MARCONI</td>\n",
       "      <td>NaN</td>\n",
       "      <td>440662.8099</td>\n",
       "      <td>4465018.166</td>\n",
       "      <td>ETRS89 / UTM  Zona 30N</td>\n",
       "      <td>EN SERVICIO</td>\n",
       "      <td>NaN</td>\n",
       "      <td>3-nov.-17</td>\n",
       "      <td>-3.698551</td>\n",
       "      <td>40.333595</td>\n",
       "      <td>4330662057</td>\n",
       "      <td>NaN</td>\n",
       "      <td>NaN</td>\n",
       "      <td>NaN</td>\n",
       "      <td>NaN</td>\n",
       "      <td>NaN</td>\n",
       "      <td>(40.3336, -3.69855)</td>\n",
       "    </tr>\n",
       "  </tbody>\n",
       "</table>\n",
       "</div>"
      ],
      "text/plain": [
       "                     ZV-VP    DISTRITO                 DIRECCION COMP-DIR  \\\n",
       "CODIGO                                                                      \n",
       "FUE_06-17_0000000113    VP  VILLAVERDE   AV. DE LOS ROSALES  407      NaN   \n",
       "FUE_06-17_0000000060    ZV  VILLAVERDE  INST. DEP. COL.  MARCONI      NaN   \n",
       "\n",
       "                         X_ETRS89     Y_ETRS89  SISTEMA DE COORDENADAS  \\\n",
       "CODIGO                                                                   \n",
       "FUE_06-17_0000000113  443914.6707  4464487.999  ETRS89 / UTM  Zona 30N   \n",
       "FUE_06-17_0000000060  440662.8099  4465018.166  ETRS89 / UTM  Zona 30N   \n",
       "\n",
       "                           ESTADO OBSERVACIONES      FECHA  LONGITUD  \\\n",
       "CODIGO                                                                 \n",
       "FUE_06-17_0000000113  EN SERVICIO           NaN  3-nov.-17 -3.660224   \n",
       "FUE_06-17_0000000060  EN SERVICIO           NaN  3-nov.-17 -3.698551   \n",
       "\n",
       "                        LATITUD      id_OSM  lat_OSM  lon_OSM  coord_OSM  \\\n",
       "CODIGO                                                                     \n",
       "FUE_06-17_0000000113  40.329044  4330653037      NaN      NaN        NaN   \n",
       "FUE_06-17_0000000060  40.333595  4330662057      NaN      NaN        NaN   \n",
       "\n",
       "                      name_OSM  score_OSM                coord  \n",
       "CODIGO                                                          \n",
       "FUE_06-17_0000000113       NaN        NaN   (40.329, -3.66022)  \n",
       "FUE_06-17_0000000060       NaN        NaN  (40.3336, -3.69855)  "
      ]
     },
     "execution_count": 25,
     "metadata": {},
     "output_type": "execute_result"
    }
   ],
   "source": [
    "AYU.head(2)"
   ]
  },
  {
   "cell_type": "code",
   "execution_count": 26,
   "metadata": {
    "collapsed": true
   },
   "outputs": [],
   "source": [
    "AYU_CLOSE = AYU_NO.copy()\n",
    "AYU_CLOSE.id_OSM = AYU_NO.coord.apply(lambda x: get_close(x))\n",
    "AYU_NO = AYU_CLOSE[AYU_CLOSE.id_OSM == 'No match']\n",
    "AYU_CLOSE = AYU_CLOSE[AYU_CLOSE.id_OSM != 'No match']"
   ]
  },
  {
   "cell_type": "code",
   "execution_count": 27,
   "metadata": {
    "collapsed": true
   },
   "outputs": [],
   "source": [
    "AYU = pd.concat([AYU_OK, AYU_CLOSE, AYU_NO])"
   ]
  },
  {
   "cell_type": "code",
   "execution_count": 28,
   "metadata": {
    "collapsed": true
   },
   "outputs": [],
   "source": [
    "AYU.lat_OSM = AYU.id_OSM.apply(lambda x: get_lat(x))\n",
    "AYU.lon_OSM = AYU.id_OSM.apply(lambda x: get_lon(x))\n",
    "AYU['coord'] = list(zip(AYU.lat_OSM, AYU.lon_OSM))\n",
    "AYU.score_OSM = AYU.apply(lambda x: get_score(x), axis=1)\n",
    "AYU['coord_OSM'] = list(zip(AYU.lat_OSM, AYU.lon_OSM))\n",
    "\n",
    "try:\n",
    "    AYU_CLOSE.lat_OSM = AYU_CLOSE.id_OSM.apply(lambda x: get_lat(x))\n",
    "    AYU_CLOSE.lon_OSM = AYU_CLOSE.id_OSM.apply(lambda x: get_lon(x))\n",
    "    AYU_CLOSE['coord'] = list(zip(AYU_CLOSE.lat_OSM, AYU_CLOSE.lon_OSM))\n",
    "    AYU_CLOSE.score_OSM = AYU_CLOSE.apply(lambda x: get_score(x), axis=1)\n",
    "    AYU_CLOSE['coord_OSM'] = list(zip(AYU_CLOSE.lat_OSM, AYU_CLOSE.lon_OSM))\n",
    "except:\n",
    "    print('No close')\n",
    "\n",
    "AYU_NO.lat_OSM = AYU_NO.id_OSM.apply(lambda x: get_lat(x))\n",
    "AYU_NO.lon_OSM = AYU_NO.id_OSM.apply(lambda x: get_lon(x))\n",
    "AYU_NO['coord'] = list(zip(AYU_NO.lat_OSM, AYU_NO.lon_OSM))\n",
    "AYU_NO.score_OSM = AYU_NO.apply(lambda x: get_score(x), axis=1)\n",
    "AYU_NO['coord_OSM'] = list(zip(AYU_NO.lat_OSM, AYU_NO.lon_OSM))"
   ]
  },
  {
   "cell_type": "code",
   "execution_count": 29,
   "metadata": {
    "collapsed": true
   },
   "outputs": [],
   "source": [
    "AYU = AYU.sort_values('score_OSM')\n",
    "#AYU.name_OSM = AYU.id_OSM.apply(lambda x: get_name(x))"
   ]
  },
  {
   "cell_type": "code",
   "execution_count": 30,
   "metadata": {
    "collapsed": true
   },
   "outputs": [],
   "source": [
    "AYU_MISSING = []\n",
    "for i in range(len(ids)):\n",
    "    AYU_MISSING.append((ids[i],lat[i],lon[i]))\n",
    "        \n",
    "AYU_MISSING = pd.DataFrame(AYU_MISSING)\n",
    "AYU_MISSING.columns = ['id_OSM','lat_OSM','lon_OSM']\n",
    "\n",
    "AYU_MISSING = AYU_MISSING.set_index('id_OSM')\n",
    "AYU_MISSING['coord'] = list(zip(AYU_MISSING.lat_OSM.values, AYU_MISSING.lon_OSM.values))"
   ]
  },
  {
   "cell_type": "code",
   "execution_count": 31,
   "metadata": {
    "collapsed": true
   },
   "outputs": [],
   "source": [
    "os.chdir('/Volumes/MacintoshHD/_GitHub/doctordata/api/csv/')"
   ]
  },
  {
   "cell_type": "code",
   "execution_count": 32,
   "metadata": {
    "collapsed": true
   },
   "outputs": [],
   "source": [
    "AYU_CLOSE.to_csv(AYU_fichero[:-4]+'-edit.csv')\n",
    "AYU_NO.to_csv(AYU_fichero[:-4]+'-missing_OSM.csv')\n",
    "AYU_MISSING.to_csv(AYU_fichero[:-4]+'-missing_AYU.csv')"
   ]
  },
  {
   "cell_type": "markdown",
   "metadata": {},
   "source": [
    "## Close to edit"
   ]
  },
  {
   "cell_type": "code",
   "execution_count": 33,
   "metadata": {
    "collapsed": true
   },
   "outputs": [],
   "source": [
    "os.chdir('/Volumes/MacintoshHD/_GitHub/doctordata/api/web/')"
   ]
  },
  {
   "cell_type": "code",
   "execution_count": 43,
   "metadata": {},
   "outputs": [],
   "source": [
    "map = folium.Map(location=SF_COORDINATES, zoom_start=11,max_zoom=20, control_scale = True, prefer_canvas=True)\n",
    "marker_cluster = MarkerCluster().add_to(map)\n",
    "for i in range(len(AYU_CLOSE.id_OSM.values)):\n",
    "    folium.Marker(icon=folium.Icon(color='blue'),popup=folium.Popup(str(AYU_CLOSE.index.values[i]), parse_html=True),\n",
    "        location = (AYU_CLOSE.LATITUD.values[i],AYU_CLOSE.LONGITUD.values[i])).add_to(marker_cluster)\n",
    "map.save(AYU_fichero[:-4]+'-edit.html')"
   ]
  },
  {
   "cell_type": "markdown",
   "metadata": {},
   "source": [
    "## Missing in OSM"
   ]
  },
  {
   "cell_type": "code",
   "execution_count": 35,
   "metadata": {
    "collapsed": true
   },
   "outputs": [],
   "source": [
    "map = folium.Map(location=SF_COORDINATES, zoom_start=11,max_zoom=18, control_scale = True, prefer_canvas=True)\n",
    "marker_cluster = MarkerCluster().add_to(map)\n",
    "for i in range(len(AYU_NO.id_OSM.values[:100])):\n",
    "    folium.Marker(icon=folium.Icon(color='blue'),popup=folium.Popup(AYU_NO.index.values[i], parse_html=True),\n",
    "        location = (AYU_NO.LATITUD.values[i],AYU_NO.LONGITUD.values[i])).add_to(marker_cluster)\n",
    "map.save(AYU_fichero[:-4]+'-missing_OSM.html')"
   ]
  },
  {
   "cell_type": "markdown",
   "metadata": {},
   "source": [
    "## Missing in Ayu website"
   ]
  },
  {
   "cell_type": "code",
   "execution_count": 36,
   "metadata": {
    "collapsed": true
   },
   "outputs": [],
   "source": [
    "map = folium.Map(location=SF_COORDINATES, zoom_start=11,max_zoom=20, control_scale = True, prefer_canvas=True)\n",
    "marker_cluster = MarkerCluster().add_to(map)\n",
    "for i in range(len(AYU_MISSING.index.values)):\n",
    "    folium.Marker(icon=folium.Icon(color='green'),popup=folium.Popup(AYU_MISSING.index.values[i], parse_html=True),\n",
    "        location = (AYU_MISSING.lat_OSM.values[i],AYU_MISSING.lon_OSM.values[i])).add_to(marker_cluster)\n",
    "map.save(AYU_fichero[:-4]+'-missing_AYU.html')"
   ]
  },
  {
   "cell_type": "code",
   "execution_count": null,
   "metadata": {
    "collapsed": true
   },
   "outputs": [],
   "source": []
  },
  {
   "cell_type": "code",
   "execution_count": null,
   "metadata": {
    "collapsed": true
   },
   "outputs": [],
   "source": []
  }
 ],
 "metadata": {
  "kernelspec": {
   "display_name": "Python [conda root]",
   "language": "python",
   "name": "conda-root-py"
  },
  "language_info": {
   "codemirror_mode": {
    "name": "ipython",
    "version": 3
   },
   "file_extension": ".py",
   "mimetype": "text/x-python",
   "name": "python",
   "nbconvert_exporter": "python",
   "pygments_lexer": "ipython3",
   "version": "3.5.3"
  }
 },
 "nbformat": 4,
 "nbformat_minor": 2
}
