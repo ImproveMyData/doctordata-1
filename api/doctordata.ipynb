{
 "cells": [
  {
   "cell_type": "markdown",
   "metadata": {},
   "source": [
    "# Scripts que devuelve las diferencias entre los ficheros"
   ]
  },
  {
   "cell_type": "markdown",
   "metadata": {},
   "source": [
    "Importamos"
   ]
  },
  {
   "cell_type": "code",
   "execution_count": 12,
   "metadata": {},
   "outputs": [
    {
     "name": "stdout",
     "output_type": "stream",
     "text": [
      "Importing libraries...\n"
     ]
    }
   ],
   "source": [
    "\"\"\"\n",
    "    This is the main function.\n",
    "\"\"\"\n",
    "print('Importing libraries...')\n",
    "import json\n",
    "import os\n",
    "import pandas as pd\n",
    "from difflib import SequenceMatcher\n",
    "import jellyfish\n",
    "from geopy.geocoders import Nominatim\n",
    "geolocator = Nominatim()\n",
    "from geopy.distance import great_circle\n",
    "import folium\n",
    "from folium.plugins import MarkerCluster\n",
    "from convertbng.util import convert_bng, convert_lonlat, convert_etrs89_to_lonlat\n",
    "import overpass\n",
    "import sys\n"
   ]
  },
  {
   "cell_type": "code",
   "execution_count": 13,
   "metadata": {},
   "outputs": [
    {
     "name": "stdout",
     "output_type": "stream",
     "text": [
      "Defining functions...\n"
     ]
    }
   ],
   "source": [
    "# Functions to work\n",
    "print('Defining functions...')\n",
    "def get_id(x):\n",
    "    try:\n",
    "        for i in range(len(ids)):\n",
    "            point = [lat[i],lon[i]]\n",
    "            if getDistance_meters(x,point) <results[fichero]['distance_SAME']:\n",
    "                ayu[i] = x\n",
    "                return ids[i]\n",
    "        return 'No match'\n",
    "    except:\n",
    "        return 'No match'\n",
    "\n",
    "def get_close(x):\n",
    "    try:\n",
    "        for i in range(len(ids)):\n",
    "            point = [lat[i],lon[i]]\n",
    "            if getDistance_meters(x,point) <results[fichero]['distance_CLOSE']:\n",
    "                ayu[i] = x\n",
    "                return ids[i]\n",
    "        return 'No match'\n",
    "    except:\n",
    "        return 'No match'\n",
    "\n",
    "def get_lat(x):\n",
    "    try:\n",
    "        ind = ids.index(x)\n",
    "        return float(lat[ind])\n",
    "    except:\n",
    "        return None\n",
    "\n",
    "def get_lon(x):\n",
    "    try:\n",
    "        ind = ids.index(x)\n",
    "        return float(lon[ind])\n",
    "    except:\n",
    "        return None\n",
    "\n",
    "def get_name(x):\n",
    "    try:\n",
    "        ind = ids.index(x)\n",
    "        return name[ind]\n",
    "    except:\n",
    "        return None\n",
    "\n",
    "def get_score(x):\n",
    "    return getDistance_meters([x.lat_OSM, x.lon_OSM],[x.LATITUD, x.LONGITUD])\n",
    "\n",
    "def getDistance_meters(x,y):\n",
    "    try:\n",
    "        return great_circle(x, y).kilometers*1000.0\n",
    "    except:\n",
    "        return 0"
   ]
  },
  {
   "cell_type": "code",
   "execution_count": 14,
   "metadata": {},
   "outputs": [],
   "source": [
    "first_arg = sys.argv[1]"
   ]
  },
  {
   "cell_type": "code",
   "execution_count": 15,
   "metadata": {},
   "outputs": [
    {
     "data": {
      "text/plain": [
       "['.DS_Store',\n",
       " '20170614_BANCOS.csv',\n",
       " '20170614_PAPELERAS.csv',\n",
       " '20171110_InventarioFuentes.csv',\n",
       " 'anexo i monumentos.xls',\n",
       " 'doctordata.py',\n",
       " 'indice.csv']"
      ]
     },
     "execution_count": 15,
     "metadata": {},
     "output_type": "execute_result"
    }
   ],
   "source": [
    "os.chdir('/Volumes/MacintoshHD/_GitHub/doctordata/api/data/')\n",
    "os.listdir()"
   ]
  },
  {
   "cell_type": "code",
   "execution_count": 16,
   "metadata": {
    "collapsed": true
   },
   "outputs": [],
   "source": [
    "AYU_fichero = '20171110_InventarioFuentes.csv'\n",
    "# Function to pass argument in terminal\n",
    "try:\n",
    "    if (first_arg != '-f'):\n",
    "        AYU_fichero = first_arg\n",
    "except:\n",
    "    pass"
   ]
  },
  {
   "cell_type": "code",
   "execution_count": 17,
   "metadata": {},
   "outputs": [
    {
     "name": "stdout",
     "output_type": "stream",
     "text": [
      "Opening files and ensuring naming convention...\n",
      "Total OSM entities found:  1638\n",
      "Total MAD entities found:  1605\n",
      "Get id matching....\n",
      "Get close entities...\n",
      "Geolocating from OSM...\n",
      "Creating missing Dataframe...\n",
      "Saving to files...\n"
     ]
    }
   ],
   "source": [
    "#Center coordinates\n",
    "SF_COORDINATES = (40.4168, -3.7038)\n",
    "\n",
    "# for speed purposes\n",
    "MAX_RECORDS = 10\n",
    "\n",
    "\n",
    "\n",
    "print('Opening files and ensuring naming convention...')\n",
    "os.chdir('/Volumes/MacintoshHD/_GitHub/doctordata/api/data/')\n",
    "indice = pd.read_csv('indice.csv',index_col=0,encoding='latin-1',delimiter=';')\n",
    "\n",
    "results = {}\n",
    "for key, df_gb in indice.groupby(indice.index):\n",
    "    results[str(key)] = df_gb.to_dict('list')\n",
    "\n",
    "for key in results.keys():\n",
    "    results[key]['SEARCH'] = results[key]['SEARCH'][0][1:-1]\n",
    "    results[key]['distance_CLOSE'] = results[key]['distance_CLOSE'][0]\n",
    "    results[key]['distance_SAME'] = results[key]['distance_SAME'][0]\n",
    "    results[key]['palabra'] = results[key]['palabra'][0]\n",
    "\n",
    "\n",
    "fichero = []\n",
    "for key in results.keys():\n",
    "    if AYU_fichero.split('_')[1][:-4] == results[key]['palabra']:\n",
    "        fichero = key\n",
    "\n",
    "search = 'area[\"name\"=\"Madrid\"];node(area)['+results[fichero]['SEARCH']+'];'\n",
    "\n",
    "api = overpass.API()\n",
    "OSM = api.Get(search)\n",
    "\n",
    "#OSM['features'][0]\n",
    "\n",
    "\n",
    "# Create searching arrays\n",
    "\n",
    "ids = [OSM['features'][i]['id'] for i in range(len(OSM['features']))]\n",
    "lat = [OSM['features'][i]['geometry']['coordinates'][1] for i in range(len(OSM['features']))]\n",
    "lon = [OSM['features'][i]['geometry']['coordinates'][0] for i in range(len(OSM['features']))]\n",
    "#name = [OSM['features'][i]['properties']['name'] for i in range(len(OSM['features']))]\n",
    "ayu = ids[:]\n",
    "print('Total OSM entities found: ',str(len(ayu)))\n",
    "\n",
    "# Add ayuntamiento data\n",
    "#results[fichero]['DOCTORDATA'][1:]\n",
    "AYU = pd.read_csv(AYU_fichero, encoding='latin-1', delimiter=';',index_col=0)\n",
    "AYU.columns = [x.upper() for x in AYU.columns.values]\n",
    "\n",
    "print('Total MAD entities found: ', str(AYU.count().max()))\n",
    "if AYU_fichero == '20171110_InventarioFuentes.csv':\n",
    "    AYU.columns = results[fichero]['DOCTORDATA'][1:]\n",
    "\n",
    "try:\n",
    "    AYU = AYU[AYU.LATITUD != 'Error']\n",
    "    AYU = AYU[AYU.LONGITUD != 'Error']\n",
    "except:\n",
    "    print('No errors!')\n",
    "\n",
    "AYU.LATITUD = AYU.LATITUD.astype('float32')\n",
    "AYU.LONGITUD = AYU.LONGITUD.astype('float32')\n",
    "AYU = AYU.sort_values('LATITUD')\n",
    "AYU['id_OSM'] = pd.Series()\n",
    "AYU['lat_OSM'] = pd.Series()\n",
    "AYU['lon_OSM'] = pd.Series()\n",
    "AYU['coord_OSM'] = pd.Series()\n",
    "AYU['name_OSM'] = pd.Series()\n",
    "AYU['score_OSM'] = pd.Series()\n",
    "AYU['X_ETRS89'] = AYU['X_ETRS89'].apply(lambda x: float(x.replace(',','.')))\n",
    "AYU['Y_ETRS89'] = AYU['Y_ETRS89'].apply(lambda x: float(x.replace(',','.')))\n",
    "AYU['coord'] = list(zip(AYU.LATITUD, AYU.LONGITUD))\n",
    "#AYU = AYU[:200]\n",
    "\n",
    "print('Get id matching....')\n",
    "AYU.id_OSM = AYU.coord.apply(lambda x: get_id(x))\n",
    "AYU_NO = AYU[AYU.id_OSM == 'No match']\n",
    "AYU_OK = AYU[AYU.id_OSM != 'No match']\n",
    "AYU_CLOSE = AYU_NO.copy()\n",
    "\n",
    "print('Get close entities...')\n",
    "AYU_CLOSE.id_OSM = AYU_NO.coord.apply(lambda x: get_close(x))\n",
    "AYU_NO = AYU_CLOSE[AYU_CLOSE.id_OSM == 'No match']\n",
    "AYU_CLOSE = AYU_CLOSE[AYU_CLOSE.id_OSM != 'No match']\n",
    "\n",
    "AYU = pd.concat([AYU_OK, AYU_CLOSE, AYU_NO])\n",
    "\n",
    "print('Geolocating from OSM...')\n",
    "AYU.lat_OSM = AYU.id_OSM.apply(lambda x: get_lat(x))\n",
    "AYU.lon_OSM = AYU.id_OSM.apply(lambda x: get_lon(x))\n",
    "AYU['coord'] = list(zip(AYU.lat_OSM, AYU.lon_OSM))\n",
    "AYU.score_OSM = AYU.apply(lambda x: get_score(x), axis=1)\n",
    "AYU['coord_OSM'] = list(zip(AYU.lat_OSM, AYU.lon_OSM))\n",
    "\n",
    "try:\n",
    "    AYU_CLOSE.lat_OSM = AYU_CLOSE.id_OSM.apply(lambda x: get_lat(x))\n",
    "    AYU_CLOSE.lon_OSM = AYU_CLOSE.id_OSM.apply(lambda x: get_lon(x))\n",
    "    AYU_CLOSE['coord'] = list(zip(AYU_CLOSE.lat_OSM, AYU_CLOSE.lon_OSM))\n",
    "    AYU_CLOSE.score_OSM = AYU_CLOSE.apply(lambda x: get_score(x), axis=1)\n",
    "    AYU_CLOSE['coord_OSM'] = list(zip(AYU_CLOSE.lat_OSM, AYU_CLOSE.lon_OSM))\n",
    "except:\n",
    "    print('No close')\n",
    "\n",
    "AYU_NO.lat_OSM = AYU_NO.id_OSM.apply(lambda x: get_lat(x))\n",
    "AYU_NO.lon_OSM = AYU_NO.id_OSM.apply(lambda x: get_lon(x))\n",
    "AYU_NO['coord'] = list(zip(AYU_NO.lat_OSM, AYU_NO.lon_OSM))\n",
    "AYU_NO.score_OSM = AYU_NO.apply(lambda x: get_score(x), axis=1)\n",
    "AYU_NO['coord_OSM'] = list(zip(AYU_NO.lat_OSM, AYU_NO.lon_OSM))\n",
    "\n",
    "AYU = AYU.sort_values('score_OSM')\n",
    "#AYU.name_OSM = AYU.id_OSM.apply(lambda x: get_name(x))\n",
    "\n",
    "print('Creating missing Dataframe...')\n",
    "AYU_MISSING = []\n",
    "for i in range(len(ids)):\n",
    "    AYU_MISSING.append((ids[i],lat[i],lon[i]))\n",
    "\n",
    "AYU_MISSING = pd.DataFrame(AYU_MISSING)\n",
    "AYU_MISSING.columns = ['id_OSM','lat_OSM','lon_OSM']\n",
    "\n",
    "AYU_MISSING = AYU_MISSING.set_index('id_OSM')\n",
    "AYU_MISSING['coord'] = list(zip(AYU_MISSING.lat_OSM.values, AYU_MISSING.lon_OSM.values))\n",
    "\n",
    "os.chdir('/Volumes/MacintoshHD/_GitHub/doctordata/api/csv/')\n",
    "print('Saving to files...')\n",
    "AYU_CLOSE.to_csv(AYU_fichero[:-4]+'-edit.csv')\n",
    "AYU_NO.to_csv(AYU_fichero[:-4]+'-missing_OSM.csv')\n",
    "AYU_MISSING.to_csv(AYU_fichero[:-4]+'-missing_AYU.csv')\n"
   ]
  },
  {
   "cell_type": "markdown",
   "metadata": {},
   "source": [
    "## Close to edit"
   ]
  },
  {
   "cell_type": "code",
   "execution_count": 33,
   "metadata": {
    "collapsed": true
   },
   "outputs": [],
   "source": [
    "os.chdir('/Volumes/MacintoshHD/_GitHub/doctordata/api/web/')"
   ]
  },
  {
   "cell_type": "code",
   "execution_count": 43,
   "metadata": {
    "collapsed": true
   },
   "outputs": [],
   "source": [
    "map = folium.Map(location=SF_COORDINATES, zoom_start=11,max_zoom=20, control_scale = True, prefer_canvas=True)\n",
    "marker_cluster = MarkerCluster().add_to(map)\n",
    "for i in range(len(AYU_CLOSE.id_OSM.values)):\n",
    "    folium.Marker(icon=folium.Icon(color='blue'),popup=folium.Popup(str(AYU_CLOSE.index.values[i]), parse_html=True),\n",
    "        location = (AYU_CLOSE.LATITUD.values[i],AYU_CLOSE.LONGITUD.values[i])).add_to(marker_cluster)\n",
    "map.save(AYU_fichero[:-4]+'-edit.html')"
   ]
  },
  {
   "cell_type": "markdown",
   "metadata": {},
   "source": [
    "## Missing in OSM"
   ]
  },
  {
   "cell_type": "code",
   "execution_count": 35,
   "metadata": {
    "collapsed": true
   },
   "outputs": [],
   "source": [
    "map = folium.Map(location=SF_COORDINATES, zoom_start=11,max_zoom=18, control_scale = True, prefer_canvas=True)\n",
    "marker_cluster = MarkerCluster().add_to(map)\n",
    "for i in range(len(AYU_NO.id_OSM.values[:100])):\n",
    "    folium.Marker(icon=folium.Icon(color='blue'),popup=folium.Popup(AYU_NO.index.values[i], parse_html=True),\n",
    "        location = (AYU_NO.LATITUD.values[i],AYU_NO.LONGITUD.values[i])).add_to(marker_cluster)\n",
    "map.save(AYU_fichero[:-4]+'-missing_OSM.html')"
   ]
  },
  {
   "cell_type": "markdown",
   "metadata": {},
   "source": [
    "## Missing in Ayu website"
   ]
  },
  {
   "cell_type": "code",
   "execution_count": 36,
   "metadata": {
    "collapsed": true
   },
   "outputs": [],
   "source": [
    "map = folium.Map(location=SF_COORDINATES, zoom_start=11,max_zoom=20, control_scale = True, prefer_canvas=True)\n",
    "marker_cluster = MarkerCluster().add_to(map)\n",
    "for i in range(len(AYU_MISSING.index.values)):\n",
    "    folium.Marker(icon=folium.Icon(color='green'),popup=folium.Popup(AYU_MISSING.index.values[i], parse_html=True),\n",
    "        location = (AYU_MISSING.lat_OSM.values[i],AYU_MISSING.lon_OSM.values[i])).add_to(marker_cluster)\n",
    "map.save(AYU_fichero[:-4]+'-missing_AYU.html')"
   ]
  },
  {
   "cell_type": "code",
   "execution_count": null,
   "metadata": {
    "collapsed": true
   },
   "outputs": [],
   "source": []
  },
  {
   "cell_type": "code",
   "execution_count": null,
   "metadata": {
    "collapsed": true
   },
   "outputs": [],
   "source": []
  }
 ],
 "metadata": {
  "kernelspec": {
   "display_name": "Python [conda root]",
   "language": "python",
   "name": "conda-root-py"
  },
  "language_info": {
   "codemirror_mode": {
    "name": "ipython",
    "version": 3
   },
   "file_extension": ".py",
   "mimetype": "text/x-python",
   "name": "python",
   "nbconvert_exporter": "python",
   "pygments_lexer": "ipython3",
   "version": "3.5.3"
  }
 },
 "nbformat": 4,
 "nbformat_minor": 2
}
