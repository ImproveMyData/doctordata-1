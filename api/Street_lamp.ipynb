{
 "cells": [
  {
   "cell_type": "code",
   "execution_count": 11,
   "metadata": {
    "collapsed": true
   },
   "outputs": [],
   "source": [
    "import json\n",
    "import os\n",
    "import pandas as pd\n",
    "from difflib import SequenceMatcher\n",
    "import jellyfish\n",
    "from geopy.geocoders import Nominatim\n",
    "geolocator = Nominatim()\n",
    "from geopy.distance import great_circle\n",
    "import folium\n",
    "from folium.plugins import MarkerCluster\n",
    "from folium.plugins import HeatMap"
   ]
  },
  {
   "cell_type": "code",
   "execution_count": 12,
   "metadata": {
    "collapsed": true
   },
   "outputs": [],
   "source": [
    "#Center coordinates\n",
    "SF_COORDINATES = (40.4168, -3.7038)\n",
    "\n",
    "# for speed purposes\n",
    "MAX_RECORDS = 10"
   ]
  },
  {
   "cell_type": "code",
   "execution_count": 13,
   "metadata": {},
   "outputs": [
    {
     "data": {
      "text/plain": [
       "['.DS_Store',\n",
       " '.~lock.streetlamp_missing.csv#',\n",
       " '20171110_InventarioFuentes.csv',\n",
       " 'anexo i monumentos.xls',\n",
       " 'artwork.geojson',\n",
       " 'drinking_water.geojson',\n",
       " 'indice.csv',\n",
       " 'memorial.geojson',\n",
       " 'monument.geojson',\n",
       " 'street_lamp.geojson']"
      ]
     },
     "execution_count": 13,
     "metadata": {},
     "output_type": "execute_result"
    }
   ],
   "source": [
    "os.chdir('/Volumes/MacintoshHD/_GitHub/doctordata/api/data/')\n",
    "os.listdir()"
   ]
  },
  {
   "cell_type": "code",
   "execution_count": 14,
   "metadata": {
    "collapsed": true
   },
   "outputs": [],
   "source": [
    "OSM_fichero = 'street_lamp.geojson'\n",
    "#AYU_fichero = '20171110_InventarioFuentes.csv'"
   ]
  },
  {
   "cell_type": "code",
   "execution_count": 15,
   "metadata": {
    "collapsed": true
   },
   "outputs": [],
   "source": [
    "with open(OSM_fichero) as f:\n",
    "    OSM = json.load(f)\n",
    "f.close()"
   ]
  },
  {
   "cell_type": "code",
   "execution_count": 16,
   "metadata": {},
   "outputs": [],
   "source": [
    "ids = [OSM['features'][i]['id'] for i in range(len(OSM['features']))]\n",
    "lat = [OSM['features'][i]['geometry']['coordinates'][1] for i in range(len(OSM['features']))]\n",
    "lon = [OSM['features'][i]['geometry']['coordinates'][0] for i in range(len(OSM['features']))]\n",
    "#name = [OSM['features'][i]['properties']['name'] for i in range(len(OSM['features']))]\n",
    "ayu = ids[:]"
   ]
  },
  {
   "cell_type": "code",
   "execution_count": 17,
   "metadata": {
    "collapsed": true
   },
   "outputs": [],
   "source": [
    "AYU_MISSING = []\n",
    "for i in range(len(ids)):\n",
    "    if isinstance(ayu[i], str):\n",
    "        AYU_MISSING.append((ids[i],lat[i],lon[i]))\n",
    "        \n",
    "AYU_MISSING = pd.DataFrame(AYU_MISSING)\n",
    "AYU_MISSING.columns = ['id_OSM','LATITUD','LONGITUD']\n",
    "\n",
    "AYU_MISSING = AYU_MISSING.set_index('id_OSM')\n",
    "AYU_MISSING['coord'] = list(zip(AYU_MISSING.LATITUD.values, AYU_MISSING.LONGITUD.values))"
   ]
  },
  {
   "cell_type": "code",
   "execution_count": 22,
   "metadata": {
    "collapsed": true
   },
   "outputs": [],
   "source": [
    "os.chdir('/Volumes/MacintoshHD/_GitHub/doctordata/api/csv/')\n",
    "AYU_MISSING.to_csv(OSM_fichero[:-8]+'-missing.csv')"
   ]
  },
  {
   "cell_type": "code",
   "execution_count": 19,
   "metadata": {
    "collapsed": true
   },
   "outputs": [],
   "source": [
    "os.chdir('/Volumes/MacintoshHD/_GitHub/doctordata/api/web/')"
   ]
  },
  {
   "cell_type": "code",
   "execution_count": 20,
   "metadata": {},
   "outputs": [],
   "source": [
    "map = folium.Map(location=SF_COORDINATES, zoom_start=11)\n",
    "marker_cluster = MarkerCluster().add_to(map)\n",
    "for i in range(len(AYU_MISSING.index.values)):\n",
    "    folium.Marker(icon=folium.Icon(color='green'),popup=folium.Popup(AYU_MISSING.index.values[i], parse_html=True),\n",
    "        location = (AYU_MISSING.LATITUD.values[i],AYU_MISSING.LONGITUD.values[i])).add_to(marker_cluster)\n",
    "map.save(OSM_fichero[:-8]+'-missing_Ayu.html')"
   ]
  },
  {
   "cell_type": "code",
   "execution_count": 21,
   "metadata": {},
   "outputs": [],
   "source": [
    "map = folium.Map(location=SF_COORDINATES, zoom_start=11)\n",
    "HeatMap(AYU_MISSING['coord'].values).add_to(map)\n",
    "map.save(OSM_fichero[:-8]+'-missing_Ayu_heat.html')"
   ]
  },
  {
   "cell_type": "code",
   "execution_count": null,
   "metadata": {},
   "outputs": [],
   "source": [
    "map"
   ]
  },
  {
   "cell_type": "code",
   "execution_count": null,
   "metadata": {
    "collapsed": true
   },
   "outputs": [],
   "source": []
  }
 ],
 "metadata": {
  "kernelspec": {
   "display_name": "Python [conda root]",
   "language": "python",
   "name": "conda-root-py"
  },
  "language_info": {
   "codemirror_mode": {
    "name": "ipython",
    "version": 3
   },
   "file_extension": ".py",
   "mimetype": "text/x-python",
   "name": "python",
   "nbconvert_exporter": "python",
   "pygments_lexer": "ipython3",
   "version": "3.5.3"
  }
 },
 "nbformat": 4,
 "nbformat_minor": 2
}
